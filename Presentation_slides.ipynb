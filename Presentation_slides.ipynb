{
 "cells": [
  {
   "cell_type": "markdown",
   "metadata": {
    "slideshow": {
     "slide_type": "slide"
    }
   },
   "source": [
    "# Technical Breakdown of Predictive Models"
   ]
  },
  {
   "cell_type": "markdown",
   "metadata": {
    "slideshow": {
     "slide_type": "slide"
    }
   },
   "source": [
    "### Cluster Analysis of Flavors"
   ]
  },
  {
   "cell_type": "code",
   "execution_count": 1,
   "metadata": {
    "slideshow": {
     "slide_type": "skip"
    }
   },
   "outputs": [],
   "source": [
    "import pandas as pd\n",
    "import re\n",
    "import numpy as np\n",
    "import os\n",
    "%matplotlib inline\n",
    "import matplotlib.pyplot as plt\n",
    "import string\n",
    "from flavors import *"
   ]
  },
  {
   "cell_type": "code",
   "execution_count": 2,
   "metadata": {
    "slideshow": {
     "slide_type": "skip"
    }
   },
   "outputs": [
    {
     "name": "stdout",
     "output_type": "stream",
     "text": [
      "['flower', 'iris', 'peony', 'elderflower', 'acacia', 'lilac', 'jasmine', 'honeysuckle', 'violet', 'lavender', 'rose', 'potpourri', 'hibiscus', 'citrus', 'lime', 'lemon', 'grapefruit', 'orange', 'marmalade', 'tree fruit', 'quince', 'apple', 'pear', 'nectarine', 'peach', 'apricot', 'persimmon', 'tropical fruit', 'pineapple', 'mango', 'guava', 'passion fruit', 'lychee', 'bubblegum', 'red fruit', 'cranberry', 'red plum', 'pomegranate', 'sour cherry', 'strawberry', 'cherry', 'raspberry', 'black fruit', 'boysenberry', 'black currant', 'black cherry', 'plum', 'blackberry', 'blueberry', 'olive', 'dried fruit', 'raisin', 'fig', 'date', 'fruitcake', 'noble rot', 'beeswax', 'ginger', 'honey', 'spice', 'white pepper', 'red pepper', 'black pepper', 'cinnamon', 'anise', '5-spice', 'fennel', 'eucalyptus', 'mint', 'thyme', 'vegetable', 'grass', 'tomato leaf', 'gooseberry', 'bell pepper', 'jalapeño', 'bitter almond', 'tomato', 'sun-dried tomato', 'black tea', 'earth', 'clay pot', 'slate', 'wet gravel', 'potting soil', 'red beet', 'volcanic rocks', 'petroleum', 'microbial', 'butter', 'cream', 'sourdough', 'lager', 'truffle', 'mushroom', 'oak aging', 'vanilla', 'coconut', 'baking spices', 'cigar box', 'smoke', 'dill', 'general aging', 'dried fruit', 'nutty flavors', 'tobacco', 'coffee', 'cocoa', 'leather', 'cork taint', 'corked', 'musty cardboard', 'wet dog', 'sulfides', 'cured meat', 'boiled eggs', 'burnt rubber', 'lit match', 'garlic', 'onion', 'cat pee', 'brettanomyces', 'black cardamon', 'band-aid', 'sweaty leather saddle', 'horse manure', 'madeirized', 'cooked', 'toffee', 'stewed fruit', 'volatile acidity', 'vinegar', 'nail polish remover']\n"
     ]
    }
   ],
   "source": [
    "lower_flavor = []\n",
    "for w in flavor_list:\n",
    "    #print(w.lower())\n",
    "    lower_flavor.append(w.lower())\n",
    "#print(lower_flavor)\n",
    "flavor_list = lower_flavor\n",
    "print(flavor_list)"
   ]
  },
  {
   "cell_type": "code",
   "execution_count": 3,
   "metadata": {
    "slideshow": {
     "slide_type": "skip"
    }
   },
   "outputs": [
    {
     "data": {
      "text/html": [
       "<div>\n",
       "<style scoped>\n",
       "    .dataframe tbody tr th:only-of-type {\n",
       "        vertical-align: middle;\n",
       "    }\n",
       "\n",
       "    .dataframe tbody tr th {\n",
       "        vertical-align: top;\n",
       "    }\n",
       "\n",
       "    .dataframe thead th {\n",
       "        text-align: right;\n",
       "    }\n",
       "</style>\n",
       "<table border=\"1\" class=\"dataframe\">\n",
       "  <thead>\n",
       "    <tr style=\"text-align: right;\">\n",
       "      <th></th>\n",
       "      <th>obs_id</th>\n",
       "      <th>title</th>\n",
       "      <th>winery</th>\n",
       "      <th>country</th>\n",
       "      <th>province</th>\n",
       "      <th>variety</th>\n",
       "      <th>description</th>\n",
       "      <th>points</th>\n",
       "      <th>price</th>\n",
       "    </tr>\n",
       "  </thead>\n",
       "  <tbody>\n",
       "    <tr>\n",
       "      <th>0</th>\n",
       "      <td>0</td>\n",
       "      <td>Nicosia 2013 Vulkà Bianco  (Etna)</td>\n",
       "      <td>Nicosia</td>\n",
       "      <td>Italy</td>\n",
       "      <td>Sicily &amp; Sardinia</td>\n",
       "      <td>White Blend</td>\n",
       "      <td>Aromas include tropical fruit, broom, brimston...</td>\n",
       "      <td>87</td>\n",
       "      <td>NaN</td>\n",
       "    </tr>\n",
       "    <tr>\n",
       "      <th>1</th>\n",
       "      <td>1</td>\n",
       "      <td>Quinta dos Avidagos 2011 Avidagos Red (Douro)</td>\n",
       "      <td>Quinta dos Avidagos</td>\n",
       "      <td>Portugal</td>\n",
       "      <td>Douro</td>\n",
       "      <td>Portuguese Red</td>\n",
       "      <td>This is ripe and fruity, a wine that is smooth...</td>\n",
       "      <td>87</td>\n",
       "      <td>15.0</td>\n",
       "    </tr>\n",
       "    <tr>\n",
       "      <th>2</th>\n",
       "      <td>2</td>\n",
       "      <td>Rainstorm 2013 Pinot Gris (Willamette Valley)</td>\n",
       "      <td>Rainstorm</td>\n",
       "      <td>US</td>\n",
       "      <td>Oregon</td>\n",
       "      <td>Pinot Gris</td>\n",
       "      <td>Tart and snappy, the flavors of lime flesh and...</td>\n",
       "      <td>87</td>\n",
       "      <td>14.0</td>\n",
       "    </tr>\n",
       "    <tr>\n",
       "      <th>3</th>\n",
       "      <td>3</td>\n",
       "      <td>St. Julian 2013 Reserve Late Harvest Riesling ...</td>\n",
       "      <td>St. Julian</td>\n",
       "      <td>US</td>\n",
       "      <td>Michigan</td>\n",
       "      <td>Riesling</td>\n",
       "      <td>Pineapple rind, lemon pith and orange blossom ...</td>\n",
       "      <td>87</td>\n",
       "      <td>13.0</td>\n",
       "    </tr>\n",
       "    <tr>\n",
       "      <th>4</th>\n",
       "      <td>4</td>\n",
       "      <td>Sweet Cheeks 2012 Vintner's Reserve Wild Child...</td>\n",
       "      <td>Sweet Cheeks</td>\n",
       "      <td>US</td>\n",
       "      <td>Oregon</td>\n",
       "      <td>Pinot Noir</td>\n",
       "      <td>Much like the regular bottling from 2012, this...</td>\n",
       "      <td>87</td>\n",
       "      <td>65.0</td>\n",
       "    </tr>\n",
       "  </tbody>\n",
       "</table>\n",
       "</div>"
      ],
      "text/plain": [
       "   obs_id                                              title  \\\n",
       "0       0                  Nicosia 2013 Vulkà Bianco  (Etna)   \n",
       "1       1      Quinta dos Avidagos 2011 Avidagos Red (Douro)   \n",
       "2       2      Rainstorm 2013 Pinot Gris (Willamette Valley)   \n",
       "3       3  St. Julian 2013 Reserve Late Harvest Riesling ...   \n",
       "4       4  Sweet Cheeks 2012 Vintner's Reserve Wild Child...   \n",
       "\n",
       "                winery   country           province         variety  \\\n",
       "0              Nicosia     Italy  Sicily & Sardinia     White Blend   \n",
       "1  Quinta dos Avidagos  Portugal              Douro  Portuguese Red   \n",
       "2            Rainstorm        US             Oregon      Pinot Gris   \n",
       "3           St. Julian        US           Michigan        Riesling   \n",
       "4         Sweet Cheeks        US             Oregon      Pinot Noir   \n",
       "\n",
       "                                         description  points  price  \n",
       "0  Aromas include tropical fruit, broom, brimston...      87    NaN  \n",
       "1  This is ripe and fruity, a wine that is smooth...      87   15.0  \n",
       "2  Tart and snappy, the flavors of lime flesh and...      87   14.0  \n",
       "3  Pineapple rind, lemon pith and orange blossom ...      87   13.0  \n",
       "4  Much like the regular bottling from 2012, this...      87   65.0  "
      ]
     },
     "execution_count": 3,
     "metadata": {},
     "output_type": "execute_result"
    }
   ],
   "source": [
    "df = pd.read_csv(os.path.join(\"wineData.csv\"))\n",
    "df.head()"
   ]
  },
  {
   "cell_type": "code",
   "execution_count": 4,
   "metadata": {
    "slideshow": {
     "slide_type": "skip"
    }
   },
   "outputs": [
    {
     "data": {
      "text/html": [
       "<div>\n",
       "<style scoped>\n",
       "    .dataframe tbody tr th:only-of-type {\n",
       "        vertical-align: middle;\n",
       "    }\n",
       "\n",
       "    .dataframe tbody tr th {\n",
       "        vertical-align: top;\n",
       "    }\n",
       "\n",
       "    .dataframe thead th {\n",
       "        text-align: right;\n",
       "    }\n",
       "</style>\n",
       "<table border=\"1\" class=\"dataframe\">\n",
       "  <thead>\n",
       "    <tr style=\"text-align: right;\">\n",
       "      <th></th>\n",
       "      <th>description</th>\n",
       "      <th>points</th>\n",
       "    </tr>\n",
       "  </thead>\n",
       "  <tbody>\n",
       "    <tr>\n",
       "      <th>0</th>\n",
       "      <td>Aromas include tropical fruit, broom, brimston...</td>\n",
       "      <td>87</td>\n",
       "    </tr>\n",
       "    <tr>\n",
       "      <th>1</th>\n",
       "      <td>This is ripe and fruity, a wine that is smooth...</td>\n",
       "      <td>87</td>\n",
       "    </tr>\n",
       "    <tr>\n",
       "      <th>2</th>\n",
       "      <td>Tart and snappy, the flavors of lime flesh and...</td>\n",
       "      <td>87</td>\n",
       "    </tr>\n",
       "    <tr>\n",
       "      <th>3</th>\n",
       "      <td>Pineapple rind, lemon pith and orange blossom ...</td>\n",
       "      <td>87</td>\n",
       "    </tr>\n",
       "    <tr>\n",
       "      <th>4</th>\n",
       "      <td>Much like the regular bottling from 2012, this...</td>\n",
       "      <td>87</td>\n",
       "    </tr>\n",
       "  </tbody>\n",
       "</table>\n",
       "</div>"
      ],
      "text/plain": [
       "                                         description  points\n",
       "0  Aromas include tropical fruit, broom, brimston...      87\n",
       "1  This is ripe and fruity, a wine that is smooth...      87\n",
       "2  Tart and snappy, the flavors of lime flesh and...      87\n",
       "3  Pineapple rind, lemon pith and orange blossom ...      87\n",
       "4  Much like the regular bottling from 2012, this...      87"
      ]
     },
     "execution_count": 4,
     "metadata": {},
     "output_type": "execute_result"
    }
   ],
   "source": [
    "desc_df = df[[\"description\", \"points\"]]\n",
    "desc_df.head()"
   ]
  },
  {
   "cell_type": "code",
   "execution_count": 5,
   "metadata": {
    "slideshow": {
     "slide_type": "skip"
    }
   },
   "outputs": [
    {
     "data": {
      "text/plain": [
       "description    129971\n",
       "points         129971\n",
       "dtype: int64"
      ]
     },
     "execution_count": 5,
     "metadata": {},
     "output_type": "execute_result"
    }
   ],
   "source": [
    "desc_df.count()"
   ]
  },
  {
   "cell_type": "code",
   "execution_count": 6,
   "metadata": {
    "slideshow": {
     "slide_type": "skip"
    }
   },
   "outputs": [
    {
     "data": {
      "text/html": [
       "<div>\n",
       "<style scoped>\n",
       "    .dataframe tbody tr th:only-of-type {\n",
       "        vertical-align: middle;\n",
       "    }\n",
       "\n",
       "    .dataframe tbody tr th {\n",
       "        vertical-align: top;\n",
       "    }\n",
       "\n",
       "    .dataframe thead th {\n",
       "        text-align: right;\n",
       "    }\n",
       "</style>\n",
       "<table border=\"1\" class=\"dataframe\">\n",
       "  <thead>\n",
       "    <tr style=\"text-align: right;\">\n",
       "      <th></th>\n",
       "      <th>description</th>\n",
       "      <th>points</th>\n",
       "    </tr>\n",
       "  </thead>\n",
       "  <tbody>\n",
       "    <tr>\n",
       "      <th>0</th>\n",
       "      <td>Aromas include tropical fruit, broom, brimston...</td>\n",
       "      <td>87</td>\n",
       "    </tr>\n",
       "    <tr>\n",
       "      <th>1</th>\n",
       "      <td>This is ripe and fruity, a wine that is smooth...</td>\n",
       "      <td>87</td>\n",
       "    </tr>\n",
       "    <tr>\n",
       "      <th>2</th>\n",
       "      <td>Tart and snappy, the flavors of lime flesh and...</td>\n",
       "      <td>87</td>\n",
       "    </tr>\n",
       "    <tr>\n",
       "      <th>3</th>\n",
       "      <td>Pineapple rind, lemon pith and orange blossom ...</td>\n",
       "      <td>87</td>\n",
       "    </tr>\n",
       "    <tr>\n",
       "      <th>4</th>\n",
       "      <td>Much like the regular bottling from 2012, this...</td>\n",
       "      <td>87</td>\n",
       "    </tr>\n",
       "  </tbody>\n",
       "</table>\n",
       "</div>"
      ],
      "text/plain": [
       "                                         description  points\n",
       "0  Aromas include tropical fruit, broom, brimston...      87\n",
       "1  This is ripe and fruity, a wine that is smooth...      87\n",
       "2  Tart and snappy, the flavors of lime flesh and...      87\n",
       "3  Pineapple rind, lemon pith and orange blossom ...      87\n",
       "4  Much like the regular bottling from 2012, this...      87"
      ]
     },
     "execution_count": 6,
     "metadata": {},
     "output_type": "execute_result"
    }
   ],
   "source": [
    "desc_df.head()"
   ]
  },
  {
   "cell_type": "code",
   "execution_count": 7,
   "metadata": {
    "slideshow": {
     "slide_type": "skip"
    }
   },
   "outputs": [],
   "source": [
    "def word_cleaner(word):\n",
    "    return word in flavor_list"
   ]
  },
  {
   "cell_type": "code",
   "execution_count": 8,
   "metadata": {
    "slideshow": {
     "slide_type": "skip"
    }
   },
   "outputs": [],
   "source": [
    "def func_to_apply_to_each_row(cell):\n",
    "    line = re.sub(r'[^\\w\\s]','',cell)\n",
    "    #return list(filter(word_cleaner, line.split(\" \")))\n",
    "    lst = list(filter(word_cleaner, line.split(\" \")))\n",
    "    lst = list(set(lst))\n",
    "    return (' '.join(lst))"
   ]
  },
  {
   "cell_type": "code",
   "execution_count": 9,
   "metadata": {
    "slideshow": {
     "slide_type": "skip"
    }
   },
   "outputs": [
    {
     "name": "stderr",
     "output_type": "stream",
     "text": [
      "/anaconda3/lib/python3.6/site-packages/ipykernel_launcher.py:2: SettingWithCopyWarning: \n",
      "A value is trying to be set on a copy of a slice from a DataFrame.\n",
      "Try using .loc[row_indexer,col_indexer] = value instead\n",
      "\n",
      "See the caveats in the documentation: http://pandas.pydata.org/pandas-docs/stable/indexing.html#indexing-view-versus-copy\n",
      "  \n"
     ]
    }
   ],
   "source": [
    "#apply applies a function to every row, with the specified column\n",
    "desc_df['clean_list'] = desc_df['description'].apply(func_to_apply_to_each_row)"
   ]
  },
  {
   "cell_type": "code",
   "execution_count": 10,
   "metadata": {
    "slideshow": {
     "slide_type": "skip"
    }
   },
   "outputs": [
    {
     "data": {
      "text/html": [
       "<div>\n",
       "<style scoped>\n",
       "    .dataframe tbody tr th:only-of-type {\n",
       "        vertical-align: middle;\n",
       "    }\n",
       "\n",
       "    .dataframe tbody tr th {\n",
       "        vertical-align: top;\n",
       "    }\n",
       "\n",
       "    .dataframe thead th {\n",
       "        text-align: right;\n",
       "    }\n",
       "</style>\n",
       "<table border=\"1\" class=\"dataframe\">\n",
       "  <thead>\n",
       "    <tr style=\"text-align: right;\">\n",
       "      <th></th>\n",
       "      <th>description</th>\n",
       "      <th>points</th>\n",
       "      <th>clean_list</th>\n",
       "    </tr>\n",
       "  </thead>\n",
       "  <tbody>\n",
       "    <tr>\n",
       "      <th>0</th>\n",
       "      <td>Aromas include tropical fruit, broom, brimston...</td>\n",
       "      <td>87</td>\n",
       "      <td>citrus apple</td>\n",
       "    </tr>\n",
       "    <tr>\n",
       "      <th>1</th>\n",
       "      <td>This is ripe and fruity, a wine that is smooth...</td>\n",
       "      <td>87</td>\n",
       "      <td></td>\n",
       "    </tr>\n",
       "    <tr>\n",
       "      <th>2</th>\n",
       "      <td>Tart and snappy, the flavors of lime flesh and...</td>\n",
       "      <td>87</td>\n",
       "      <td>lime pineapple</td>\n",
       "    </tr>\n",
       "    <tr>\n",
       "      <th>3</th>\n",
       "      <td>Pineapple rind, lemon pith and orange blossom ...</td>\n",
       "      <td>87</td>\n",
       "      <td>guava mango orange lemon</td>\n",
       "    </tr>\n",
       "    <tr>\n",
       "      <th>4</th>\n",
       "      <td>Much like the regular bottling from 2012, this...</td>\n",
       "      <td>87</td>\n",
       "      <td></td>\n",
       "    </tr>\n",
       "  </tbody>\n",
       "</table>\n",
       "</div>"
      ],
      "text/plain": [
       "                                         description  points  \\\n",
       "0  Aromas include tropical fruit, broom, brimston...      87   \n",
       "1  This is ripe and fruity, a wine that is smooth...      87   \n",
       "2  Tart and snappy, the flavors of lime flesh and...      87   \n",
       "3  Pineapple rind, lemon pith and orange blossom ...      87   \n",
       "4  Much like the regular bottling from 2012, this...      87   \n",
       "\n",
       "                 clean_list  \n",
       "0              citrus apple  \n",
       "1                            \n",
       "2            lime pineapple  \n",
       "3  guava mango orange lemon  \n",
       "4                            "
      ]
     },
     "execution_count": 10,
     "metadata": {},
     "output_type": "execute_result"
    }
   ],
   "source": [
    "desc_df.head()"
   ]
  },
  {
   "cell_type": "code",
   "execution_count": null,
   "metadata": {
    "slideshow": {
     "slide_type": "skip"
    }
   },
   "outputs": [],
   "source": [
    "# csvpath = \"flavor_data.csv\"\n",
    "# #desc_df.to_csv(csvpath)"
   ]
  },
  {
   "cell_type": "code",
   "execution_count": 11,
   "metadata": {
    "slideshow": {
     "slide_type": "skip"
    }
   },
   "outputs": [],
   "source": [
    "flavorData = list(desc_df.clean_list.values)"
   ]
  },
  {
   "cell_type": "code",
   "execution_count": 12,
   "metadata": {
    "slideshow": {
     "slide_type": "skip"
    }
   },
   "outputs": [],
   "source": [
    "from sklearn.feature_extraction.text import TfidfVectorizer , CountVectorizer"
   ]
  },
  {
   "cell_type": "code",
   "execution_count": 13,
   "metadata": {
    "slideshow": {
     "slide_type": "skip"
    }
   },
   "outputs": [],
   "source": [
    "tfidf_vectorizer = TfidfVectorizer(min_df=2, max_df=0.95, max_features=1000)\n",
    "tfidf = tfidf_vectorizer.fit_transform(flavorData)\n",
    "tfidf_feature_names = tfidf_vectorizer.get_feature_names()"
   ]
  },
  {
   "cell_type": "code",
   "execution_count": 14,
   "metadata": {
    "slideshow": {
     "slide_type": "skip"
    }
   },
   "outputs": [],
   "source": [
    "tf_vectorizer = CountVectorizer(max_df=0.95, min_df=2, max_features=1000)\n",
    "tf = tf_vectorizer.fit_transform(flavorData)\n",
    "tf_feature_names = tf_vectorizer.get_feature_names()"
   ]
  },
  {
   "cell_type": "code",
   "execution_count": 15,
   "metadata": {
    "slideshow": {
     "slide_type": "slide"
    }
   },
   "outputs": [],
   "source": [
    "from sklearn.decomposition import NMF , LatentDirichletAllocation\n",
    "nmf = NMF(n_components = 28 , random_state=1 , alpha=.1 , l1_ratio=.5 , init='nndsvd').fit(tfidf)\n",
    "lda = LatentDirichletAllocation(n_components=28 , max_iter=10 , learning_method='online' , learning_offset=50., random_state=0)\n",
    "lda_v = lda.fit(tf)"
   ]
  },
  {
   "cell_type": "code",
   "execution_count": 16,
   "metadata": {
    "slideshow": {
     "slide_type": "skip"
    }
   },
   "outputs": [
    {
     "name": "stdout",
     "output_type": "stream",
     "text": [
      "Topic 0:\n",
      "cherry violet anise rose pomegranate cocoa mushroom truffle eucalyptus thyme\n",
      "Topic 1:\n",
      "spice violet cocoa rose lychee raisin ginger anise tomato boysenberry\n",
      "Topic 2:\n",
      "apple nectarine butter ginger honeysuckle cream acacia quince jasmine beeswax\n",
      "Topic 3:\n",
      "blackberry raisin boysenberry cocoa anise olive coconut fig violet lavender\n",
      "Topic 4:\n",
      "plum tomato raisin olive cocoa fig boysenberry violet coconut thyme\n",
      "Topic 5:\n",
      "citrus nectarine grass gooseberry lychee fig tomato honeysuckle beeswax acacia\n",
      "Topic 6:\n",
      "vanilla cream coconut butter cocoa honeysuckle dill raisin fig boysenberry\n",
      "Topic 7:\n",
      "raspberry rose violet pomegranate cocoa tomato anise boysenberry iris thyme\n",
      "Topic 8:\n",
      "lemon butter honeysuckle cream grass nectarine quince ginger beeswax jasmine\n",
      "Topic 9:\n",
      "peach nectarine honeysuckle mango jasmine rose butter lychee tomato grass\n",
      "Topic 10:\n",
      "pear nectarine butter honeysuckle quince cream ginger jasmine fig beeswax\n",
      "Topic 11:\n",
      "tobacco olive raisin anise violet fig tomato cocoa coconut truffle\n",
      "Topic 12:\n",
      "strawberry rose thyme bubblegum pomegranate fennel anise lavender violet cream\n",
      "Topic 13:\n",
      "orange marmalade rose mango honeysuckle nectarine jasmine violet lychee pomegranate\n",
      "Topic 14:\n",
      "coffee cocoa olive coconut anise raisin fig toffee violet boysenberry\n",
      "Topic 15:\n",
      "lime grass nectarine gooseberry mango honeysuckle lychee slate guava jasmine\n",
      "Topic 16:\n",
      "leather violet truffle anise rose mushroom raisin eucalyptus iris boysenberry\n",
      "Topic 17:\n",
      "honey acacia marmalade jasmine mango cream rose beeswax ginger fig\n",
      "Topic 18:\n",
      "earth olive mushroom rose raisin tomato truffle anise violet slate\n",
      "Topic 19:\n",
      "grapefruit gooseberry tomato grass nectarine rose lychee fig slate mango\n",
      "Topic 20:\n",
      "pineapple mango guava cream butter honeysuckle fig lychee grass coconut\n",
      "Topic 21:\n",
      "cinnamon rose anise violet cocoa ginger truffle hibiscus cream iris\n",
      "Topic 22:\n",
      "apricot mango honeysuckle rose ginger nectarine cream jasmine fig toffee\n",
      "Topic 23:\n",
      "blueberry boysenberry violet lavender cocoa olive thyme raisin dill anise\n",
      "Topic 24:\n",
      "cranberry pomegranate rose thyme anise slate violet eucalyptus hibiscus lavender\n",
      "Topic 25:\n",
      "smoke olive slate boysenberry butter thyme pomegranate mushroom fennel fig\n",
      "Topic 26:\n",
      "mint rose anise violet thyme eucalyptus olive boysenberry iris truffle\n",
      "Topic 27:\n",
      "flower anise nectarine acacia beeswax ginger thyme truffle rose grass\n",
      "Topic 0:\n",
      "apple rose nectarine potpourri corked lemon peach persimmon citrus lychee\n",
      "Topic 1:\n",
      "coffee cherry fennel corked coconut plum date fruitcake eucalyptus blackberry\n",
      "Topic 2:\n",
      "spice date fruitcake cherry plum potpourri persimmon coconut raspberry blackberry\n",
      "Topic 3:\n",
      "lemon cranberry guava jalapeño sourdough apple grass elderflower cherry peach\n",
      "Topic 4:\n",
      "cinnamon thyme cherry potpourri eucalyptus rose raspberry plum spice truffle\n",
      "Topic 5:\n",
      "smoke cherry plum blackberry spice date marmalade petroleum raspberry cranberry\n",
      "Topic 6:\n",
      "grapefruit violet gooseberry iris elderflower grass cherry rose potpourri lemon\n",
      "Topic 7:\n",
      "apricot peach marmalade jasmine nectarine date acacia lemon pineapple honeysuckle\n",
      "Topic 8:\n",
      "ginger dill cooked bubblegum potpourri coconut nectarine date eucalyptus cherry\n",
      "Topic 9:\n",
      "peach flower grass lychee nectarine acacia vegetable apple jasmine citrus\n",
      "Topic 10:\n",
      "pomegranate fig mushroom beeswax persimmon date cherry potpourri cranberry vegetable\n",
      "Topic 11:\n",
      "tobacco earth cherry plum truffle spice blackberry potpourri coconut raspberry\n",
      "Topic 12:\n",
      "blackberry cherry mint eucalyptus truffle fruitcake brettanomyces spice plum coconut\n",
      "Topic 13:\n",
      "citrus marmalade elderflower vegetable apple grass nectarine peach sourdough jalapeño\n",
      "Topic 14:\n",
      "orange mango marmalade guava fruitcake potpourri lychee jasmine pineapple date\n",
      "Topic 15:\n",
      "strawberry pineapple guava mango cherry sourdough rose raspberry peach peony\n",
      "Topic 16:\n",
      "leather cherry tobacco vinegar brettanomyces corked truffle plum spice iris\n",
      "Topic 17:\n",
      "cherry plum coconut persimmon raspberry spice rose cranberry violet vanilla\n",
      "Topic 18:\n",
      "raisin lavender toffee hibiscus lilac elderflower potpourri date plum rose\n",
      "Topic 19:\n",
      "pear apple jasmine peach lemon acacia petroleum citrus flower nectarine\n",
      "Topic 20:\n",
      "cream butter vanilla peony sourdough coconut apple marmalade lemon pineapple\n",
      "Topic 21:\n",
      "honey peach marmalade acacia jasmine sourdough potpourri lemon apple date\n",
      "Topic 22:\n",
      "blueberry boysenberry blackberry acacia petroleum potpourri plum date elderflower cherry\n",
      "Topic 23:\n",
      "anise cocoa honeysuckle cherry jasmine iris plum rose truffle raspberry\n",
      "Topic 24:\n",
      "plum raspberry potpourri vegetable cherry persimmon eucalyptus spice rose truffle\n",
      "Topic 25:\n",
      "vanilla coconut plum cherry date spice raspberry blackberry mint tobacco\n",
      "Topic 26:\n",
      "olive tomato slate onion elderflower eucalyptus garlic plum potpourri vegetable\n",
      "Topic 27:\n",
      "lime lemon quince garlic apple grass jalapeño nectarine sourdough gooseberry\n"
     ]
    }
   ],
   "source": [
    "def display_topics(model, feature_names, no_top_words):\n",
    "    for topic_idx, topic in enumerate(model.components_):\n",
    "        print (\"Topic %d:\" % (topic_idx))\n",
    "        print (\" \".join([feature_names[i]\n",
    "                        for i in topic.argsort()[:-no_top_words - 1:-1]]))\n",
    "\n",
    "no_top_words = 10\n",
    "display_topics(nmf, tfidf_feature_names, no_top_words)\n",
    "display_topics(lda_v, tf_feature_names, no_top_words)"
   ]
  },
  {
   "cell_type": "code",
   "execution_count": 17,
   "metadata": {
    "slideshow": {
     "slide_type": "skip"
    }
   },
   "outputs": [],
   "source": [
    "import pyLDAvis.sklearn"
   ]
  },
  {
   "cell_type": "code",
   "execution_count": 18,
   "metadata": {
    "slideshow": {
     "slide_type": "-"
    }
   },
   "outputs": [],
   "source": [
    "pyLDAvis.enable_notebook()\n",
    "panel = pyLDAvis.sklearn.prepare(lda, tf, tf_vectorizer, mds='tsne')"
   ]
  },
  {
   "cell_type": "code",
   "execution_count": 19,
   "metadata": {
    "slideshow": {
     "slide_type": "subslide"
    }
   },
   "outputs": [
    {
     "data": {
      "text/html": [
       "\n",
       "<link rel=\"stylesheet\" type=\"text/css\" href=\"https://cdn.rawgit.com/bmabey/pyLDAvis/files/ldavis.v1.0.0.css\">\n",
       "\n",
       "\n",
       "<div id=\"ldavis_el110147389926729841866013\"></div>\n",
       "<script type=\"text/javascript\">\n",
       "\n",
       "var ldavis_el110147389926729841866013_data = {\"mdsDat\": {\"Freq\": [8.063109477973432, 6.588446980238357, 6.5039640395797, 6.479694074120132, 4.882460985552256, 4.671929514054862, 4.402661113755131, 4.265203932128727, 4.081827757239648, 3.957303071386849, 3.658826876766255, 3.3617150419641586, 3.329758616196828, 3.0749087913778435, 2.979779144847371, 2.9722989607509427, 2.778708765904414, 2.7579151590577897, 2.6846779854878737, 2.4538783736942937, 2.4521308390949543, 2.16522407978906, 2.119377230262653, 2.0422241116684536, 1.9108877835112434, 1.892882306351907, 1.875521050807135, 1.5926839364377228], \"cluster\": [1, 1, 1, 1, 1, 1, 1, 1, 1, 1, 1, 1, 1, 1, 1, 1, 1, 1, 1, 1, 1, 1, 1, 1, 1, 1, 1, 1], \"topics\": [1, 2, 3, 4, 5, 6, 7, 8, 9, 10, 11, 12, 13, 14, 15, 16, 17, 18, 19, 20, 21, 22, 23, 24, 25, 26, 27, 28], \"x\": [-0.8776597380638123, 9.59959602355957, -49.286434173583984, -62.234554290771484, 70.37366485595703, -13.868025779724121, 91.99564361572266, -33.41261672973633, 4.627056121826172, -61.23811340332031, -100.52826690673828, 69.86659240722656, 3.699733018875122, -25.740102767944336, -139.7901611328125, 58.05097961425781, -83.3060073852539, 42.093482971191406, 34.46387481689453, 136.91860961914062, 70.5646743774414, -61.86105728149414, 108.98889923095703, -128.44467163085938, 22.637163162231445, -100.7295150756836, 109.25533294677734, 148.3376922607422], \"y\": [-31.491487503051758, 49.89834976196289, 61.24966049194336, -126.93144226074219, -118.35302734375, 99.53496551513672, -1.6623103618621826, -75.60595703125, 155.27658081054688, -29.24921226501465, -76.14595031738281, 47.70616149902344, -136.7672882080078, 12.574601173400879, 41.03317642211914, -42.8255729675293, 20.117088317871094, 94.09906005859375, 5.821040630340576, 41.57915115356445, 145.6772003173828, 136.4834747314453, 94.84170532226562, -22.942676544189453, -81.10576629638672, 89.22252655029297, -70.99396514892578, -22.607940673828125]}, \"tinfo\": {\"Category\": [\"Default\", \"Default\", \"Default\", \"Default\", \"Default\", \"Default\", \"Default\", \"Default\", \"Default\", \"Default\", \"Default\", \"Default\", \"Default\", \"Default\", \"Default\", \"Default\", \"Default\", \"Default\", \"Default\", \"Default\", \"Default\", \"Default\", \"Default\", \"Default\", \"Default\", \"Default\", \"Default\", \"Default\", \"Default\", \"Default\", \"Topic1\", \"Topic1\", \"Topic1\", \"Topic1\", \"Topic1\", \"Topic1\", \"Topic1\", \"Topic1\", \"Topic1\", \"Topic1\", \"Topic1\", \"Topic1\", \"Topic1\", \"Topic1\", \"Topic1\", \"Topic1\", \"Topic1\", \"Topic1\", \"Topic1\", \"Topic1\", \"Topic1\", \"Topic1\", \"Topic1\", \"Topic1\", \"Topic1\", \"Topic1\", \"Topic1\", \"Topic1\", \"Topic1\", \"Topic1\", \"Topic1\", \"Topic1\", \"Topic1\", \"Topic1\", \"Topic1\", \"Topic1\", \"Topic1\", \"Topic1\", \"Topic1\", \"Topic1\", \"Topic1\", \"Topic1\", \"Topic1\", \"Topic1\", \"Topic1\", \"Topic1\", \"Topic1\", \"Topic1\", \"Topic2\", \"Topic2\", \"Topic2\", \"Topic2\", \"Topic2\", \"Topic2\", \"Topic2\", \"Topic2\", \"Topic2\", \"Topic2\", \"Topic2\", \"Topic2\", \"Topic2\", \"Topic2\", \"Topic2\", \"Topic2\", \"Topic2\", \"Topic2\", \"Topic2\", \"Topic2\", \"Topic2\", \"Topic2\", \"Topic2\", \"Topic2\", \"Topic2\", \"Topic2\", \"Topic2\", \"Topic2\", \"Topic2\", \"Topic2\", \"Topic2\", \"Topic2\", \"Topic2\", \"Topic2\", \"Topic2\", \"Topic2\", \"Topic2\", \"Topic2\", \"Topic2\", \"Topic2\", \"Topic2\", \"Topic2\", \"Topic2\", \"Topic2\", \"Topic2\", \"Topic2\", \"Topic2\", \"Topic2\", \"Topic2\", \"Topic3\", \"Topic3\", \"Topic3\", \"Topic3\", \"Topic3\", \"Topic3\", \"Topic3\", \"Topic3\", \"Topic3\", \"Topic3\", \"Topic3\", \"Topic3\", \"Topic3\", \"Topic3\", \"Topic3\", \"Topic3\", \"Topic3\", \"Topic3\", \"Topic3\", \"Topic3\", \"Topic3\", \"Topic3\", \"Topic3\", \"Topic3\", \"Topic3\", \"Topic3\", \"Topic3\", \"Topic3\", \"Topic3\", \"Topic3\", \"Topic3\", \"Topic3\", \"Topic3\", \"Topic3\", \"Topic3\", \"Topic3\", \"Topic3\", \"Topic3\", \"Topic3\", \"Topic3\", \"Topic3\", \"Topic3\", \"Topic3\", \"Topic3\", \"Topic3\", \"Topic3\", \"Topic3\", \"Topic4\", \"Topic4\", \"Topic4\", \"Topic4\", \"Topic4\", \"Topic4\", \"Topic4\", \"Topic4\", \"Topic4\", \"Topic4\", \"Topic4\", \"Topic4\", \"Topic4\", \"Topic4\", \"Topic4\", \"Topic4\", \"Topic4\", \"Topic4\", \"Topic4\", \"Topic4\", \"Topic4\", \"Topic4\", \"Topic4\", \"Topic4\", \"Topic4\", \"Topic4\", \"Topic4\", \"Topic4\", \"Topic4\", \"Topic4\", \"Topic4\", \"Topic4\", \"Topic4\", \"Topic4\", \"Topic4\", \"Topic4\", \"Topic4\", \"Topic4\", \"Topic4\", \"Topic4\", \"Topic4\", \"Topic4\", \"Topic4\", \"Topic4\", \"Topic4\", \"Topic4\", \"Topic4\", \"Topic4\", \"Topic4\", \"Topic5\", \"Topic5\", \"Topic5\", \"Topic5\", \"Topic5\", \"Topic5\", \"Topic5\", \"Topic5\", \"Topic5\", \"Topic5\", \"Topic5\", \"Topic5\", \"Topic5\", \"Topic5\", \"Topic5\", \"Topic5\", \"Topic5\", \"Topic5\", \"Topic5\", \"Topic5\", \"Topic5\", \"Topic5\", \"Topic5\", \"Topic5\", \"Topic5\", \"Topic5\", \"Topic5\", \"Topic5\", \"Topic5\", \"Topic5\", \"Topic5\", \"Topic5\", \"Topic5\", \"Topic5\", \"Topic5\", \"Topic5\", \"Topic5\", \"Topic5\", \"Topic5\", \"Topic5\", \"Topic5\", \"Topic5\", \"Topic5\", \"Topic5\", \"Topic5\", \"Topic6\", \"Topic6\", \"Topic6\", \"Topic6\", \"Topic6\", \"Topic6\", \"Topic6\", \"Topic6\", \"Topic6\", \"Topic6\", \"Topic6\", \"Topic6\", \"Topic6\", \"Topic6\", \"Topic6\", \"Topic6\", \"Topic6\", \"Topic6\", \"Topic6\", \"Topic6\", \"Topic6\", \"Topic6\", \"Topic6\", \"Topic6\", \"Topic6\", \"Topic6\", \"Topic6\", \"Topic6\", \"Topic6\", \"Topic6\", \"Topic6\", \"Topic6\", \"Topic6\", \"Topic6\", \"Topic6\", \"Topic6\", \"Topic6\", \"Topic6\", \"Topic6\", \"Topic6\", \"Topic6\", \"Topic6\", \"Topic6\", \"Topic6\", \"Topic6\", \"Topic6\", \"Topic6\", \"Topic6\", \"Topic7\", \"Topic7\", \"Topic7\", \"Topic7\", \"Topic7\", \"Topic7\", \"Topic7\", \"Topic7\", \"Topic7\", \"Topic7\", \"Topic7\", \"Topic7\", \"Topic7\", \"Topic7\", \"Topic7\", \"Topic7\", \"Topic7\", \"Topic7\", \"Topic7\", \"Topic7\", \"Topic7\", \"Topic7\", \"Topic7\", \"Topic7\", \"Topic7\", \"Topic7\", \"Topic7\", \"Topic7\", \"Topic7\", \"Topic7\", \"Topic7\", \"Topic7\", \"Topic7\", \"Topic7\", \"Topic7\", \"Topic7\", \"Topic7\", \"Topic7\", \"Topic7\", \"Topic7\", \"Topic7\", \"Topic7\", \"Topic7\", \"Topic7\", \"Topic7\", \"Topic7\", \"Topic7\", \"Topic7\", \"Topic7\", \"Topic8\", \"Topic8\", \"Topic8\", \"Topic8\", \"Topic8\", \"Topic8\", \"Topic8\", \"Topic8\", \"Topic8\", \"Topic8\", \"Topic8\", \"Topic8\", \"Topic8\", \"Topic8\", \"Topic8\", \"Topic8\", \"Topic8\", \"Topic8\", \"Topic8\", \"Topic8\", \"Topic8\", \"Topic8\", \"Topic8\", \"Topic8\", \"Topic8\", \"Topic8\", \"Topic8\", \"Topic8\", \"Topic8\", \"Topic8\", \"Topic8\", \"Topic8\", \"Topic8\", \"Topic8\", \"Topic8\", \"Topic8\", \"Topic8\", \"Topic8\", \"Topic8\", \"Topic8\", \"Topic8\", \"Topic8\", \"Topic8\", \"Topic8\", \"Topic9\", \"Topic9\", \"Topic9\", \"Topic9\", \"Topic9\", \"Topic9\", \"Topic9\", \"Topic9\", \"Topic9\", \"Topic9\", \"Topic9\", \"Topic9\", \"Topic9\", \"Topic9\", \"Topic9\", \"Topic9\", \"Topic9\", \"Topic9\", \"Topic9\", \"Topic9\", \"Topic9\", \"Topic9\", \"Topic9\", \"Topic9\", \"Topic9\", \"Topic9\", \"Topic9\", \"Topic9\", \"Topic9\", \"Topic9\", \"Topic9\", \"Topic9\", \"Topic9\", \"Topic9\", \"Topic9\", \"Topic9\", \"Topic9\", \"Topic9\", \"Topic9\", \"Topic9\", \"Topic9\", \"Topic9\", \"Topic9\", \"Topic9\", \"Topic9\", \"Topic9\", \"Topic9\", \"Topic9\", \"Topic10\", \"Topic10\", \"Topic10\", \"Topic10\", \"Topic10\", \"Topic10\", \"Topic10\", \"Topic10\", \"Topic10\", \"Topic10\", \"Topic10\", \"Topic10\", \"Topic10\", \"Topic10\", \"Topic10\", \"Topic10\", \"Topic10\", \"Topic10\", \"Topic10\", \"Topic10\", \"Topic10\", \"Topic10\", \"Topic10\", \"Topic10\", \"Topic10\", \"Topic10\", \"Topic10\", \"Topic10\", \"Topic10\", \"Topic10\", \"Topic10\", \"Topic10\", \"Topic10\", \"Topic10\", \"Topic10\", \"Topic10\", \"Topic10\", \"Topic10\", \"Topic10\", \"Topic10\", \"Topic10\", \"Topic10\", \"Topic10\", \"Topic10\", \"Topic10\", \"Topic10\", \"Topic10\", \"Topic10\", \"Topic10\", \"Topic11\", \"Topic11\", \"Topic11\", \"Topic11\", \"Topic11\", \"Topic11\", \"Topic11\", \"Topic11\", \"Topic11\", \"Topic11\", \"Topic11\", \"Topic11\", \"Topic11\", \"Topic11\", \"Topic11\", \"Topic11\", \"Topic11\", \"Topic11\", \"Topic11\", \"Topic11\", \"Topic11\", \"Topic11\", \"Topic11\", \"Topic11\", \"Topic11\", \"Topic11\", \"Topic11\", \"Topic11\", \"Topic11\", \"Topic11\", \"Topic11\", \"Topic11\", \"Topic11\", \"Topic11\", \"Topic11\", \"Topic11\", \"Topic11\", \"Topic11\", \"Topic11\", \"Topic11\", \"Topic11\", \"Topic11\", \"Topic11\", \"Topic11\", \"Topic11\", \"Topic11\", \"Topic12\", \"Topic12\", \"Topic12\", \"Topic12\", \"Topic12\", \"Topic12\", \"Topic12\", \"Topic12\", \"Topic12\", \"Topic12\", \"Topic12\", \"Topic12\", \"Topic12\", \"Topic12\", \"Topic12\", \"Topic12\", \"Topic12\", \"Topic12\", \"Topic12\", \"Topic12\", \"Topic12\", \"Topic12\", \"Topic12\", \"Topic12\", \"Topic12\", \"Topic12\", \"Topic12\", \"Topic12\", \"Topic12\", \"Topic12\", \"Topic12\", \"Topic12\", \"Topic12\", \"Topic12\", \"Topic12\", \"Topic12\", \"Topic12\", \"Topic12\", \"Topic12\", \"Topic12\", \"Topic12\", \"Topic12\", \"Topic12\", \"Topic12\", \"Topic12\", \"Topic12\", \"Topic12\", \"Topic12\", \"Topic12\", \"Topic12\", \"Topic12\", \"Topic13\", \"Topic13\", \"Topic13\", \"Topic13\", \"Topic13\", \"Topic13\", \"Topic13\", \"Topic13\", \"Topic13\", \"Topic13\", \"Topic13\", \"Topic13\", \"Topic13\", \"Topic13\", \"Topic13\", \"Topic13\", \"Topic13\", \"Topic13\", \"Topic13\", \"Topic13\", \"Topic13\", \"Topic13\", \"Topic13\", \"Topic13\", \"Topic13\", \"Topic13\", \"Topic13\", \"Topic13\", \"Topic13\", \"Topic13\", \"Topic13\", \"Topic13\", \"Topic13\", \"Topic13\", \"Topic13\", \"Topic13\", \"Topic13\", \"Topic13\", \"Topic13\", \"Topic13\", \"Topic13\", \"Topic13\", \"Topic13\", \"Topic13\", \"Topic13\", \"Topic13\", \"Topic13\", \"Topic13\", \"Topic14\", \"Topic14\", \"Topic14\", \"Topic14\", \"Topic14\", \"Topic14\", \"Topic14\", \"Topic14\", \"Topic14\", \"Topic14\", \"Topic14\", \"Topic14\", \"Topic14\", \"Topic14\", \"Topic14\", \"Topic14\", \"Topic14\", \"Topic14\", \"Topic14\", \"Topic14\", \"Topic14\", \"Topic14\", \"Topic14\", \"Topic14\", \"Topic14\", \"Topic14\", \"Topic14\", \"Topic14\", \"Topic14\", \"Topic14\", \"Topic14\", \"Topic14\", \"Topic14\", \"Topic14\", \"Topic14\", \"Topic14\", \"Topic14\", \"Topic14\", \"Topic14\", \"Topic14\", \"Topic14\", \"Topic14\", \"Topic14\", \"Topic14\", \"Topic14\", \"Topic14\", \"Topic14\", \"Topic14\", \"Topic15\", \"Topic15\", \"Topic15\", \"Topic15\", \"Topic15\", \"Topic15\", \"Topic15\", \"Topic15\", \"Topic15\", \"Topic15\", \"Topic15\", \"Topic15\", \"Topic15\", \"Topic15\", \"Topic15\", \"Topic15\", \"Topic15\", \"Topic15\", \"Topic15\", \"Topic15\", \"Topic15\", \"Topic15\", \"Topic15\", \"Topic15\", \"Topic15\", \"Topic15\", \"Topic15\", \"Topic15\", \"Topic15\", \"Topic15\", \"Topic15\", \"Topic15\", \"Topic15\", \"Topic15\", \"Topic15\", \"Topic15\", \"Topic15\", \"Topic15\", \"Topic15\", \"Topic15\", \"Topic15\", \"Topic15\", \"Topic15\", \"Topic15\", \"Topic15\", \"Topic15\", \"Topic15\", \"Topic15\", \"Topic15\", \"Topic15\", \"Topic16\", \"Topic16\", \"Topic16\", \"Topic16\", \"Topic16\", \"Topic16\", \"Topic16\", \"Topic16\", \"Topic16\", \"Topic16\", \"Topic16\", \"Topic16\", \"Topic16\", \"Topic16\", \"Topic16\", \"Topic16\", \"Topic16\", \"Topic16\", \"Topic16\", \"Topic16\", \"Topic16\", \"Topic16\", \"Topic16\", \"Topic16\", \"Topic16\", \"Topic16\", \"Topic16\", \"Topic16\", \"Topic16\", \"Topic16\", \"Topic16\", \"Topic16\", \"Topic16\", \"Topic16\", \"Topic16\", \"Topic16\", \"Topic16\", \"Topic16\", \"Topic16\", \"Topic16\", \"Topic16\", \"Topic16\", \"Topic16\", \"Topic16\", \"Topic16\", \"Topic17\", \"Topic17\", \"Topic17\", \"Topic17\", \"Topic17\", \"Topic17\", \"Topic17\", \"Topic17\", \"Topic17\", \"Topic17\", \"Topic17\", \"Topic17\", \"Topic17\", \"Topic17\", \"Topic17\", \"Topic17\", \"Topic17\", \"Topic17\", \"Topic17\", \"Topic17\", \"Topic17\", \"Topic17\", \"Topic17\", \"Topic17\", \"Topic17\", \"Topic17\", \"Topic17\", \"Topic17\", \"Topic17\", \"Topic17\", \"Topic17\", \"Topic17\", \"Topic17\", \"Topic17\", \"Topic17\", \"Topic17\", \"Topic17\", \"Topic17\", \"Topic17\", \"Topic17\", \"Topic17\", \"Topic17\", \"Topic17\", \"Topic17\", \"Topic17\", \"Topic17\", \"Topic18\", \"Topic18\", \"Topic18\", \"Topic18\", \"Topic18\", \"Topic18\", \"Topic18\", \"Topic18\", \"Topic18\", \"Topic18\", \"Topic18\", \"Topic18\", \"Topic18\", \"Topic18\", \"Topic18\", \"Topic18\", \"Topic18\", \"Topic18\", \"Topic18\", \"Topic18\", \"Topic18\", \"Topic18\", \"Topic18\", \"Topic18\", \"Topic18\", \"Topic18\", \"Topic18\", \"Topic18\", \"Topic18\", \"Topic18\", \"Topic18\", \"Topic18\", \"Topic18\", \"Topic18\", \"Topic18\", \"Topic18\", \"Topic18\", \"Topic18\", \"Topic18\", \"Topic18\", \"Topic18\", \"Topic18\", \"Topic18\", \"Topic18\", \"Topic18\", \"Topic18\", \"Topic18\", \"Topic18\", \"Topic19\", \"Topic19\", \"Topic19\", \"Topic19\", \"Topic19\", \"Topic19\", \"Topic19\", \"Topic19\", \"Topic19\", \"Topic19\", \"Topic19\", \"Topic19\", \"Topic19\", \"Topic19\", \"Topic19\", \"Topic19\", \"Topic19\", \"Topic19\", \"Topic19\", \"Topic19\", \"Topic19\", \"Topic19\", \"Topic19\", \"Topic19\", \"Topic19\", \"Topic19\", \"Topic19\", \"Topic19\", \"Topic19\", \"Topic19\", \"Topic19\", \"Topic19\", \"Topic19\", \"Topic19\", \"Topic19\", \"Topic19\", \"Topic19\", \"Topic19\", \"Topic19\", \"Topic19\", \"Topic19\", \"Topic19\", \"Topic19\", \"Topic19\", \"Topic19\", \"Topic19\", \"Topic19\", \"Topic20\", \"Topic20\", \"Topic20\", \"Topic20\", \"Topic20\", \"Topic20\", \"Topic20\", \"Topic20\", \"Topic20\", \"Topic20\", \"Topic20\", \"Topic20\", \"Topic20\", \"Topic20\", \"Topic20\", \"Topic20\", \"Topic20\", \"Topic20\", \"Topic20\", \"Topic20\", \"Topic20\", \"Topic20\", \"Topic20\", \"Topic20\", \"Topic20\", \"Topic20\", \"Topic20\", \"Topic20\", \"Topic20\", \"Topic20\", \"Topic20\", \"Topic20\", \"Topic20\", \"Topic20\", \"Topic20\", \"Topic20\", \"Topic20\", \"Topic20\", \"Topic20\", \"Topic20\", \"Topic20\", \"Topic20\", \"Topic20\", \"Topic20\", \"Topic20\", \"Topic20\", \"Topic20\", \"Topic20\", \"Topic21\", \"Topic21\", \"Topic21\", \"Topic21\", \"Topic21\", \"Topic21\", \"Topic21\", \"Topic21\", \"Topic21\", \"Topic21\", \"Topic21\", \"Topic21\", \"Topic21\", \"Topic21\", \"Topic21\", \"Topic21\", \"Topic21\", \"Topic21\", \"Topic21\", \"Topic21\", \"Topic21\", \"Topic21\", \"Topic21\", \"Topic21\", \"Topic21\", \"Topic21\", \"Topic21\", \"Topic21\", \"Topic21\", \"Topic21\", \"Topic21\", \"Topic21\", \"Topic21\", \"Topic21\", \"Topic21\", \"Topic21\", \"Topic21\", \"Topic21\", \"Topic21\", \"Topic21\", \"Topic21\", \"Topic21\", \"Topic21\", \"Topic21\", \"Topic21\", \"Topic21\", \"Topic21\", \"Topic21\", \"Topic21\", \"Topic22\", \"Topic22\", \"Topic22\", \"Topic22\", \"Topic22\", \"Topic22\", \"Topic22\", \"Topic22\", \"Topic22\", \"Topic22\", \"Topic22\", \"Topic22\", \"Topic22\", \"Topic22\", \"Topic22\", \"Topic22\", \"Topic22\", \"Topic22\", \"Topic22\", \"Topic22\", \"Topic22\", \"Topic22\", \"Topic22\", \"Topic22\", \"Topic22\", \"Topic22\", \"Topic22\", \"Topic22\", \"Topic22\", \"Topic22\", \"Topic22\", \"Topic22\", \"Topic22\", \"Topic22\", \"Topic22\", \"Topic22\", \"Topic22\", \"Topic22\", \"Topic22\", \"Topic22\", \"Topic22\", \"Topic22\", \"Topic22\", \"Topic22\", \"Topic22\", \"Topic22\", \"Topic22\", \"Topic23\", \"Topic23\", \"Topic23\", \"Topic23\", \"Topic23\", \"Topic23\", \"Topic23\", \"Topic23\", \"Topic23\", \"Topic23\", \"Topic23\", \"Topic23\", \"Topic23\", \"Topic23\", \"Topic23\", \"Topic23\", \"Topic23\", \"Topic23\", \"Topic23\", \"Topic23\", \"Topic23\", \"Topic23\", \"Topic23\", \"Topic23\", \"Topic23\", \"Topic23\", \"Topic23\", \"Topic23\", \"Topic23\", \"Topic23\", \"Topic23\", \"Topic23\", \"Topic23\", \"Topic23\", \"Topic23\", \"Topic23\", \"Topic23\", \"Topic23\", \"Topic23\", \"Topic23\", \"Topic23\", \"Topic23\", \"Topic23\", \"Topic23\", \"Topic23\", \"Topic23\", \"Topic24\", \"Topic24\", \"Topic24\", \"Topic24\", \"Topic24\", \"Topic24\", \"Topic24\", \"Topic24\", \"Topic24\", \"Topic24\", \"Topic24\", \"Topic24\", \"Topic24\", \"Topic24\", \"Topic24\", \"Topic24\", \"Topic24\", \"Topic24\", \"Topic24\", \"Topic24\", \"Topic24\", \"Topic24\", \"Topic24\", \"Topic24\", \"Topic24\", \"Topic24\", \"Topic24\", \"Topic24\", \"Topic24\", \"Topic24\", \"Topic24\", \"Topic24\", \"Topic24\", \"Topic24\", \"Topic24\", \"Topic24\", \"Topic24\", \"Topic24\", \"Topic24\", \"Topic24\", \"Topic24\", \"Topic24\", \"Topic24\", \"Topic24\", \"Topic24\", \"Topic24\", \"Topic24\", \"Topic25\", \"Topic25\", \"Topic25\", \"Topic25\", \"Topic25\", \"Topic25\", \"Topic25\", \"Topic25\", \"Topic25\", \"Topic25\", \"Topic25\", \"Topic25\", \"Topic25\", \"Topic25\", \"Topic25\", \"Topic25\", \"Topic25\", \"Topic25\", \"Topic25\", \"Topic25\", \"Topic25\", \"Topic25\", \"Topic25\", \"Topic25\", \"Topic25\", \"Topic25\", \"Topic25\", \"Topic25\", \"Topic25\", \"Topic25\", \"Topic25\", \"Topic25\", \"Topic25\", \"Topic25\", \"Topic25\", \"Topic25\", \"Topic25\", \"Topic25\", \"Topic25\", \"Topic25\", \"Topic25\", \"Topic25\", \"Topic25\", \"Topic25\", \"Topic25\", \"Topic25\", \"Topic25\", \"Topic25\", \"Topic25\", \"Topic26\", \"Topic26\", \"Topic26\", \"Topic26\", \"Topic26\", \"Topic26\", \"Topic26\", \"Topic26\", \"Topic26\", \"Topic26\", \"Topic26\", \"Topic26\", \"Topic26\", \"Topic26\", \"Topic26\", \"Topic26\", \"Topic26\", \"Topic26\", \"Topic26\", \"Topic26\", \"Topic26\", \"Topic26\", \"Topic26\", \"Topic26\", \"Topic26\", \"Topic26\", \"Topic26\", \"Topic26\", \"Topic26\", \"Topic26\", \"Topic26\", \"Topic26\", \"Topic26\", \"Topic26\", \"Topic26\", \"Topic26\", \"Topic26\", \"Topic26\", \"Topic26\", \"Topic26\", \"Topic26\", \"Topic26\", \"Topic26\", \"Topic26\", \"Topic26\", \"Topic26\", \"Topic26\", \"Topic26\", \"Topic27\", \"Topic27\", \"Topic27\", \"Topic27\", \"Topic27\", \"Topic27\", \"Topic27\", \"Topic27\", \"Topic27\", \"Topic27\", \"Topic27\", \"Topic27\", \"Topic27\", \"Topic27\", \"Topic27\", \"Topic27\", \"Topic27\", \"Topic27\", \"Topic27\", \"Topic27\", \"Topic27\", \"Topic27\", \"Topic27\", \"Topic27\", \"Topic27\", \"Topic27\", \"Topic27\", \"Topic27\", \"Topic27\", \"Topic27\", \"Topic27\", \"Topic27\", \"Topic27\", \"Topic27\", \"Topic27\", \"Topic27\", \"Topic27\", \"Topic27\", \"Topic27\", \"Topic27\", \"Topic27\", \"Topic27\", \"Topic27\", \"Topic27\", \"Topic27\", \"Topic27\", \"Topic27\", \"Topic27\", \"Topic27\", \"Topic27\", \"Topic27\", \"Topic28\", \"Topic28\", \"Topic28\", \"Topic28\", \"Topic28\", \"Topic28\", \"Topic28\", \"Topic28\", \"Topic28\", \"Topic28\", \"Topic28\", \"Topic28\", \"Topic28\", \"Topic28\", \"Topic28\", \"Topic28\", \"Topic28\", \"Topic28\", \"Topic28\", \"Topic28\", \"Topic28\", \"Topic28\", \"Topic28\", \"Topic28\", \"Topic28\", \"Topic28\", \"Topic28\", \"Topic28\", \"Topic28\", \"Topic28\", \"Topic28\", \"Topic28\", \"Topic28\", \"Topic28\", \"Topic28\", \"Topic28\", \"Topic28\", \"Topic28\", \"Topic28\", \"Topic28\", \"Topic28\", \"Topic28\", \"Topic28\", \"Topic28\", \"Topic28\", \"Topic28\", \"Topic28\", \"Topic28\", \"Topic28\", \"Topic28\"], \"Freq\": [14783.0, 21116.0, 9455.0, 10155.0, 10421.0, 10056.0, 10456.0, 6877.0, 7761.0, 7414.0, 7319.0, 5534.0, 4999.0, 5024.0, 5306.0, 4329.0, 4482.0, 4317.0, 4465.0, 5106.0, 4123.0, 4045.0, 3743.0, 3646.0, 3317.0, 3052.0, 2788.0, 2778.0, 2083.0, 2101.0, 879.7750586627554, 111.3856068787388, 14799.116411226583, 2836.1793411418635, 0.028217665914477934, 0.028217665914477934, 0.028217665914477934, 0.028217665914504544, 0.028217665914485254, 0.028217665914486288, 0.02821766591451223, 0.028217665914490313, 0.02821766591448644, 0.0282176659144785, 0.02821766591449035, 0.028217665914505013, 0.028217665914518006, 0.028217665914513055, 0.02821766591448415, 0.028217665914521087, 0.02821766591448955, 0.02821766591448303, 0.028217665914493137, 0.02821766591448414, 0.028217665914478454, 0.028217665914479037, 0.028217665914478742, 0.02821766591450126, 0.02821766591448301, 0.028217665914500468, 0.028217665914571907, 0.02821766591455562, 0.028217665914535825, 0.028217665914531145, 0.028217665914524324, 0.028217665914523467, 0.028217665914520833, 0.028217665914519692, 0.02821766591451169, 0.028217665914511005, 0.028217665914510543, 0.02821766591450728, 0.028217665914503018, 0.0282176659145023, 0.02821766591450069, 0.028217665914499694, 0.028217665914495923, 0.02821766591449541, 7318.49119810758, 203.64214620364135, 77.60831293236396, 7619.614703594566, 0.02946841030750081, 0.02946841030750081, 0.02946841030750081, 0.029468410307550322, 0.02946841030750823, 0.029468410307507936, 0.029468410307517644, 0.02946841030750615, 0.02946841030750081, 0.029468410307536132, 0.029468410307594808, 0.02946841030751925, 0.029468410307547408, 0.029468410307513897, 0.029468410307544674, 0.029468410307511378, 0.029468410307507353, 0.029468410307519198, 0.02946841030750348, 0.029468410307501802, 0.02946841030750421, 0.029468410307501268, 0.029468410307564686, 0.02946841030750361, 0.02946841030757196, 0.029468410307506843, 0.029468410307631858, 0.029468410307570345, 0.029468410307564922, 0.029468410307562636, 0.02946841030755967, 0.029468410307552564, 0.02946841030754405, 0.029468410307539154, 0.029468410307538974, 0.02946841030753813, 0.029468410307535196, 0.029468410307534314, 0.029468410307530335, 0.02946841030752944, 0.029468410307528017, 0.0294684103075266, 0.02946841030752512, 0.02946841030752496, 0.029468410307524496, 1993.7148925242495, 541.7195356866173, 475.14471001720597, 8899.415244994507, 3114.1786551155187, 0.02981179659436734, 0.02981179659450901, 0.02981179659436734, 0.029811796594527692, 0.02981179659437844, 0.02981179659436734, 0.02981179659438294, 0.02981179659436734, 0.029811796594401516, 0.029811796594368594, 0.02981179659438841, 0.029811796594373177, 0.029811796594389213, 0.029811796594422447, 0.029811796594392873, 0.02981179659438497, 0.029811796594426787, 0.029811796594388137, 0.029811796594367966, 0.029811796594375526, 0.029811796594369118, 0.029811796594367723, 0.02981179659436734, 0.02981179659436864, 0.02981179659437548, 0.02981179659450396, 0.029811796594472053, 0.02981179659444672, 0.029811796594434906, 0.029811796594427533, 0.02981179659442372, 0.029811796594420983, 0.029811796594412042, 0.029811796594407223, 0.029811796594402806, 0.02981179659440149, 0.029811796594401172, 0.029811796594399434, 0.029811796594399236, 0.02981179659439854, 0.029811796594389792, 0.02981179659438932, 14782.420508656916, 145.33566924235984, 40.28975531506778, 0.029750848237267237, 0.029750848237258178, 0.029750848237258178, 0.02975084823728339, 0.029750848237258178, 0.02975084823728021, 0.029750848237262716, 0.029750848237283276, 0.029750848237260243, 0.029750848237268358, 0.029750848237321947, 0.02975084823727653, 0.02975084823733078, 0.029750848237266356, 0.029750848237296523, 0.029750848237282464, 0.029750848237260884, 0.029750848237269836, 0.029750848237263844, 0.029750848237261943, 0.029750848237268594, 0.029750848237263552, 0.029750848237308773, 0.029750848237263934, 0.029750848237298906, 0.029750848237263688, 0.029750848237263147, 0.029750848237390878, 0.02975084823735812, 0.029750848237321343, 0.029750848237321027, 0.02975084823731603, 0.02975084823731132, 0.02975084823731001, 0.0297508482372984, 0.029750848237297733, 0.02975084823729692, 0.029750848237296033, 0.029750848237291214, 0.0297508482372911, 0.029750848237284286, 0.029750848237283765, 0.029750848237282936, 0.029750848237282763, 0.02975084823728215, 0.029750848237280737, 2111.426016159883, 1455.7014823445206, 7710.557320008875, 0.03197180073821431, 0.03197180073811788, 0.031971800738137435, 0.03197180073814179, 0.03197180073811995, 0.03197180073812921, 0.03197180073815693, 0.03197180073817556, 0.031971800738152874, 0.031971800738136005, 0.03197180073813398, 0.031971800738198566, 0.03197180073814059, 0.031971800738148315, 0.03197180073821744, 0.031971800738130635, 0.03197180073815597, 0.0319718007381435, 0.03197180073813039, 0.0319718007381373, 0.0319718007381783, 0.031971800738161194, 0.03197180073814837, 0.03197180073818247, 0.031971800738144256, 0.031971800738124466, 0.031971800738143964, 0.03197180073821423, 0.03197180073821389, 0.03197180073819313, 0.0319718007381866, 0.031971800738180296, 0.031971800738172906, 0.031971800738163976, 0.03197180073815911, 0.031971800738156676, 0.03197180073815568, 0.0319718007381546, 0.03197180073815281, 0.03197180073815264, 0.03197180073814978, 0.03197180073814812, 2777.443122367985, 795.8570193450747, 641.466258355569, 6576.429111673855, 0.03346278913256136, 0.03346278913256136, 0.033462789132589106, 0.0334627891325794, 0.03346278913257668, 0.03346278913258565, 0.03346278913262304, 0.03346278913258182, 0.0334627891326937, 0.03346278913257045, 0.03346278913256413, 0.033462789132564216, 0.03346278913258177, 0.033462789132588745, 0.033462789132634035, 0.03346278913256507, 0.0334627891325637, 0.033462789132607355, 0.03346278913257218, 0.033462789132563384, 0.03346278913263454, 0.03346278913262717, 0.03346278913258682, 0.03346278913271112, 0.03346278913258474, 0.03346278913256428, 0.03346278913271504, 0.03346278913268488, 0.03346278913267073, 0.03346278913264467, 0.03346278913264264, 0.0334627891326302, 0.033462789132627305, 0.03346278913261691, 0.03346278913261567, 0.03346278913261406, 0.033462789132607716, 0.033462789132606176, 0.033462789132604844, 0.03346278913260201, 0.03346278913260175, 0.03346278913259545, 0.033462789132591986, 0.03346278913259089, 6876.795239514123, 582.2865036660453, 2709.9609616406706, 0.03361782433856871, 0.03361782433856871, 0.0336178243386574, 0.03361782433856871, 0.03361782433856871, 0.03361782433858044, 0.03361782433858399, 0.03361782433863051, 0.033617824338622954, 0.03361782433857102, 0.03361782433856871, 0.03361782433856871, 0.03361782433857818, 0.033617824338581175, 0.03361782433858624, 0.033617824338570176, 0.033617824338568976, 0.03361782433859946, 0.033617824338578475, 0.03361782433857037, 0.033617824338639954, 0.03361782433863, 0.03361782433862452, 0.03361782433865747, 0.03361782433856871, 0.033617824338576976, 0.033617824338579225, 0.033617824338690476, 0.03361782433868281, 0.03361782433865433, 0.03361782433865003, 0.03361782433864672, 0.03361782433864649, 0.03361782433862068, 0.03361782433861994, 0.033617824338618804, 0.033617824338618756, 0.03361782433861748, 0.033617824338606474, 0.033617824338602574, 0.03361782433860056, 0.03361782433860032, 0.03361782433859941, 0.033617824338593415, 0.03361782433859327, 0.033617824338592776, 9454.67927022146, 328.7971075902421, 68.11734619155736, 0.03203540778145548, 0.03203540778145548, 0.032035407781461356, 0.032035407781500616, 0.03203540778149242, 0.032035407781464686, 0.03203540778152426, 0.03203540778160304, 0.03203540778147776, 0.032035407781462986, 0.032035407781503634, 0.03203540778152176, 0.03203540778149161, 0.032035407781483054, 0.03203540778145731, 0.03203540778145548, 0.032035407781458775, 0.03203540778145795, 0.032035407781498715, 0.03203540778148728, 0.032035407781475594, 0.032035407781509845, 0.032035407781459926, 0.03203540778146019, 0.032035407781462924, 0.03203540778150999, 0.032035407781501074, 0.03203540778157038, 0.03203540778154743, 0.03203540778153968, 0.03203540778153666, 0.03203540778151317, 0.03203540778151242, 0.0320354077815098, 0.03203540778150431, 0.03203540778149855, 0.032035407781494434, 0.03203540778148634, 0.032035407781486086, 0.032035407781482554, 0.032035407781481416, 2787.521207704864, 395.3695832366477, 131.80063136950093, 73.39579910686211, 6039.786961976573, 0.03355633096026756, 0.03355633096026756, 0.03355633096026894, 0.033556330960286346, 0.03355633096026756, 0.0335563309602787, 0.03355633096033756, 0.03355633096031359, 0.03355633096028736, 0.033556330960275674, 0.0335563309603227, 0.03355633096032048, 0.033556330960325655, 0.03355633096027337, 0.033556330960279386, 0.03355633096033149, 0.0335563309602794, 0.033556330960293784, 0.03355633096030127, 0.033556330960268214, 0.033556330960299405, 0.033556330960289794, 0.033556330960271746, 0.033556330960327695, 0.03355633096028897, 0.033556330960374636, 0.033556330960338186, 0.033556330960334974, 0.033556330960331844, 0.033556330960329304, 0.03355633096032387, 0.03355633096032222, 0.0335563309603169, 0.03355633096031534, 0.03355633096031479, 0.03355633096031352, 0.03355633096031316, 0.03355633096031016, 0.03355633096030585, 0.03355633096030551, 0.033556330960304366, 0.03355633096030435, 0.033556330960303436, 9139.99076297314, 0.03419464670174022, 0.03419464670174022, 0.034194646701746274, 0.03419464670177963, 0.034194646701756114, 0.03419464670174022, 0.03419464670177414, 0.034194646701770824, 0.03419464670176657, 0.03419464670174114, 0.03419464670175389, 0.03419464670177191, 0.034194646701755815, 0.03419464670181767, 0.03419464670176751, 0.0341946467017517, 0.03419464670175924, 0.03419464670176211, 0.034194646701741986, 0.03419464670174647, 0.03419464670176931, 0.03419464670174871, 0.03419464670174782, 0.03419464670175556, 0.03419464670176824, 0.034194646701756204, 0.034194646701774925, 0.03419464670175445, 0.03419464670175082, 0.034194646702009085, 0.03419464670186962, 0.03419464670186714, 0.034194646701816364, 0.03419464670180742, 0.03419464670180111, 0.034194646701785875, 0.034194646701783925, 0.034194646701781496, 0.03419464670177604, 0.034194646701774196, 0.03419464670177318, 0.034194646701771275, 0.03419464670177048, 0.03419464670177035, 0.03419464670177029, 0.034194646701768014, 0.03419464670176603, 0.03419464670176571, 5304.925672326195, 105.61047744466794, 4.022653982507746, 3.7357837700973295, 1083.6170824753433, 1948.439932063534, 0.0370865056779188, 0.0370865056779532, 0.03708650567796461, 0.0370865056779188, 0.03708650567793853, 0.0370865056779188, 0.037086505677951256, 0.0370865056779188, 0.0370865056779188, 0.03708650567792861, 0.037086505677966605, 0.03708650567798906, 0.0370865056779229, 0.03708650567808888, 0.037086505677923085, 0.0370865056779188, 0.037086505677922835, 0.0370865056779188, 0.03708650567791895, 0.0370865056779188, 0.0370865056779188, 0.037086505678315826, 0.03708650567792148, 0.03708650567801982, 0.03708650567811402, 0.03708650567809476, 0.037086505678086384, 0.037086505678047416, 0.03708650567803779, 0.03708650567803067, 0.037086505678027744, 0.037086505678020604, 0.037086505678005026, 0.0370865056779987, 0.037086505677980906, 0.037086505677971435, 0.03708650567797053, 0.03708650567796037, 0.037086505677950445, 0.037086505677949404, 3742.4443326500555, 4021.340145602957, 0.03688254436618111, 0.03688254436618111, 0.03688254436618111, 0.03688254436624932, 0.036882544366221445, 0.03688254436618111, 0.03688254436619183, 0.036882544366193204, 0.03688254436619635, 0.036882544366182005, 0.036882544366183836, 0.036882544366186126, 0.036882544366194654, 0.03688254436623381, 0.03688254436627348, 0.03688254436619189, 0.036882544366240985, 0.03688254436619402, 0.03688254436618111, 0.036882544366188895, 0.03688254436618111, 0.036882544366184204, 0.036882544366184274, 0.036882544366182296, 0.036882544366320186, 0.036882544366183455, 0.036882544366250714, 0.036882544366181255, 0.03688254436639071, 0.03688254436633871, 0.03688254436628004, 0.036882544366275596, 0.0368825443662728, 0.03688254436626557, 0.03688254436625142, 0.03688254436624512, 0.03688254436623564, 0.03688254436622753, 0.036882544366224845, 0.036882544366221875, 0.03688254436622101, 0.036882544366216304, 0.03688254436621466, 0.036882544366212994, 0.03688254436621172, 0.036882544366209406, 0.03688254436620598, 0.03688254436620582, 0.03688254436620426, 4044.249162960577, 3645.7639781531543, 0.03614784440969114, 0.03614784440969114, 0.03614784440971795, 0.0361478444097082, 0.03614784440969114, 0.036147844409747915, 0.036147844409727244, 0.03614784440976989, 0.03614784440970669, 0.036147844409712165, 0.03614784440970246, 0.03614784440972981, 0.03614784440970352, 0.036147844409733766, 0.03614784440974544, 0.0361478444096943, 0.03614784440971199, 0.03614784440974647, 0.03614784440972484, 0.03614784440971393, 0.03614784440981882, 0.03614784440969961, 0.03614784440969801, 0.036147844409709605, 0.03614784440970568, 0.03614784440969564, 0.036147844409730776, 0.03614784440971064, 0.03614784440978005, 0.03614784440977681, 0.03614784440976957, 0.03614784440976681, 0.03614784440976508, 0.036147844409745986, 0.03614784440974358, 0.03614784440974296, 0.03614784440973822, 0.03614784440973749, 0.036147844409734994, 0.03614784440973415, 0.03614784440973397, 0.036147844409730616, 0.036147844409729714, 0.03614784440972873, 0.03614784440972605, 0.036147844409721255, 4122.5431163632065, 2102.226782231272, 575.5729639390846, 300.73999207811977, 0.038777476340157144, 0.038777476340157144, 0.038777476340208124, 0.03877747634019523, 0.038777476340172964, 0.03877747634018528, 0.038777476340456134, 0.03877747634016807, 0.038777476340174456, 0.03877747634020054, 0.03877747634016803, 0.038777476340157144, 0.03877747634019054, 0.0387774763401733, 0.03877747634028247, 0.03877747634019315, 0.03877747634017912, 0.03877747634016347, 0.03877747634016407, 0.038777476340214306, 0.038777476340170175, 0.038777476340177766, 0.03877747634017239, 0.03877747634022916, 0.03877747634016331, 0.03877747634021087, 0.03877747634032802, 0.038777476340301834, 0.03877747634029483, 0.038777476340262435, 0.038777476340236, 0.03877747634023219, 0.038777476340226144, 0.03877747634022605, 0.03877747634022334, 0.038777476340220426, 0.03877747634021901, 0.038777476340218865, 0.03877747634021611, 0.03877747634020937, 0.03877747634020194, 0.03877747634019557, 0.03877747634019487, 0.038777476340194524, 5533.36713697597, 1347.789194860493, 0.03958287960625398, 0.03958287960625398, 0.03958287960626635, 0.03958287960639792, 0.03958287960626816, 0.03958287960633182, 0.039582879606262944, 0.03958287960634156, 0.03958287960626946, 0.03958287960627608, 0.03958287960627405, 0.03958287960627333, 0.039582879606288056, 0.039582879606359644, 0.03958287960639007, 0.0395828796062583, 0.03958287960627889, 0.039582879606669875, 0.03958287960626812, 0.039582879606259495, 0.03958287960642494, 0.03958287960628009, 0.0395828796062806, 0.03958287960627316, 0.039582879606278626, 0.03958287960626985, 0.03958287960629728, 0.03958287960628314, 0.03958287960638843, 0.03958287960637229, 0.03958287960636008, 0.039582879606359624, 0.039582879606345676, 0.039582879606343394, 0.03958287960633766, 0.03958287960632424, 0.039582879606317706, 0.03958287960631736, 0.03958287960631307, 0.03958287960630846, 0.03958287960630471, 0.03958287960630147, 0.039582879606301406, 0.039582879606300796, 0.03958287960630033, 0.039582879606298436, 0.03958287960629752, 0.039582879606295605, 5022.906908571756, 426.7299786995634, 40.51774824096462, 1373.7701974646816, 0.03994675922238689, 0.03994675922238689, 0.039946759222412115, 0.03994675922238689, 0.03994675922240997, 0.03994675922239521, 0.039946759222521104, 0.0399467592224845, 0.03994675922244565, 0.03994675922241692, 0.039946759222469846, 0.0399467592225706, 0.03994675922246789, 0.039946759222450876, 0.039946759222389265, 0.03994675922238862, 0.03994675922245216, 0.03994675922242852, 0.039946759222390875, 0.03994675922251141, 0.03994675922241315, 0.03994675922242256, 0.03994675922238689, 0.03994675922238867, 0.039946759222398445, 0.03994675922251417, 0.0399467592478842, 0.039946759222576976, 0.03994675922253645, 0.03994675922251172, 0.03994675922250836, 0.0399467592225056, 0.03994675922248688, 0.03994675922247447, 0.03994675922246946, 0.03994675922246192, 0.039946759222461575, 0.039946759222459306, 0.03994675922243957, 0.03994675922243849, 0.03994675922243137, 4464.094355221133, 698.6779679648611, 1253.8260187582566, 0.04024053057532216, 0.04024053057509572, 0.040240530575145234, 0.040240530575223254, 0.04024053057518525, 0.04024053057509572, 0.04024053057513329, 0.04024053057509572, 0.04024053057514045, 0.04024053057512071, 0.04024053057513616, 0.04024053057509572, 0.04024053057509572, 0.040240530575238014, 0.04024053057514915, 0.04024053057511447, 0.04024053057517135, 0.04024053057510427, 0.04024053057509572, 0.040240530575121, 0.04024053057510174, 0.040240530575096974, 0.04024053057509674, 0.04024053057509878, 0.040240530575181344, 0.04024053057513173, 0.04024053057520293, 0.04024053057527826, 0.04024053057526973, 0.04024053057519167, 0.04024053057519136, 0.04024053057518476, 0.040240530575181094, 0.040240530575177645, 0.040240530575170595, 0.040240530575170116, 0.040240530575169034, 0.040240530575165516, 0.040240530575158036, 0.04024053057515637, 0.04024053057514964, 0.04024053057514585, 0.04024053057513576, 3051.4388818481852, 1865.981781037198, 1451.037978827723, 0.04147781453777505, 0.04147781453777505, 0.0414778145378035, 0.04147781453785654, 0.04147781453778485, 0.04147781453778566, 0.041477814537849204, 0.04147781453777505, 0.04147781453784, 0.041477814537780676, 0.04147781453778167, 0.04147781453780172, 0.04147781453779911, 0.04147781453780915, 0.04147781453783852, 0.04147781453778251, 0.04147781453790524, 0.04147781453782635, 0.041477814537780114, 0.041477814537800035, 0.04147781453781646, 0.04147781453779675, 0.04147781453778196, 0.041477814537789565, 0.04147781453788505, 0.041477814537788045, 0.04147781453787548, 0.04147781453800961, 0.041477814538002485, 0.041477814537901725, 0.041477814537895605, 0.041477814537882456, 0.04147781453787541, 0.04147781453786887, 0.041477814537863006, 0.04147781453785921, 0.041477814537855956, 0.041477814537850516, 0.04147781453784406, 0.041477814537837894, 0.04147781453782971, 0.04147781453782832, 0.04147781453781493, 0.04147781453781428, 0.041477814537813684, 3316.0544351109534, 1265.8967521446461, 430.6608841751167, 30.493960327471218, 1156.2195215742074, 0.0416291950623784, 0.0416291950623784, 0.04162919506244004, 0.04162919506239815, 0.04162919506238831, 0.04162919506252141, 0.04162919506239652, 0.041629195062390816, 0.0416291950623784, 0.04162919506241584, 0.0416291950623784, 0.04162919506240067, 0.041629195062525416, 0.0416291950626418, 0.041629195062456714, 0.04162919506238908, 0.041629195062393425, 0.041629195062378554, 0.04162919506239612, 0.0416291950623784, 0.04162919506243774, 0.0416291950623784, 0.04162919506241157, 0.04162919506238925, 0.041629195062424046, 0.04162919506253924, 0.041629195062503024, 0.04162919506246643, 0.04162919506245851, 0.04162919506245579, 0.041629195062452676, 0.041629195062451024, 0.04162919506244681, 0.041629195062444516, 0.04162919506244202, 0.041629195062438534, 0.04162919506243635, 0.04162919506243591, 0.04162919506243566, 0.04162919506242201, 0.04162919506241994, 0.04162919506241771, 4481.4213767964175, 1184.2116776444552, 0.0457948765846716, 0.0457948765846716, 0.04579487658468602, 0.045794876584731976, 0.0457948765846716, 0.0457948765846716, 0.045794876584768565, 0.04579487658470168, 0.04579487658471681, 0.04579487658468842, 0.04579487658467481, 0.04579487658474006, 0.04579487658467603, 0.04579487658479378, 0.045794876584702555, 0.0457948765846716, 0.04579487658467526, 0.04579487658484249, 0.0457948765846716, 0.04579487658467191, 0.04579487658476418, 0.045794876584726474, 0.045794876584728694, 0.04579487658478024, 0.045794876584676604, 0.04579487658470559, 0.04579487658468273, 0.04579487658468369, 0.04579487658483548, 0.04579487658483548, 0.045794876584779196, 0.04579487658477827, 0.04579487658477229, 0.045794876584756616, 0.045794876584753876, 0.045794876584753716, 0.045794876584753154, 0.04579487658475294, 0.045794876584751794, 0.04579487658474575, 0.045794876584739894, 0.04579487658473514, 0.045794876584729194, 0.04579487658472512, 0.04579487658471717, 0.04579487658471476, 4316.236125223134, 1345.4051882661959, 0.04523076441942784, 0.04523076441942784, 0.04523076441942784, 0.045230764419465545, 0.04523076441942784, 0.04523076441947167, 0.04523076441950075, 0.04523076441944311, 0.04523076441942784, 0.045230764419441245, 0.045230764419434105, 0.04523076441955777, 0.04523076441945973, 0.045230764419488916, 0.04523076441965268, 0.045230764419447234, 0.045230764419539916, 0.04523076441944916, 0.04523076441942919, 0.0452307644195366, 0.045230764419435174, 0.045230764419432926, 0.04523076441943043, 0.04523076441944415, 0.045230764419560074, 0.045230764419438234, 0.045230764419630184, 0.04523076441942855, 0.04523076441987957, 0.04523076441960099, 0.04523076441959762, 0.04523076441957862, 0.04523076441956256, 0.045230764419556466, 0.04523076441954614, 0.04523076441952608, 0.045230764419504944, 0.04523076441950426, 0.04523076441950159, 0.04523076441950024, 0.04523076441949993, 0.04523076441949783, 0.045230764419491816, 0.04523076441947746, 0.04523076441947409, 0.04523076441947285, 0.04523076441947105, 4998.479988729147, 0.04837946644721796, 0.04837946644721796, 0.04837946644726951, 0.04837946644721796, 0.04837946644724739, 0.04837946644721796, 0.048379466447326346, 0.048379466447358466, 0.04837946644727718, 0.04837946644723864, 0.04837946644721796, 0.04837946644721796, 0.04837946644722985, 0.04837946644733187, 0.04837946644735531, 0.04837946644722279, 0.04837946644721796, 0.0483794664476637, 0.048379466447219514, 0.04837946644723092, 0.04837946644727506, 0.04837946644731414, 0.048379466447262896, 0.048379466447490554, 0.048379466447270654, 0.04837946644723479, 0.04837946644722981, 0.04837946644724874, 0.0483794664473938, 0.04837946644776616, 0.048379466447346066, 0.048379466447339314, 0.04837946644731484, 0.04837946644731352, 0.048379466447312, 0.04837946644730216, 0.04837946644730082, 0.048379466447299256, 0.04837946644729431, 0.048379466447285954, 0.04837946644728351, 0.048379466447282346, 0.04837946644728056, 0.048379466447272215, 0.04837946644726662, 0.04837946644726601, 2100.165054464477, 1730.3297768945295, 966.6791331073531, 95.47353634181614, 0.04907439111253555, 0.04907439111253555, 0.04907439111253555, 0.049074391112645804, 0.049074391112819735, 0.04907439111253555, 0.04907439111287317, 0.049074391112540965, 0.049074391112669535, 0.04907439111260254, 0.04907439111253555, 0.04907439111260482, 0.049074391112582084, 0.049074391112759914, 0.04907439111255429, 0.04907439111253555, 0.049074391112561976, 0.049074391112548084, 0.04907439111260397, 0.04907439111254615, 0.049074391112536066, 0.049074391112543456, 0.049074391112538855, 0.04907439111255996, 0.04907439111253786, 0.0490743911128404, 0.04907439111279096, 0.04907439111266808, 0.04907439111265163, 0.049074391112636825, 0.04907439111262902, 0.04907439111262308, 0.049074391112620186, 0.04907439111261889, 0.049074391112617945, 0.04907439111261381, 0.04907439111260924, 0.04907439111260633, 0.049074391112589474, 0.049074391112579524, 0.04907439111257911, 0.04907439111257802, 1673.6478166343245, 1436.0501024483538, 1197.4653467724897, 406.96813933194454, 0.05242396764288406, 0.05242396764288406, 0.05242396764288406, 0.05242396764288406, 0.05242396764289084, 0.05242396764288406, 0.05242396764288406, 0.05242396764291563, 0.05242396764308365, 0.05242396764288406, 0.05242396764296491, 0.05242396764355624, 0.0524239676428922, 0.05242396764326154, 0.05242396764309502, 0.05242396764289253, 0.052423967642913856, 0.052423967642930884, 0.05242396764288406, 0.052423967643010404, 0.05242396764292291, 0.052423967642903455, 0.05242396764304043, 0.052423967643001175, 0.052423967642903004, 0.05242396764306868, 0.05242396764312348, 0.052423967643093046, 0.052423967643028854, 0.05242396764300923, 0.052423967643005255, 0.05242396764299729, 0.05242396764297452, 0.052423967642971005, 0.05242396764296372, 0.05242396764295962, 0.052423967642950625, 0.052423967642949855, 0.05242396764294571, 0.052423967642942354, 0.05242396764294092, 0.05242396764293823, 0.052423967642937976, 1743.9097756992103, 1597.192705232823, 55.0035017229873, 1014.2702251227514, 0.05648723711464343, 0.05648723711464343, 0.05648723711464343, 0.05648723711464343, 0.056487237114732816, 0.05648723711464343, 0.056487237115159114, 0.05648723711464343, 0.05648723711469741, 0.05648723711467171, 0.056487237114649896, 0.05648723711465263, 0.05648723711476375, 0.05648723711470464, 0.05648723711464343, 0.05648723711465223, 0.05648723711486048, 0.05648723711468236, 0.056487237114660964, 0.05648723711479843, 0.05648723711464965, 0.05648723711464556, 0.056487237114644935, 0.05648723711468529, 0.056487237114668624, 0.05648723711465612, 0.05648723711503101, 0.05648723711486282, 0.05648723711482307, 0.05648723711480889, 0.05648723711479438, 0.05648723711478831, 0.05648723711476513, 0.056487237114742135, 0.05648723711473006, 0.056487237114727015, 0.05648723711471811, 0.05648723711470823, 0.0564872371147079, 0.05648723711470616, 0.05648723711470567, 0.056487237114699725, 0.056487237114699246, 0.0564872371146982, 0.05648723711469217, 2082.3311375011067, 1158.431239879048, 496.4790035917785, 380.13694475952497, 251.43806442243277, 0.05670737366821625, 0.05670737366821625, 0.05670737366821625, 0.056707373668408785, 0.05670737366821625, 0.056707373668252584, 0.05670737366897165, 0.056707373668228596, 0.05670737366821625, 0.05670737366821625, 0.05670737366827851, 0.05670737366828928, 0.05670737366828797, 0.05670737366865788, 0.05670737366889195, 0.05670737366823692, 0.05670737366826327, 0.056707373668220526, 0.05670737366821625, 0.056707373668224675, 0.056707373668240364, 0.056707373668218014, 0.056707373668281186, 0.05670737366838419, 0.05670737366822482, 0.05670737366848748, 0.056707373668473476, 0.05670737366841507, 0.05670737366840455, 0.056707373668403435, 0.05670737366835386, 0.056707373668351005, 0.0567073736683455, 0.05670737366833777, 0.05670737366833503, 0.05670737366833273, 0.056707373668331375, 0.056707373668307616, 0.05670737366830034, 0.05670737366828652, 0.05670737366828646, 0.05670737366828517, 0.05670737366828203, 4328.546334505266, 0.055883907736081956, 0.055883907736081956, 0.05588390773618463, 0.055883907736081956, 0.055883907736081956, 0.055883907736081956, 0.055883907736081956, 0.0558839077360982, 0.05588390773615885, 0.055883907736081956, 0.05588390773608905, 0.055883907736081956, 0.055883907736114034, 0.05588390773618912, 0.055883907736139916, 0.05588390773609733, 0.055883907736082525, 0.05588390773618784, 0.05588390773608304, 0.05588390773612592, 0.05588390773610314, 0.0558839077360953, 0.05588390773610663, 0.05588390773610471, 0.055883907736135933, 0.05588390773608922, 0.055883907736140104, 0.05588390773608707, 0.055883907736113084, 0.055883907736308074, 0.055883907736250654, 0.05588390773620038, 0.0558839077361915, 0.05588390773617156, 0.05588390773616369, 0.055883907736158395, 0.05588390773615437, 0.05588390773615299, 0.055883907736150165, 0.055883907736147986, 0.055883907736147424, 0.055883907736146404, 0.05588390773614606, 0.055883907736145974, 0.055883907736134976, 0.05588390773613365, 0.05588390773613017, 0.05588390773612852, 0.055883907736124776, 0.05588390773612435, 1664.1425212462766, 955.0934733106159, 703.798924894506, 350.7831865434258, 0.0741158657057715, 0.0741158657057715, 0.0741158657057715, 0.0741158657057715, 0.0741158657057715, 0.07411586570580023, 0.07411586570580084, 0.07411586570585701, 0.07411586570586458, 0.07411586570582791, 0.0741158657058191, 0.0741158657057715, 0.07411586570585353, 0.07411586570600334, 0.07411586570627794, 0.07411586570581737, 0.0741158657057715, 0.07411586570590008, 0.07411586570582565, 0.07411586570590771, 0.0741158657058337, 0.07411586570581359, 0.07411586570587382, 0.07411586570584806, 0.07411586570579316, 0.07411586570600065, 0.07411586570603368, 0.07411586570600556, 0.07411586570598326, 0.074115865705971, 0.07411586570596752, 0.07411586570593298, 0.07411586570593295, 0.07411586570593223, 0.07411586570592835, 0.07411586570592679, 0.0741158657059262, 0.07411586570592264, 0.07411586570590453, 0.0741158657058954, 0.07411586570589425, 0.07411586570588719, 0.0741158657058819, 0.07411586570588147, 0.07411586570588055, 0.07411586570587406], \"Term\": [\"spice\", \"cherry\", \"citrus\", \"vanilla\", \"apple\", \"blackberry\", \"plum\", \"pear\", \"peach\", \"lemon\", \"raspberry\", \"orange\", \"honey\", \"lime\", \"leather\", \"smoke\", \"apricot\", \"cinnamon\", \"coffee\", \"tobacco\", \"grapefruit\", \"strawberry\", \"earth\", \"pineapple\", \"blueberry\", \"anise\", \"cranberry\", \"flower\", \"raisin\", \"olive\", \"coconut\", \"persimmon\", \"cherry\", \"plum\", \"corked\", \"brettanomyces\", \"petroleum\", \"fruitcake\", \"garlic\", \"peony\", \"elderflower\", \"sourdough\", \"vegetable\", \"onion\", \"vinegar\", \"jalape\\u00f1o\", \"date\", \"potpourri\", \"lilac\", \"iris\", \"marmalade\", \"bubblegum\", \"hibiscus\", \"guava\", \"beeswax\", \"quince\", \"acacia\", \"truffle\", \"toffee\", \"eucalyptus\", \"raspberry\", \"spice\", \"rose\", \"cranberry\", \"violet\", \"vanilla\", \"flower\", \"tobacco\", \"anise\", \"earth\", \"strawberry\", \"cocoa\", \"cinnamon\", \"blackberry\", \"mint\", \"pomegranate\", \"thyme\", \"blueberry\", \"raspberry\", \"potpourri\", \"vegetable\", \"plum\", \"corked\", \"brettanomyces\", \"petroleum\", \"fruitcake\", \"garlic\", \"peony\", \"elderflower\", \"sourdough\", \"onion\", \"vinegar\", \"persimmon\", \"jalape\\u00f1o\", \"date\", \"lilac\", \"iris\", \"marmalade\", \"bubblegum\", \"hibiscus\", \"guava\", \"beeswax\", \"quince\", \"acacia\", \"truffle\", \"toffee\", \"eucalyptus\", \"gooseberry\", \"cherry\", \"spice\", \"rose\", \"blackberry\", \"mint\", \"cranberry\", \"tobacco\", \"violet\", \"strawberry\", \"vanilla\", \"flower\", \"coconut\", \"earth\", \"leather\", \"cocoa\", \"anise\", \"tomato\", \"fennel\", \"boysenberry\", \"mint\", \"eucalyptus\", \"truffle\", \"blackberry\", \"cherry\", \"corked\", \"brettanomyces\", \"petroleum\", \"fruitcake\", \"garlic\", \"peony\", \"elderflower\", \"sourdough\", \"vegetable\", \"onion\", \"vinegar\", \"persimmon\", \"jalape\\u00f1o\", \"date\", \"potpourri\", \"lilac\", \"iris\", \"marmalade\", \"bubblegum\", \"hibiscus\", \"guava\", \"beeswax\", \"quince\", \"acacia\", \"toffee\", \"spice\", \"plum\", \"coconut\", \"raspberry\", \"tobacco\", \"rose\", \"violet\", \"anise\", \"flower\", \"cranberry\", \"leather\", \"vanilla\", \"earth\", \"thyme\", \"cocoa\", \"cinnamon\", \"coffee\", \"spice\", \"date\", \"fruitcake\", \"corked\", \"brettanomyces\", \"petroleum\", \"garlic\", \"peony\", \"elderflower\", \"sourdough\", \"vegetable\", \"onion\", \"vinegar\", \"persimmon\", \"jalape\\u00f1o\", \"potpourri\", \"lilac\", \"iris\", \"marmalade\", \"bubblegum\", \"hibiscus\", \"guava\", \"beeswax\", \"quince\", \"acacia\", \"truffle\", \"toffee\", \"eucalyptus\", \"gooseberry\", \"jasmine\", \"cherry\", \"plum\", \"coconut\", \"raspberry\", \"blackberry\", \"rose\", \"tobacco\", \"lychee\", \"flower\", \"mint\", \"vanilla\", \"cranberry\", \"violet\", \"leather\", \"apple\", \"anise\", \"cinnamon\", \"earth\", \"cocoa\", \"rose\", \"nectarine\", \"apple\", \"corked\", \"brettanomyces\", \"petroleum\", \"fruitcake\", \"garlic\", \"peony\", \"elderflower\", \"sourdough\", \"vegetable\", \"onion\", \"vinegar\", \"persimmon\", \"jalape\\u00f1o\", \"date\", \"potpourri\", \"lilac\", \"iris\", \"marmalade\", \"bubblegum\", \"hibiscus\", \"guava\", \"beeswax\", \"quince\", \"acacia\", \"truffle\", \"toffee\", \"eucalyptus\", \"lemon\", \"peach\", \"citrus\", \"lychee\", \"flower\", \"grass\", \"cherry\", \"honeysuckle\", \"spice\", \"lime\", \"grapefruit\", \"pineapple\", \"jasmine\", \"raspberry\", \"orange\", \"flower\", \"grass\", \"lychee\", \"peach\", \"corked\", \"brettanomyces\", \"petroleum\", \"fruitcake\", \"garlic\", \"peony\", \"elderflower\", \"sourdough\", \"vegetable\", \"onion\", \"vinegar\", \"persimmon\", \"jalape\\u00f1o\", \"date\", \"potpourri\", \"lilac\", \"iris\", \"marmalade\", \"bubblegum\", \"hibiscus\", \"guava\", \"beeswax\", \"quince\", \"acacia\", \"truffle\", \"toffee\", \"nectarine\", \"apple\", \"jasmine\", \"citrus\", \"lemon\", \"pear\", \"honeysuckle\", \"pineapple\", \"rose\", \"mango\", \"cherry\", \"gooseberry\", \"grapefruit\", \"lime\", \"spice\", \"mint\", \"honey\", \"orange\", \"pear\", \"jasmine\", \"apple\", \"corked\", \"brettanomyces\", \"petroleum\", \"fruitcake\", \"garlic\", \"peony\", \"elderflower\", \"sourdough\", \"vegetable\", \"onion\", \"vinegar\", \"persimmon\", \"jalape\\u00f1o\", \"date\", \"potpourri\", \"lilac\", \"iris\", \"marmalade\", \"bubblegum\", \"hibiscus\", \"guava\", \"beeswax\", \"quince\", \"acacia\", \"truffle\", \"toffee\", \"eucalyptus\", \"peach\", \"lemon\", \"citrus\", \"flower\", \"nectarine\", \"honeysuckle\", \"pineapple\", \"grass\", \"coconut\", \"lychee\", \"lime\", \"vanilla\", \"spice\", \"grapefruit\", \"mango\", \"orange\", \"honey\", \"apricot\", \"butter\", \"citrus\", \"marmalade\", \"elderflower\", \"corked\", \"brettanomyces\", \"petroleum\", \"fruitcake\", \"garlic\", \"peony\", \"sourdough\", \"vegetable\", \"onion\", \"vinegar\", \"persimmon\", \"jalape\\u00f1o\", \"date\", \"potpourri\", \"lilac\", \"iris\", \"bubblegum\", \"hibiscus\", \"guava\", \"beeswax\", \"quince\", \"acacia\", \"truffle\", \"toffee\", \"eucalyptus\", \"gooseberry\", \"jasmine\", \"apple\", \"grass\", \"nectarine\", \"peach\", \"lemon\", \"flower\", \"lychee\", \"pear\", \"grapefruit\", \"pineapple\", \"orange\", \"honeysuckle\", \"lime\", \"spice\", \"cranberry\", \"guava\", \"jalape\\u00f1o\", \"sourdough\", \"lemon\", \"corked\", \"brettanomyces\", \"petroleum\", \"fruitcake\", \"garlic\", \"peony\", \"elderflower\", \"vegetable\", \"onion\", \"vinegar\", \"persimmon\", \"date\", \"potpourri\", \"lilac\", \"iris\", \"marmalade\", \"bubblegum\", \"hibiscus\", \"beeswax\", \"quince\", \"acacia\", \"truffle\", \"toffee\", \"eucalyptus\", \"gooseberry\", \"apple\", \"grass\", \"cherry\", \"peach\", \"nectarine\", \"coconut\", \"rose\", \"pineapple\", \"raspberry\", \"grapefruit\", \"pear\", \"jasmine\", \"citrus\", \"flower\", \"spice\", \"mango\", \"orange\", \"plum\", \"vanilla\", \"corked\", \"brettanomyces\", \"petroleum\", \"fruitcake\", \"garlic\", \"peony\", \"elderflower\", \"sourdough\", \"vegetable\", \"onion\", \"vinegar\", \"persimmon\", \"jalape\\u00f1o\", \"date\", \"potpourri\", \"lilac\", \"iris\", \"marmalade\", \"bubblegum\", \"hibiscus\", \"guava\", \"beeswax\", \"quince\", \"acacia\", \"truffle\", \"toffee\", \"eucalyptus\", \"gooseberry\", \"jasmine\", \"coconut\", \"plum\", \"cherry\", \"spice\", \"raspberry\", \"blackberry\", \"mint\", \"tobacco\", \"apple\", \"pineapple\", \"lemon\", \"peach\", \"cocoa\", \"coffee\", \"cranberry\", \"flower\", \"rose\", \"cinnamon\", \"honeysuckle\", \"leather\", \"vinegar\", \"brettanomyces\", \"corked\", \"tobacco\", \"cherry\", \"petroleum\", \"fruitcake\", \"garlic\", \"peony\", \"elderflower\", \"sourdough\", \"vegetable\", \"onion\", \"persimmon\", \"jalape\\u00f1o\", \"date\", \"potpourri\", \"lilac\", \"iris\", \"marmalade\", \"bubblegum\", \"hibiscus\", \"guava\", \"beeswax\", \"quince\", \"acacia\", \"truffle\", \"toffee\", \"eucalyptus\", \"plum\", \"spice\", \"raspberry\", \"rose\", \"flower\", \"violet\", \"blackberry\", \"mint\", \"anise\", \"earth\", \"cranberry\", \"cinnamon\", \"coconut\", \"vanilla\", \"thyme\", \"coffee\", \"earth\", \"tobacco\", \"corked\", \"brettanomyces\", \"petroleum\", \"fruitcake\", \"garlic\", \"peony\", \"elderflower\", \"sourdough\", \"vegetable\", \"onion\", \"vinegar\", \"persimmon\", \"jalape\\u00f1o\", \"date\", \"potpourri\", \"lilac\", \"iris\", \"marmalade\", \"bubblegum\", \"hibiscus\", \"guava\", \"beeswax\", \"quince\", \"acacia\", \"truffle\", \"toffee\", \"eucalyptus\", \"gooseberry\", \"cherry\", \"plum\", \"spice\", \"blackberry\", \"coconut\", \"raspberry\", \"rose\", \"mint\", \"flower\", \"violet\", \"cranberry\", \"vanilla\", \"anise\", \"leather\", \"coffee\", \"mushroom\", \"olive\", \"cocoa\", \"raisin\", \"cinnamon\", \"strawberry\", \"strawberry\", \"pineapple\", \"corked\", \"brettanomyces\", \"petroleum\", \"fruitcake\", \"garlic\", \"peony\", \"elderflower\", \"sourdough\", \"vegetable\", \"onion\", \"vinegar\", \"persimmon\", \"jalape\\u00f1o\", \"date\", \"potpourri\", \"lilac\", \"iris\", \"marmalade\", \"bubblegum\", \"hibiscus\", \"guava\", \"beeswax\", \"quince\", \"acacia\", \"truffle\", \"toffee\", \"eucalyptus\", \"gooseberry\", \"mango\", \"cherry\", \"rose\", \"raspberry\", \"peach\", \"lemon\", \"coconut\", \"apple\", \"cranberry\", \"spice\", \"vanilla\", \"plum\", \"nectarine\", \"citrus\", \"mint\", \"orange\", \"pear\", \"fennel\", \"grapefruit\", \"violet\", \"gooseberry\", \"iris\", \"corked\", \"brettanomyces\", \"petroleum\", \"fruitcake\", \"garlic\", \"peony\", \"elderflower\", \"sourdough\", \"vegetable\", \"onion\", \"vinegar\", \"persimmon\", \"jalape\\u00f1o\", \"date\", \"potpourri\", \"lilac\", \"marmalade\", \"bubblegum\", \"hibiscus\", \"guava\", \"beeswax\", \"quince\", \"acacia\", \"truffle\", \"toffee\", \"eucalyptus\", \"grass\", \"cherry\", \"rose\", \"lemon\", \"nectarine\", \"raspberry\", \"lychee\", \"plum\", \"apple\", \"citrus\", \"lime\", \"peach\", \"spice\", \"mint\", \"anise\", \"pineapple\", \"orange\", \"jasmine\", \"orange\", \"mango\", \"corked\", \"brettanomyces\", \"petroleum\", \"fruitcake\", \"garlic\", \"peony\", \"elderflower\", \"sourdough\", \"vegetable\", \"onion\", \"vinegar\", \"persimmon\", \"jalape\\u00f1o\", \"date\", \"potpourri\", \"lilac\", \"iris\", \"marmalade\", \"bubblegum\", \"hibiscus\", \"guava\", \"beeswax\", \"quince\", \"acacia\", \"truffle\", \"toffee\", \"eucalyptus\", \"gooseberry\", \"lychee\", \"jasmine\", \"pineapple\", \"peach\", \"nectarine\", \"lemon\", \"apple\", \"rose\", \"honeysuckle\", \"cherry\", \"coconut\", \"citrus\", \"lime\", \"grapefruit\", \"apricot\", \"spice\", \"vanilla\", \"grass\", \"pear\", \"cranberry\", \"lime\", \"quince\", \"garlic\", \"lemon\", \"corked\", \"brettanomyces\", \"petroleum\", \"fruitcake\", \"peony\", \"elderflower\", \"sourdough\", \"vegetable\", \"onion\", \"vinegar\", \"persimmon\", \"jalape\\u00f1o\", \"date\", \"potpourri\", \"lilac\", \"iris\", \"marmalade\", \"bubblegum\", \"hibiscus\", \"guava\", \"beeswax\", \"acacia\", \"truffle\", \"toffee\", \"eucalyptus\", \"gooseberry\", \"apple\", \"grass\", \"nectarine\", \"lychee\", \"grapefruit\", \"peach\", \"jasmine\", \"pineapple\", \"pear\", \"mango\", \"honeysuckle\", \"citrus\", \"slate\", \"orange\", \"coconut\", \"coffee\", \"fennel\", \"cherry\", \"corked\", \"brettanomyces\", \"petroleum\", \"fruitcake\", \"garlic\", \"peony\", \"elderflower\", \"sourdough\", \"vegetable\", \"onion\", \"vinegar\", \"persimmon\", \"jalape\\u00f1o\", \"date\", \"potpourri\", \"lilac\", \"iris\", \"marmalade\", \"bubblegum\", \"hibiscus\", \"guava\", \"beeswax\", \"quince\", \"acacia\", \"truffle\", \"toffee\", \"eucalyptus\", \"coconut\", \"plum\", \"blackberry\", \"spice\", \"raspberry\", \"vanilla\", \"mint\", \"rose\", \"cranberry\", \"tobacco\", \"earth\", \"cocoa\", \"anise\", \"violet\", \"flower\", \"thyme\", \"anise\", \"cocoa\", \"honeysuckle\", \"corked\", \"brettanomyces\", \"petroleum\", \"fruitcake\", \"garlic\", \"peony\", \"elderflower\", \"sourdough\", \"vegetable\", \"onion\", \"vinegar\", \"persimmon\", \"jalape\\u00f1o\", \"date\", \"potpourri\", \"lilac\", \"iris\", \"marmalade\", \"bubblegum\", \"hibiscus\", \"guava\", \"beeswax\", \"quince\", \"acacia\", \"truffle\", \"toffee\", \"eucalyptus\", \"cherry\", \"jasmine\", \"plum\", \"rose\", \"raspberry\", \"coconut\", \"spice\", \"mint\", \"flower\", \"blackberry\", \"violet\", \"cranberry\", \"peach\", \"vanilla\", \"tobacco\", \"apple\", \"fennel\", \"cinnamon\", \"blueberry\", \"boysenberry\", \"acacia\", \"petroleum\", \"blackberry\", \"corked\", \"brettanomyces\", \"fruitcake\", \"garlic\", \"peony\", \"elderflower\", \"sourdough\", \"vegetable\", \"onion\", \"vinegar\", \"persimmon\", \"jalape\\u00f1o\", \"date\", \"potpourri\", \"lilac\", \"iris\", \"marmalade\", \"bubblegum\", \"hibiscus\", \"guava\", \"beeswax\", \"quince\", \"truffle\", \"toffee\", \"eucalyptus\", \"plum\", \"cherry\", \"spice\", \"violet\", \"flower\", \"coconut\", \"mint\", \"lavender\", \"tobacco\", \"raspberry\", \"fennel\", \"vanilla\", \"thyme\", \"cocoa\", \"anise\", \"leather\", \"slate\", \"apricot\", \"peach\", \"corked\", \"brettanomyces\", \"petroleum\", \"fruitcake\", \"garlic\", \"peony\", \"elderflower\", \"sourdough\", \"vegetable\", \"onion\", \"vinegar\", \"persimmon\", \"jalape\\u00f1o\", \"date\", \"potpourri\", \"lilac\", \"iris\", \"marmalade\", \"bubblegum\", \"hibiscus\", \"guava\", \"beeswax\", \"quince\", \"acacia\", \"truffle\", \"toffee\", \"eucalyptus\", \"gooseberry\", \"jasmine\", \"nectarine\", \"lemon\", \"pineapple\", \"honeysuckle\", \"honey\", \"apple\", \"citrus\", \"pear\", \"mango\", \"orange\", \"rose\", \"lychee\", \"coconut\", \"vanilla\", \"spice\", \"flower\", \"grapefruit\", \"cinnamon\", \"thyme\", \"corked\", \"brettanomyces\", \"petroleum\", \"fruitcake\", \"garlic\", \"peony\", \"elderflower\", \"sourdough\", \"vegetable\", \"onion\", \"vinegar\", \"persimmon\", \"jalape\\u00f1o\", \"date\", \"potpourri\", \"lilac\", \"iris\", \"marmalade\", \"bubblegum\", \"hibiscus\", \"guava\", \"beeswax\", \"quince\", \"acacia\", \"truffle\", \"toffee\", \"eucalyptus\", \"gooseberry\", \"cherry\", \"rose\", \"raspberry\", \"plum\", \"spice\", \"mint\", \"cranberry\", \"flower\", \"violet\", \"fennel\", \"blackberry\", \"strawberry\", \"vanilla\", \"anise\", \"tobacco\", \"earth\", \"lavender\", \"cocoa\", \"slate\", \"honey\", \"corked\", \"brettanomyces\", \"petroleum\", \"fruitcake\", \"garlic\", \"peony\", \"elderflower\", \"sourdough\", \"vegetable\", \"onion\", \"vinegar\", \"persimmon\", \"jalape\\u00f1o\", \"date\", \"potpourri\", \"lilac\", \"iris\", \"marmalade\", \"bubblegum\", \"hibiscus\", \"guava\", \"beeswax\", \"quince\", \"acacia\", \"truffle\", \"toffee\", \"eucalyptus\", \"gooseberry\", \"jasmine\", \"peach\", \"lemon\", \"apple\", \"apricot\", \"flower\", \"pineapple\", \"citrus\", \"mango\", \"lychee\", \"orange\", \"vanilla\", \"pear\", \"nectarine\", \"rose\", \"spice\", \"grass\", \"honeysuckle\", \"olive\", \"tomato\", \"slate\", \"onion\", \"corked\", \"brettanomyces\", \"petroleum\", \"fruitcake\", \"garlic\", \"peony\", \"elderflower\", \"sourdough\", \"vegetable\", \"vinegar\", \"persimmon\", \"jalape\\u00f1o\", \"date\", \"potpourri\", \"lilac\", \"iris\", \"marmalade\", \"bubblegum\", \"hibiscus\", \"guava\", \"beeswax\", \"quince\", \"acacia\", \"truffle\", \"toffee\", \"eucalyptus\", \"plum\", \"cherry\", \"mint\", \"grass\", \"cranberry\", \"raspberry\", \"blackberry\", \"thyme\", \"spice\", \"fennel\", \"tobacco\", \"earth\", \"rose\", \"nectarine\", \"grapefruit\", \"boysenberry\", \"pomegranate\", \"fig\", \"mushroom\", \"beeswax\", \"corked\", \"brettanomyces\", \"petroleum\", \"fruitcake\", \"garlic\", \"peony\", \"elderflower\", \"sourdough\", \"vegetable\", \"onion\", \"vinegar\", \"persimmon\", \"jalape\\u00f1o\", \"date\", \"potpourri\", \"lilac\", \"iris\", \"marmalade\", \"bubblegum\", \"hibiscus\", \"guava\", \"quince\", \"acacia\", \"truffle\", \"toffee\", \"eucalyptus\", \"cherry\", \"cranberry\", \"plum\", \"raspberry\", \"rose\", \"coconut\", \"fennel\", \"spice\", \"earth\", \"flower\", \"blackberry\", \"thyme\", \"mint\", \"tobacco\", \"grass\", \"slate\", \"strawberry\", \"cream\", \"butter\", \"peony\", \"vanilla\", \"corked\", \"brettanomyces\", \"petroleum\", \"fruitcake\", \"garlic\", \"elderflower\", \"sourdough\", \"vegetable\", \"onion\", \"vinegar\", \"persimmon\", \"jalape\\u00f1o\", \"date\", \"potpourri\", \"lilac\", \"iris\", \"marmalade\", \"bubblegum\", \"hibiscus\", \"guava\", \"beeswax\", \"quince\", \"acacia\", \"truffle\", \"toffee\", \"eucalyptus\", \"coconut\", \"apple\", \"lemon\", \"pineapple\", \"peach\", \"nectarine\", \"pear\", \"honeysuckle\", \"spice\", \"jasmine\", \"cherry\", \"citrus\", \"mango\", \"rose\", \"raspberry\", \"orange\", \"honey\", \"plum\", \"cinnamon\", \"raisin\", \"lavender\", \"toffee\", \"hibiscus\", \"lilac\", \"corked\", \"brettanomyces\", \"petroleum\", \"fruitcake\", \"garlic\", \"peony\", \"elderflower\", \"sourdough\", \"vegetable\", \"onion\", \"vinegar\", \"persimmon\", \"jalape\\u00f1o\", \"date\", \"potpourri\", \"iris\", \"marmalade\", \"bubblegum\", \"guava\", \"beeswax\", \"quince\", \"acacia\", \"truffle\", \"eucalyptus\", \"gooseberry\", \"plum\", \"rose\", \"blackberry\", \"coconut\", \"cherry\", \"fennel\", \"violet\", \"mint\", \"cranberry\", \"spice\", \"boysenberry\", \"thyme\", \"raspberry\", \"tobacco\", \"pomegranate\", \"slate\", \"fig\", \"vanilla\", \"smoke\", \"corked\", \"brettanomyces\", \"petroleum\", \"fruitcake\", \"garlic\", \"peony\", \"elderflower\", \"sourdough\", \"vegetable\", \"onion\", \"vinegar\", \"persimmon\", \"jalape\\u00f1o\", \"date\", \"potpourri\", \"lilac\", \"iris\", \"marmalade\", \"bubblegum\", \"hibiscus\", \"guava\", \"beeswax\", \"quince\", \"acacia\", \"truffle\", \"toffee\", \"eucalyptus\", \"gooseberry\", \"jasmine\", \"cherry\", \"plum\", \"blackberry\", \"spice\", \"raspberry\", \"cranberry\", \"tobacco\", \"earth\", \"lemon\", \"slate\", \"fennel\", \"vanilla\", \"mint\", \"apple\", \"coconut\", \"coffee\", \"peach\", \"blueberry\", \"flower\", \"boysenberry\", \"thyme\", \"ginger\", \"dill\", \"cooked\", \"bubblegum\", \"corked\", \"brettanomyces\", \"petroleum\", \"fruitcake\", \"garlic\", \"peony\", \"elderflower\", \"sourdough\", \"vegetable\", \"onion\", \"vinegar\", \"persimmon\", \"jalape\\u00f1o\", \"date\", \"potpourri\", \"lilac\", \"iris\", \"marmalade\", \"hibiscus\", \"guava\", \"beeswax\", \"quince\", \"acacia\", \"truffle\", \"toffee\", \"eucalyptus\", \"coconut\", \"nectarine\", \"cherry\", \"fennel\", \"rose\", \"jasmine\", \"plum\", \"lychee\", \"spice\", \"mint\", \"apple\", \"thyme\", \"lemon\", \"flower\", \"strawberry\", \"cranberry\", \"vanilla\", \"blackberry\", \"peach\", \"slate\"], \"Total\": [14783.0, 21116.0, 9455.0, 10155.0, 10421.0, 10056.0, 10456.0, 6877.0, 7761.0, 7414.0, 7319.0, 5534.0, 4999.0, 5024.0, 5306.0, 4329.0, 4482.0, 4317.0, 4465.0, 5106.0, 4123.0, 4045.0, 3743.0, 3646.0, 3317.0, 3052.0, 2788.0, 2778.0, 2083.0, 2101.0, 880.8987979177789, 112.50934613376147, 21116.577617586063, 10456.888315581145, 4.850654185355346, 5.1375243977655725, 31.60428805334496, 41.411961387767484, 41.6297584026786, 56.09897140680866, 69.23726770471384, 74.51419969683893, 78.73080144299348, 96.57641887163963, 106.72534785992619, 132.91903195947708, 146.45787531506085, 204.764634714273, 252.53331396970052, 301.8531715227162, 329.9170291033983, 351.8610275986559, 381.232194306793, 396.4879838266244, 408.0676722852379, 427.8419888612771, 431.7712119009912, 476.2668551415489, 497.57425313904616, 542.8416808109606, 7319.61368661821, 14783.542714729616, 2112.546001280083, 2788.6396082948413, 2103.339961675869, 10155.322263133014, 2778.56161649979, 5106.03521594919, 3052.5493609545842, 3743.559407026626, 4045.3649720371045, 1867.0922601435966, 4317.342851379651, 10056.715282497993, 1994.8370376485916, 1674.747349587618, 1346.5119144227126, 3317.1647628368273, 7319.61368661821, 204.764634714273, 78.73080144299348, 10456.888315581145, 4.850654185355346, 5.1375243977655725, 31.60428805334496, 41.411961387767484, 41.6297584026786, 56.09897140680866, 69.23726770471384, 74.51419969683893, 96.57641887163963, 106.72534785992619, 112.50934613376147, 132.91903195947708, 146.45787531506085, 252.53331396970052, 301.8531715227162, 329.9170291033983, 351.8610275986559, 381.232194306793, 396.4879838266244, 408.0676722852379, 427.8419888612771, 431.7712119009912, 476.2668551415489, 497.57425313904616, 542.8416808109606, 576.6861433836806, 21116.577617586063, 14783.542714729616, 2112.546001280083, 10056.715282497993, 1994.8370376485916, 2788.6396082948413, 5106.03521594919, 2103.339961675869, 4045.3649720371045, 10155.322263133014, 2778.56161649979, 880.8987979177789, 3743.559407026626, 5306.040542741453, 1867.0922601435966, 3052.5493609545842, 1731.4326594243528, 699.7896843552229, 1267.00707987052, 1994.8370376485916, 542.8416808109606, 476.2668551415489, 10056.715282497993, 21116.577617586063, 4.850654185355346, 5.1375243977655725, 31.60428805334496, 41.411961387767484, 41.6297584026786, 56.09897140680866, 69.23726770471384, 74.51419969683893, 78.73080144299348, 96.57641887163963, 106.72534785992619, 112.50934613376147, 132.91903195947708, 146.45787531506085, 204.764634714273, 252.53331396970052, 301.8531715227162, 329.9170291033983, 351.8610275986559, 381.232194306793, 396.4879838266244, 408.0676722852379, 427.8419888612771, 431.7712119009912, 497.57425313904616, 14783.542714729616, 10456.888315581145, 880.8987979177789, 7319.61368661821, 5106.03521594919, 2112.546001280083, 2103.339961675869, 3052.5493609545842, 2778.56161649979, 2788.6396082948413, 5306.040542741453, 10155.322263133014, 3743.559407026626, 1346.5119144227126, 1867.0922601435966, 4317.342851379651, 4465.206071611493, 14783.542714729616, 146.45787531506085, 41.411961387767484, 4.850654185355346, 5.1375243977655725, 31.60428805334496, 41.6297584026786, 56.09897140680866, 69.23726770471384, 74.51419969683893, 78.73080144299348, 96.57641887163963, 106.72534785992619, 112.50934613376147, 132.91903195947708, 204.764634714273, 252.53331396970052, 301.8531715227162, 329.9170291033983, 351.8610275986559, 381.232194306793, 396.4879838266244, 408.0676722852379, 427.8419888612771, 431.7712119009912, 476.2668551415489, 497.57425313904616, 542.8416808109606, 576.6861433836806, 583.404842762644, 21116.577617586063, 10456.888315581145, 880.8987979177789, 7319.61368661821, 10056.715282497993, 2112.546001280083, 5106.03521594919, 642.5847524873732, 2778.56161649979, 1994.8370376485916, 10155.322263133014, 2788.6396082948413, 2103.339961675869, 5306.040542741453, 10421.604648945431, 3052.5493609545842, 4317.342851379651, 3743.559407026626, 1867.0922601435966, 2112.546001280083, 1456.8214674647195, 10421.604648945431, 4.850654185355346, 5.1375243977655725, 31.60428805334496, 41.411961387767484, 41.6297584026786, 56.09897140680866, 69.23726770471384, 74.51419969683893, 78.73080144299348, 96.57641887163963, 106.72534785992619, 112.50934613376147, 132.91903195947708, 146.45787531506085, 204.764634714273, 252.53331396970052, 301.8531715227162, 329.9170291033983, 351.8610275986559, 381.232194306793, 396.4879838266244, 408.0676722852379, 427.8419888612771, 431.7712119009912, 476.2668551415489, 497.57425313904616, 542.8416808109606, 7414.635613272008, 7761.7134885735295, 9455.799191734615, 642.5847524873732, 2778.56161649979, 796.9755134768791, 21116.577617586063, 1452.1484579341213, 14783.542714729616, 5024.018918733468, 4123.656295807801, 3646.8797872296814, 583.404842762644, 7319.61368661821, 5534.4795110173, 2778.56161649979, 796.9755134768791, 642.5847524873732, 7761.7134885735295, 4.850654185355346, 5.1375243977655725, 31.60428805334496, 41.411961387767484, 41.6297584026786, 56.09897140680866, 69.23726770471384, 74.51419969683893, 78.73080144299348, 96.57641887163963, 106.72534785992619, 112.50934613376147, 132.91903195947708, 146.45787531506085, 204.764634714273, 252.53331396970052, 301.8531715227162, 329.9170291033983, 351.8610275986559, 381.232194306793, 396.4879838266244, 408.0676722852379, 427.8419888612771, 431.7712119009912, 476.2668551415489, 497.57425313904616, 1456.8214674647195, 10421.604648945431, 583.404842762644, 9455.799191734615, 7414.635613272008, 6877.91357861072, 1452.1484579341213, 3646.8797872296814, 2112.546001280083, 1348.9015689018229, 21116.577617586063, 576.6861433836806, 4123.656295807801, 5024.018918733468, 14783.542714729616, 1994.8370376485916, 4999.583566183636, 5534.4795110173, 6877.91357861072, 583.404842762644, 10421.604648945431, 4.850654185355346, 5.1375243977655725, 31.60428805334496, 41.411961387767484, 41.6297584026786, 56.09897140680866, 69.23726770471384, 74.51419969683893, 78.73080144299348, 96.57641887163963, 106.72534785992619, 112.50934613376147, 132.91903195947708, 146.45787531506085, 204.764634714273, 252.53331396970052, 301.8531715227162, 329.9170291033983, 351.8610275986559, 381.232194306793, 396.4879838266244, 408.0676722852379, 427.8419888612771, 431.7712119009912, 476.2668551415489, 497.57425313904616, 542.8416808109606, 7761.7134885735295, 7414.635613272008, 9455.799191734615, 2778.56161649979, 1456.8214674647195, 1452.1484579341213, 3646.8797872296814, 796.9755134768791, 880.8987979177789, 642.5847524873732, 5024.018918733468, 10155.322263133014, 14783.542714729616, 4123.656295807801, 1348.9015689018229, 5534.4795110173, 4999.583566183636, 4482.527538840768, 1598.2881749166443, 9455.799191734615, 329.9170291033983, 69.23726770471384, 4.850654185355346, 5.1375243977655725, 31.60428805334496, 41.411961387767484, 41.6297584026786, 56.09897140680866, 74.51419969683893, 78.73080144299348, 96.57641887163963, 106.72534785992619, 112.50934613376147, 132.91903195947708, 146.45787531506085, 204.764634714273, 252.53331396970052, 301.8531715227162, 351.8610275986559, 381.232194306793, 396.4879838266244, 408.0676722852379, 427.8419888612771, 431.7712119009912, 476.2668551415489, 497.57425313904616, 542.8416808109606, 576.6861433836806, 583.404842762644, 10421.604648945431, 796.9755134768791, 1456.8214674647195, 7761.7134885735295, 7414.635613272008, 2778.56161649979, 642.5847524873732, 6877.91357861072, 4123.656295807801, 3646.8797872296814, 5534.4795110173, 1452.1484579341213, 5024.018918733468, 14783.542714729616, 2788.6396082948413, 396.4879838266244, 132.91903195947708, 74.51419969683893, 7414.635613272008, 4.850654185355346, 5.1375243977655725, 31.60428805334496, 41.411961387767484, 41.6297584026786, 56.09897140680866, 69.23726770471384, 78.73080144299348, 96.57641887163963, 106.72534785992619, 112.50934613376147, 146.45787531506085, 204.764634714273, 252.53331396970052, 301.8531715227162, 329.9170291033983, 351.8610275986559, 381.232194306793, 408.0676722852379, 427.8419888612771, 431.7712119009912, 476.2668551415489, 497.57425313904616, 542.8416808109606, 576.6861433836806, 10421.604648945431, 796.9755134768791, 21116.577617586063, 7761.7134885735295, 1456.8214674647195, 880.8987979177789, 2112.546001280083, 3646.8797872296814, 7319.61368661821, 4123.656295807801, 6877.91357861072, 583.404842762644, 9455.799191734615, 2778.56161649979, 14783.542714729616, 1348.9015689018229, 5534.4795110173, 10456.888315581145, 10155.322263133014, 4.850654185355346, 5.1375243977655725, 31.60428805334496, 41.411961387767484, 41.6297584026786, 56.09897140680866, 69.23726770471384, 74.51419969683893, 78.73080144299348, 96.57641887163963, 106.72534785992619, 112.50934613376147, 132.91903195947708, 146.45787531506085, 204.764634714273, 252.53331396970052, 301.8531715227162, 329.9170291033983, 351.8610275986559, 381.232194306793, 396.4879838266244, 408.0676722852379, 427.8419888612771, 431.7712119009912, 476.2668551415489, 497.57425313904616, 542.8416808109606, 576.6861433836806, 583.404842762644, 880.8987979177789, 10456.888315581145, 21116.577617586063, 14783.542714729616, 7319.61368661821, 10056.715282497993, 1994.8370376485916, 5106.03521594919, 10421.604648945431, 3646.8797872296814, 7414.635613272008, 7761.7134885735295, 1867.0922601435966, 4465.206071611493, 2788.6396082948413, 2778.56161649979, 2112.546001280083, 4317.342851379651, 1452.1484579341213, 5306.040542741453, 106.72534785992619, 5.1375243977655725, 4.850654185355346, 5106.03521594919, 21116.577617586063, 31.60428805334496, 41.411961387767484, 41.6297584026786, 56.09897140680866, 69.23726770471384, 74.51419969683893, 78.73080144299348, 96.57641887163963, 112.50934613376147, 132.91903195947708, 146.45787531506085, 204.764634714273, 252.53331396970052, 301.8531715227162, 329.9170291033983, 351.8610275986559, 381.232194306793, 396.4879838266244, 408.0676722852379, 427.8419888612771, 431.7712119009912, 476.2668551415489, 497.57425313904616, 542.8416808109606, 10456.888315581145, 14783.542714729616, 7319.61368661821, 2112.546001280083, 2778.56161649979, 2103.339961675869, 10056.715282497993, 1994.8370376485916, 3052.5493609545842, 3743.559407026626, 2788.6396082948413, 4317.342851379651, 880.8987979177789, 10155.322263133014, 1346.5119144227126, 4465.206071611493, 3743.559407026626, 5106.03521594919, 4.850654185355346, 5.1375243977655725, 31.60428805334496, 41.411961387767484, 41.6297584026786, 56.09897140680866, 69.23726770471384, 74.51419969683893, 78.73080144299348, 96.57641887163963, 106.72534785992619, 112.50934613376147, 132.91903195947708, 146.45787531506085, 204.764634714273, 252.53331396970052, 301.8531715227162, 329.9170291033983, 351.8610275986559, 381.232194306793, 396.4879838266244, 408.0676722852379, 427.8419888612771, 431.7712119009912, 476.2668551415489, 497.57425313904616, 542.8416808109606, 576.6861433836806, 21116.577617586063, 10456.888315581145, 14783.542714729616, 10056.715282497993, 880.8987979177789, 7319.61368661821, 2112.546001280083, 1994.8370376485916, 2778.56161649979, 2103.339961675869, 2788.6396082948413, 10155.322263133014, 3052.5493609545842, 5306.040542741453, 4465.206071611493, 1198.5648797257827, 2101.2679369943007, 1867.0922601435966, 2083.426387048374, 4317.342851379651, 4045.3649720371045, 4045.3649720371045, 3646.8797872296814, 4.850654185355346, 5.1375243977655725, 31.60428805334496, 41.411961387767484, 41.6297584026786, 56.09897140680866, 69.23726770471384, 74.51419969683893, 78.73080144299348, 96.57641887163963, 106.72534785992619, 112.50934613376147, 132.91903195947708, 146.45787531506085, 204.764634714273, 252.53331396970052, 301.8531715227162, 329.9170291033983, 351.8610275986559, 381.232194306793, 396.4879838266244, 408.0676722852379, 427.8419888612771, 431.7712119009912, 476.2668551415489, 497.57425313904616, 542.8416808109606, 576.6861433836806, 1348.9015689018229, 21116.577617586063, 2112.546001280083, 7319.61368661821, 7761.7134885735295, 7414.635613272008, 880.8987979177789, 10421.604648945431, 2788.6396082948413, 14783.542714729616, 10155.322263133014, 10456.888315581145, 1456.8214674647195, 9455.799191734615, 1994.8370376485916, 5534.4795110173, 6877.91357861072, 699.7896843552229, 4123.656295807801, 2103.339961675869, 576.6861433836806, 301.8531715227162, 4.850654185355346, 5.1375243977655725, 31.60428805334496, 41.411961387767484, 41.6297584026786, 56.09897140680866, 69.23726770471384, 74.51419969683893, 78.73080144299348, 96.57641887163963, 106.72534785992619, 112.50934613376147, 132.91903195947708, 146.45787531506085, 204.764634714273, 252.53331396970052, 329.9170291033983, 351.8610275986559, 381.232194306793, 396.4879838266244, 408.0676722852379, 427.8419888612771, 431.7712119009912, 476.2668551415489, 497.57425313904616, 542.8416808109606, 796.9755134768791, 21116.577617586063, 2112.546001280083, 7414.635613272008, 1456.8214674647195, 7319.61368661821, 642.5847524873732, 10456.888315581145, 10421.604648945431, 9455.799191734615, 5024.018918733468, 7761.7134885735295, 14783.542714729616, 1994.8370376485916, 3052.5493609545842, 3646.8797872296814, 5534.4795110173, 583.404842762644, 5534.4795110173, 1348.9015689018229, 4.850654185355346, 5.1375243977655725, 31.60428805334496, 41.411961387767484, 41.6297584026786, 56.09897140680866, 69.23726770471384, 74.51419969683893, 78.73080144299348, 96.57641887163963, 106.72534785992619, 112.50934613376147, 132.91903195947708, 146.45787531506085, 204.764634714273, 252.53331396970052, 301.8531715227162, 329.9170291033983, 351.8610275986559, 381.232194306793, 396.4879838266244, 408.0676722852379, 427.8419888612771, 431.7712119009912, 476.2668551415489, 497.57425313904616, 542.8416808109606, 576.6861433836806, 642.5847524873732, 583.404842762644, 3646.8797872296814, 7761.7134885735295, 1456.8214674647195, 7414.635613272008, 10421.604648945431, 2112.546001280083, 1452.1484579341213, 21116.577617586063, 880.8987979177789, 9455.799191734615, 5024.018918733468, 4123.656295807801, 4482.527538840768, 14783.542714729616, 10155.322263133014, 796.9755134768791, 6877.91357861072, 2788.6396082948413, 5024.018918733468, 427.8419888612771, 41.6297584026786, 7414.635613272008, 4.850654185355346, 5.1375243977655725, 31.60428805334496, 41.411961387767484, 56.09897140680866, 69.23726770471384, 74.51419969683893, 78.73080144299348, 96.57641887163963, 106.72534785992619, 112.50934613376147, 132.91903195947708, 146.45787531506085, 204.764634714273, 252.53331396970052, 301.8531715227162, 329.9170291033983, 351.8610275986559, 381.232194306793, 396.4879838266244, 408.0676722852379, 431.7712119009912, 476.2668551415489, 497.57425313904616, 542.8416808109606, 576.6861433836806, 10421.604648945431, 796.9755134768791, 1456.8214674647195, 642.5847524873732, 4123.656295807801, 7761.7134885735295, 583.404842762644, 3646.8797872296814, 6877.91357861072, 1348.9015689018229, 1452.1484579341213, 9455.799191734615, 967.782015637177, 5534.4795110173, 880.8987979177789, 4465.206071611493, 699.7896843552229, 21116.577617586063, 4.850654185355346, 5.1375243977655725, 31.60428805334496, 41.411961387767484, 41.6297584026786, 56.09897140680866, 69.23726770471384, 74.51419969683893, 78.73080144299348, 96.57641887163963, 106.72534785992619, 112.50934613376147, 132.91903195947708, 146.45787531506085, 204.764634714273, 252.53331396970052, 301.8531715227162, 329.9170291033983, 351.8610275986559, 381.232194306793, 396.4879838266244, 408.0676722852379, 427.8419888612771, 431.7712119009912, 476.2668551415489, 497.57425313904616, 542.8416808109606, 880.8987979177789, 10456.888315581145, 10056.715282497993, 14783.542714729616, 7319.61368661821, 10155.322263133014, 1994.8370376485916, 2112.546001280083, 2788.6396082948413, 5106.03521594919, 3743.559407026626, 1867.0922601435966, 3052.5493609545842, 2103.339961675869, 2778.56161649979, 1346.5119144227126, 3052.5493609545842, 1867.0922601435966, 1452.1484579341213, 4.850654185355346, 5.1375243977655725, 31.60428805334496, 41.411961387767484, 41.6297584026786, 56.09897140680866, 69.23726770471384, 74.51419969683893, 78.73080144299348, 96.57641887163963, 106.72534785992619, 112.50934613376147, 132.91903195947708, 146.45787531506085, 204.764634714273, 252.53331396970052, 301.8531715227162, 329.9170291033983, 351.8610275986559, 381.232194306793, 396.4879838266244, 408.0676722852379, 427.8419888612771, 431.7712119009912, 476.2668551415489, 497.57425313904616, 542.8416808109606, 21116.577617586063, 583.404842762644, 10456.888315581145, 2112.546001280083, 7319.61368661821, 880.8987979177789, 14783.542714729616, 1994.8370376485916, 2778.56161649979, 10056.715282497993, 2103.339961675869, 2788.6396082948413, 7761.7134885735295, 10155.322263133014, 5106.03521594919, 10421.604648945431, 699.7896843552229, 4317.342851379651, 3317.1647628368273, 1267.00707987052, 431.7712119009912, 31.60428805334496, 10056.715282497993, 4.850654185355346, 5.1375243977655725, 41.411961387767484, 41.6297584026786, 56.09897140680866, 69.23726770471384, 74.51419969683893, 78.73080144299348, 96.57641887163963, 106.72534785992619, 112.50934613376147, 132.91903195947708, 146.45787531506085, 204.764634714273, 252.53331396970052, 301.8531715227162, 329.9170291033983, 351.8610275986559, 381.232194306793, 396.4879838266244, 408.0676722852379, 427.8419888612771, 476.2668551415489, 497.57425313904616, 542.8416808109606, 10456.888315581145, 21116.577617586063, 14783.542714729616, 2103.339961675869, 2778.56161649979, 880.8987979177789, 1994.8370376485916, 1159.526489426316, 5106.03521594919, 7319.61368661821, 699.7896843552229, 10155.322263133014, 1346.5119144227126, 1867.0922601435966, 3052.5493609545842, 5306.040542741453, 967.782015637177, 4482.527538840768, 7761.7134885735295, 4.850654185355346, 5.1375243977655725, 31.60428805334496, 41.411961387767484, 41.6297584026786, 56.09897140680866, 69.23726770471384, 74.51419969683893, 78.73080144299348, 96.57641887163963, 106.72534785992619, 112.50934613376147, 132.91903195947708, 146.45787531506085, 204.764634714273, 252.53331396970052, 301.8531715227162, 329.9170291033983, 351.8610275986559, 381.232194306793, 396.4879838266244, 408.0676722852379, 427.8419888612771, 431.7712119009912, 476.2668551415489, 497.57425313904616, 542.8416808109606, 576.6861433836806, 583.404842762644, 1456.8214674647195, 7414.635613272008, 3646.8797872296814, 1452.1484579341213, 4999.583566183636, 10421.604648945431, 9455.799191734615, 6877.91357861072, 1348.9015689018229, 5534.4795110173, 2112.546001280083, 642.5847524873732, 880.8987979177789, 10155.322263133014, 14783.542714729616, 2778.56161649979, 4123.656295807801, 4317.342851379651, 1346.5119144227126, 4.850654185355346, 5.1375243977655725, 31.60428805334496, 41.411961387767484, 41.6297584026786, 56.09897140680866, 69.23726770471384, 74.51419969683893, 78.73080144299348, 96.57641887163963, 106.72534785992619, 112.50934613376147, 132.91903195947708, 146.45787531506085, 204.764634714273, 252.53331396970052, 301.8531715227162, 329.9170291033983, 351.8610275986559, 381.232194306793, 396.4879838266244, 408.0676722852379, 427.8419888612771, 431.7712119009912, 476.2668551415489, 497.57425313904616, 542.8416808109606, 576.6861433836806, 21116.577617586063, 2112.546001280083, 7319.61368661821, 10456.888315581145, 14783.542714729616, 1994.8370376485916, 2788.6396082948413, 2778.56161649979, 2103.339961675869, 699.7896843552229, 10056.715282497993, 4045.3649720371045, 10155.322263133014, 3052.5493609545842, 5106.03521594919, 3743.559407026626, 1159.526489426316, 1867.0922601435966, 967.782015637177, 4999.583566183636, 4.850654185355346, 5.1375243977655725, 31.60428805334496, 41.411961387767484, 41.6297584026786, 56.09897140680866, 69.23726770471384, 74.51419969683893, 78.73080144299348, 96.57641887163963, 106.72534785992619, 112.50934613376147, 132.91903195947708, 146.45787531506085, 204.764634714273, 252.53331396970052, 301.8531715227162, 329.9170291033983, 351.8610275986559, 381.232194306793, 396.4879838266244, 408.0676722852379, 427.8419888612771, 431.7712119009912, 476.2668551415489, 497.57425313904616, 542.8416808109606, 576.6861433836806, 583.404842762644, 7761.7134885735295, 7414.635613272008, 10421.604648945431, 4482.527538840768, 2778.56161649979, 3646.8797872296814, 9455.799191734615, 1348.9015689018229, 642.5847524873732, 5534.4795110173, 10155.322263133014, 6877.91357861072, 1456.8214674647195, 2112.546001280083, 14783.542714729616, 796.9755134768791, 1452.1484579341213, 2101.2679369943007, 1731.4326594243528, 967.782015637177, 96.57641887163963, 4.850654185355346, 5.1375243977655725, 31.60428805334496, 41.411961387767484, 41.6297584026786, 56.09897140680866, 69.23726770471384, 74.51419969683893, 78.73080144299348, 106.72534785992619, 112.50934613376147, 132.91903195947708, 146.45787531506085, 204.764634714273, 252.53331396970052, 301.8531715227162, 329.9170291033983, 351.8610275986559, 381.232194306793, 396.4879838266244, 408.0676722852379, 427.8419888612771, 431.7712119009912, 476.2668551415489, 497.57425313904616, 542.8416808109606, 10456.888315581145, 21116.577617586063, 1994.8370376485916, 796.9755134768791, 2788.6396082948413, 7319.61368661821, 10056.715282497993, 1346.5119144227126, 14783.542714729616, 699.7896843552229, 5106.03521594919, 3743.559407026626, 2112.546001280083, 1456.8214674647195, 4123.656295807801, 1267.00707987052, 1674.747349587618, 1437.1496354016472, 1198.5648797257827, 408.0676722852379, 4.850654185355346, 5.1375243977655725, 31.60428805334496, 41.411961387767484, 41.6297584026786, 56.09897140680866, 69.23726770471384, 74.51419969683893, 78.73080144299348, 96.57641887163963, 106.72534785992619, 112.50934613376147, 132.91903195947708, 146.45787531506085, 204.764634714273, 252.53331396970052, 301.8531715227162, 329.9170291033983, 351.8610275986559, 381.232194306793, 396.4879838266244, 427.8419888612771, 431.7712119009912, 476.2668551415489, 497.57425313904616, 542.8416808109606, 21116.577617586063, 2788.6396082948413, 10456.888315581145, 7319.61368661821, 2112.546001280083, 880.8987979177789, 699.7896843552229, 14783.542714729616, 3743.559407026626, 2778.56161649979, 10056.715282497993, 1346.5119144227126, 1994.8370376485916, 5106.03521594919, 796.9755134768791, 967.782015637177, 4045.3649720371045, 1745.0052453830315, 1598.2881749166443, 56.09897140680866, 10155.322263133014, 4.850654185355346, 5.1375243977655725, 31.60428805334496, 41.411961387767484, 41.6297584026786, 69.23726770471384, 74.51419969683893, 78.73080144299348, 96.57641887163963, 106.72534785992619, 112.50934613376147, 132.91903195947708, 146.45787531506085, 204.764634714273, 252.53331396970052, 301.8531715227162, 329.9170291033983, 351.8610275986559, 381.232194306793, 396.4879838266244, 408.0676722852379, 427.8419888612771, 431.7712119009912, 476.2668551415489, 497.57425313904616, 542.8416808109606, 880.8987979177789, 10421.604648945431, 7414.635613272008, 3646.8797872296814, 7761.7134885735295, 1456.8214674647195, 6877.91357861072, 1452.1484579341213, 14783.542714729616, 583.404842762644, 21116.577617586063, 9455.799191734615, 1348.9015689018229, 2112.546001280083, 7319.61368661821, 5534.4795110173, 4999.583566183636, 10456.888315581145, 4317.342851379651, 2083.426387048374, 1159.526489426316, 497.57425313904616, 381.232194306793, 252.53331396970052, 4.850654185355346, 5.1375243977655725, 31.60428805334496, 41.411961387767484, 41.6297584026786, 56.09897140680866, 69.23726770471384, 74.51419969683893, 78.73080144299348, 96.57641887163963, 106.72534785992619, 112.50934613376147, 132.91903195947708, 146.45787531506085, 204.764634714273, 301.8531715227162, 329.9170291033983, 351.8610275986559, 396.4879838266244, 408.0676722852379, 427.8419888612771, 431.7712119009912, 476.2668551415489, 542.8416808109606, 576.6861433836806, 10456.888315581145, 2112.546001280083, 10056.715282497993, 880.8987979177789, 21116.577617586063, 699.7896843552229, 2103.339961675869, 1994.8370376485916, 2788.6396082948413, 14783.542714729616, 1267.00707987052, 1346.5119144227126, 7319.61368661821, 5106.03521594919, 1674.747349587618, 967.782015637177, 1437.1496354016472, 10155.322263133014, 4329.642407518466, 4.850654185355346, 5.1375243977655725, 31.60428805334496, 41.411961387767484, 41.6297584026786, 56.09897140680866, 69.23726770471384, 74.51419969683893, 78.73080144299348, 96.57641887163963, 106.72534785992619, 112.50934613376147, 132.91903195947708, 146.45787531506085, 204.764634714273, 252.53331396970052, 301.8531715227162, 329.9170291033983, 351.8610275986559, 381.232194306793, 396.4879838266244, 408.0676722852379, 427.8419888612771, 431.7712119009912, 476.2668551415489, 497.57425313904616, 542.8416808109606, 576.6861433836806, 583.404842762644, 21116.577617586063, 10456.888315581145, 10056.715282497993, 14783.542714729616, 7319.61368661821, 2788.6396082948413, 5106.03521594919, 3743.559407026626, 7414.635613272008, 967.782015637177, 699.7896843552229, 10155.322263133014, 1994.8370376485916, 10421.604648945431, 880.8987979177789, 4465.206071611493, 7761.7134885735295, 3317.1647628368273, 2778.56161649979, 1267.00707987052, 1346.5119144227126, 1665.2203623015066, 956.171314365846, 704.8767659497361, 351.8610275986559, 4.850654185355346, 5.1375243977655725, 31.60428805334496, 41.411961387767484, 41.6297584026786, 56.09897140680866, 69.23726770471384, 74.51419969683893, 78.73080144299348, 96.57641887163963, 106.72534785992619, 112.50934613376147, 132.91903195947708, 146.45787531506085, 204.764634714273, 252.53331396970052, 301.8531715227162, 329.9170291033983, 381.232194306793, 396.4879838266244, 408.0676722852379, 427.8419888612771, 431.7712119009912, 476.2668551415489, 497.57425313904616, 542.8416808109606, 880.8987979177789, 1456.8214674647195, 21116.577617586063, 699.7896843552229, 2112.546001280083, 583.404842762644, 10456.888315581145, 642.5847524873732, 14783.542714729616, 1994.8370376485916, 10421.604648945431, 1346.5119144227126, 7414.635613272008, 2778.56161649979, 4045.3649720371045, 2788.6396082948413, 10155.322263133014, 10056.715282497993, 7761.7134885735295, 967.782015637177], \"loglift\": [30.0, 29.0, 28.0, 27.0, 26.0, 25.0, 24.0, 23.0, 22.0, 21.0, 20.0, 19.0, 18.0, 17.0, 16.0, 15.0, 14.0, 13.0, 12.0, 11.0, 10.0, 9.0, 8.0, 7.0, 6.0, 5.0, 4.0, 3.0, 2.0, 1.0, 2.5166, 2.5078, 2.1624, 1.2131, -2.629, -2.6865, -4.5032, -4.7735, -4.7788, -5.0771, -5.2875, -5.3609, -5.416, -5.6203, -5.7202, -5.9397, -6.0367, -6.3718, -6.5815, -6.7599, -6.8488, -6.9132, -6.9933, -7.0326, -7.0614, -7.1087, -7.1178, -7.2159, -7.2597, -7.3468, -9.9482, -10.6512, -8.7056, -8.9832, -8.7012, -10.2757, -8.9796, -9.5881, -9.0737, -9.2777, -9.3553, -8.5821, -9.4203, -10.2659, -8.6483, -8.4734, -8.2552, -9.1568, 2.7197, 2.7144, 2.7055, 2.4033, -2.3837, -2.4412, -4.2579, -4.5282, -4.5334, -4.8317, -5.0421, -5.1156, -5.3749, -5.4748, -5.5276, -5.6943, -5.7913, -6.3361, -6.5145, -6.6034, -6.6678, -6.748, -6.7872, -6.816, -6.8633, -6.8725, -6.9706, -7.0143, -7.1014, -7.1619, -10.7624, -10.4059, -8.4602, -10.0206, -8.4029, -8.7379, -9.3428, -8.4559, -9.1099, -10.0303, -8.7343, -7.5855, -9.0324, -9.3812, -8.3367, -8.8283, -8.2613, -7.3554, -7.949, 2.7322, 2.7307, 2.7304, 2.6105, 0.8187, -2.3592, -2.4167, -4.2334, -4.5037, -4.5089, -4.8072, -5.0176, -5.0911, -5.1461, -5.3504, -5.4504, -5.5031, -5.6698, -5.7668, -6.102, -6.3116, -6.49, -6.5789, -6.6433, -6.7235, -6.7627, -6.7915, -6.8388, -6.848, -6.9898, -10.3814, -10.0351, -7.561, -9.6784, -9.3183, -8.4357, -8.4314, -8.8038, -8.7098, -8.7134, -9.3567, -10.0058, -9.0079, -7.9854, -8.3122, -9.1505, -9.1842, 2.7364, 2.7288, 2.709, -2.3575, -2.415, -4.2317, -4.5072, -4.8055, -5.0159, -5.0894, -5.1444, -5.3487, -5.4487, -5.5014, -5.6681, -6.1003, -6.3099, -6.4883, -6.5772, -6.6416, -6.7218, -6.761, -6.7898, -6.8372, -6.8463, -6.9444, -6.9881, -7.0752, -7.1357, -7.1473, -10.7362, -10.0334, -7.5593, -9.6767, -9.9944, -8.434, -9.3166, -7.2439, -8.7081, -8.3767, -10.0042, -8.7117, -8.4297, -9.355, -10.03, -8.8021, -9.1488, -9.0062, -8.3105, 3.019, 3.0188, 2.7182, -2.0025, -2.06, -3.8767, -4.1469, -4.1522, -4.4505, -4.6609, -4.7344, -4.7894, -4.9937, -5.0936, -5.1464, -5.3131, -5.4101, -5.7452, -5.9549, -6.1333, -6.2222, -6.2866, -6.3668, -6.406, -6.4348, -6.4821, -6.4913, -6.5894, -6.6331, -6.7202, -9.3346, -9.3803, -9.5778, -6.8889, -8.3531, -7.1042, -10.3812, -7.7042, -10.0247, -8.9454, -8.7479, -8.625, -6.7923, -9.3217, -9.0421, 3.0632, 3.0622, 3.0619, 2.8979, -1.9128, -1.9703, -3.787, -4.0573, -4.0625, -4.3608, -4.5713, -4.6447, -4.6998, -4.9041, -5.004, -5.0568, -5.2235, -5.3205, -5.6556, -5.8653, -6.0437, -6.1326, -6.197, -6.2771, -6.3164, -6.3452, -6.3925, -6.4016, -6.4997, -6.5435, -7.6177, -9.5854, -6.7026, -9.4881, -9.2449, -9.1698, -7.6145, -8.5354, -7.9894, -7.5408, -10.2915, -6.691, -8.6582, -8.8557, -9.935, -7.932, -8.8508, -8.9525, 3.1228, 3.121, 1.776, -1.8489, -1.9063, -3.723, -3.9933, -3.9986, -4.2969, -4.5073, -4.5807, -4.6358, -4.8401, -4.94, -4.9928, -5.1595, -5.2565, -5.5916, -5.8013, -5.9797, -6.0686, -6.133, -6.2131, -6.2524, -6.2812, -6.3285, -6.3376, -6.4357, -6.4795, -6.5666, -9.2267, -9.1809, -9.4241, -8.1994, -7.5538, -7.5505, -8.4714, -6.9506, -7.0507, -6.7352, -8.7917, -9.4955, -9.871, -8.5942, -7.4768, -8.8885, -8.7868, -8.6777, -7.6464, 3.1546, 3.1513, 3.1384, -1.8653, -1.9228, -3.7395, -4.0098, -4.015, -4.3134, -4.5972, -4.6523, -4.8566, -4.9565, -5.0093, -5.176, -5.273, -5.6081, -5.8178, -5.9962, -6.1495, -6.2296, -6.2689, -6.2977, -6.345, -6.3541, -6.4522, -6.496, -6.5831, -6.6435, -6.6551, -9.5379, -6.9671, -7.5702, -9.2432, -9.1974, -8.2159, -6.7517, -9.1223, -8.6107, -8.4879, -8.905, -7.567, -8.8082, -9.8875, 3.1982, 3.1958, 3.1902, 3.1835, 2.9935, -1.775, -1.8325, -3.6492, -3.9195, -3.9247, -4.223, -4.4334, -4.5619, -4.7662, -4.8662, -4.9189, -5.1826, -5.5178, -5.7274, -5.9058, -5.9947, -6.0591, -6.1393, -6.2073, -6.2547, -6.2638, -6.3619, -6.4056, -6.4927, -6.5532, -9.4475, -6.8767, -10.1537, -9.1529, -7.4799, -6.9768, -7.8516, -8.3975, -9.0942, -8.5204, -9.032, -6.5648, -9.3503, -8.1256, -9.7972, -7.403, -8.8147, -9.4509, 3.1243, -1.7252, -1.7827, -3.5994, -3.8696, -3.8749, -4.1732, -4.3836, -4.4571, -4.5121, -4.7164, -4.8163, -4.8691, -5.0358, -5.1328, -5.4679, -5.6776, -5.856, -5.9449, -6.0093, -6.0895, -6.1287, -6.1575, -6.2048, -6.214, -6.3121, -6.3558, -6.4429, -6.5034, -6.515, -6.927, -9.4011, -10.1039, -9.7473, -9.0444, -9.3621, -7.7444, -8.6843, -9.3977, -8.3477, -9.0573, -9.103, -7.6782, -8.5501, -8.0794, -8.0758, -7.8017, -8.5165, -7.4269, 3.3078, 3.2975, 3.0634, 3.0469, 1.7579, 0.925, -3.4398, -3.71, -3.7153, -4.0136, -4.224, -4.2975, -4.3525, -4.5568, -4.7095, -4.8762, -4.9732, -5.3083, -5.518, -5.6964, -5.7853, -5.8497, -5.9299, -5.9691, -5.9979, -6.0452, -6.0544, -6.1525, -6.1962, -6.2833, -9.2415, -9.5877, -8.8848, -7.6421, -7.9162, -7.6378, -9.2025, -7.5848, -8.0102, -8.2143, -7.9198, -8.3569, -6.7674, -9.2122, -7.1917, -8.3905, 3.3924, 3.1539, -1.4864, -1.5439, -3.3606, -3.6309, -3.6361, -3.9344, -4.1448, -4.2183, -4.2733, -4.4776, -4.5776, -4.6303, -4.797, -4.894, -5.2292, -5.4388, -5.6172, -5.7061, -5.7705, -5.8507, -5.8899, -5.9187, -5.9661, -5.9752, -6.0733, -6.117, -6.2041, -6.2646, -9.8651, -9.1623, -9.5086, -9.1233, -6.6882, -8.8056, -7.5629, -7.5056, -7.837, -7.5586, -7.8406, -9.1331, -7.931, -8.4839, -8.3114, -6.9962, -7.5576, -7.4394, -7.5491, -8.2777, -8.2126, 3.402, 3.402, -1.497, -1.5544, -3.3712, -3.6414, -3.6467, -3.945, -4.1554, -4.2289, -4.2839, -4.4882, -4.5881, -4.6409, -4.8076, -4.9046, -5.2397, -5.4494, -5.6278, -5.7167, -5.7811, -5.8613, -5.9005, -5.9293, -5.9766, -5.9858, -6.0838, -6.1276, -6.2147, -6.2752, -7.1249, -9.8757, -7.5735, -8.8162, -8.8748, -8.8291, -6.6988, -9.1695, -7.8512, -9.5191, -9.1436, -9.1729, -7.2019, -9.0723, -7.5162, -8.5366, -8.7539, -6.4686, 3.4816, 3.4814, 3.48, 3.4782, -1.3471, -1.4046, -3.2213, -3.4916, -3.4968, -3.7951, -4.0056, -4.079, -4.1341, -4.3384, -4.4383, -4.4911, -4.6578, -4.7548, -5.0899, -5.2996, -5.5669, -5.6313, -5.7114, -5.7507, -5.7795, -5.8268, -5.8359, -5.934, -5.9778, -6.0648, -6.4488, -9.7258, -7.4237, -8.6792, -7.052, -8.6663, -6.2335, -9.023, -9.0197, -8.9224, -8.29, -8.725, -9.3693, -7.3663, -7.7918, -7.9696, -8.3868, -6.1369, 3.5131, 3.5125, -1.2952, -1.3526, -3.1693, -3.4396, -3.4449, -3.7432, -3.9536, -4.027, -4.0821, -4.2864, -4.3863, -4.4391, -4.6058, -4.7028, -5.0379, -5.2476, -5.426, -5.5149, -5.5793, -5.6594, -5.6987, -5.7275, -5.7748, -5.7839, -5.882, -5.9258, -6.0129, -6.0733, -6.1815, -6.0849, -7.9177, -8.673, -7.0, -8.6272, -8.9677, -7.3717, -6.9968, -9.6739, -6.497, -8.8704, -8.238, -8.0405, -8.124, -9.3173, -8.9418, -6.3969, -8.5521, -7.6493, 3.5156, 3.5132, 3.4888, 1.8299, -1.2835, -1.3409, -3.1577, -3.4279, -3.7315, -3.9419, -4.0154, -4.0704, -4.2747, -4.3746, -4.4274, -4.5941, -4.6911, -5.0262, -5.2359, -5.4143, -5.5032, -5.5676, -5.6478, -5.687, -5.7158, -5.7723, -5.8704, -5.9141, -6.0012, -6.0617, -8.956, -6.3852, -6.9884, -6.1699, -8.0289, -8.6613, -6.0733, -7.906, -8.5404, -6.9114, -6.9852, -8.8588, -6.5794, -8.3231, -6.4853, 3.5829, 3.5816, 0.7593, -1.2088, -1.2663, -3.083, -3.3533, -3.3585, -3.6568, -3.8672, -3.9407, -3.9957, -4.2, -4.3, -4.3527, -4.5194, -4.6164, -4.9516, -5.1612, -5.3396, -5.4285, -5.4929, -5.5731, -5.6123, -5.6411, -5.6885, -5.6976, -5.7957, -5.8394, -5.9265, -6.4106, -8.8847, -8.8457, -9.231, -8.528, -8.8554, -7.228, -7.2853, -7.563, -8.1679, -7.8575, -7.1618, -7.6534, -7.281, -7.5594, -6.835, 3.5903, 3.5901, 3.5899, -1.171, -1.2285, -3.0452, -3.3155, -3.3207, -3.619, -3.8294, -3.9029, -3.9579, -4.1622, -4.2622, -4.3149, -4.4816, -4.5786, -4.9138, -5.1234, -5.3018, -5.3907, -5.4551, -5.5353, -5.5745, -5.6033, -5.6507, -5.6598, -5.7579, -5.8016, -5.8887, -9.5497, -5.9608, -8.8469, -7.2476, -8.4902, -6.3728, -9.1932, -7.1902, -7.5216, -8.8079, -7.2432, -7.5252, -8.5489, -8.8177, -8.1301, -8.8435, -6.1427, -7.9623, 3.6173, 3.6167, 3.615, 3.5818, 1.4545, -1.1405, -1.1979, -3.2849, -3.2902, -3.5885, -3.7989, -3.8723, -3.9274, -4.1317, -4.2316, -4.2844, -4.4511, -4.5481, -4.8832, -5.0929, -5.2713, -5.3602, -5.4246, -5.5048, -5.544, -5.5728, -5.6201, -5.7273, -5.7711, -5.8582, -8.8164, -9.5192, -9.1626, -7.2126, -7.491, -6.3423, -7.1597, -6.6171, -8.0995, -8.4597, -6.1121, -8.7871, -6.7666, -7.0935, -7.5851, -8.1379, -6.4364, 3.7073, 1.8274, -0.9552, -1.0127, -2.8294, -3.0997, -3.1049, -3.4032, -3.6136, -3.6871, -3.7421, -3.9464, -4.0463, -4.0991, -4.2658, -4.3628, -4.6979, -4.9076, -5.086, -5.1749, -5.2393, -5.3195, -5.3587, -5.3875, -5.4348, -5.444, -5.5421, -5.5858, -5.6729, -5.7334, -5.745, -6.6601, -8.2873, -7.5777, -6.6569, -7.8932, -8.6277, -8.5305, -8.2122, -6.5831, -7.9948, -7.0317, -5.8416, -6.157, -8.6018, -8.9774, -7.3058, -7.7006, 3.708, 3.7074, -0.9669, -1.0243, -2.8411, -3.1113, -3.1166, -3.4149, -3.6253, -3.6988, -3.7538, -3.9581, -4.058, -4.1108, -4.2775, -4.3745, -4.7096, -4.9193, -5.0977, -5.1866, -5.251, -5.3312, -5.3704, -5.3992, -5.4465, -5.4557, -5.5537, -5.5975, -5.6846, -5.7451, -9.3456, -7.0434, -8.2861, -8.6428, -8.989, -6.9861, -7.3211, -7.3175, -7.039, -5.9385, -8.6038, -7.6931, -8.6135, -7.4115, -7.9259, -7.6156, -6.4435, -6.9199, -6.2628, 3.8324, -0.7751, -0.8326, -2.6493, -2.9196, -2.9248, -3.2232, -3.4336, -3.507, -3.5621, -3.7664, -3.8663, -3.9191, -4.0858, -4.1828, -4.5179, -4.7276, -4.906, -4.9949, -5.0593, -5.1394, -5.1787, -5.2075, -5.2548, -5.2639, -5.362, -5.4058, -5.4929, -5.5533, -5.5649, -8.153, -8.1072, -8.4477, -7.604, -7.1257, -7.3977, -8.3504, -6.4031, -5.6615, -7.8148, -8.4218, -8.0321, -6.48, -6.8517, -8.7973, -5.8769, -6.4768, 3.8535, 3.8534, 3.8529, 3.8426, -0.7395, -0.7969, -2.6137, -2.8839, -2.8892, -3.1875, -3.3979, -3.4714, -3.5264, -3.8306, -3.8834, -4.0501, -4.1471, -4.4822, -4.6919, -4.8703, -4.9592, -5.0236, -5.1038, -5.143, -5.1718, -5.2191, -5.2283, -5.3263, -5.3701, -5.4572, -8.4154, -9.1182, -6.7587, -5.8412, -7.0937, -8.0587, -8.3764, -6.3656, -8.7616, -5.7111, -7.6985, -7.3882, -6.816, -6.4444, -7.4849, -6.3048, 3.8905, 3.8904, 3.8902, 3.8884, -0.6364, -0.6938, -2.5106, -2.7808, -2.7861, -3.0844, -3.2948, -3.3683, -3.4233, -3.6276, -3.7275, -3.7803, -3.947, -4.044, -4.3791, -4.5888, -4.7672, -4.8561, -4.9205, -5.0007, -5.0399, -5.116, -5.1252, -5.2232, -5.267, -5.3541, -9.0151, -6.9906, -8.3123, -7.9556, -6.7129, -5.8382, -5.608, -8.6585, -7.2851, -6.9869, -8.2733, -6.2625, -6.6556, -7.5954, -5.7381, -5.9323, -7.3626, 3.957, 3.9569, 3.9379, 1.6538, -0.4953, -0.5527, -2.3694, -2.6397, -2.645, -3.1537, -3.2271, -3.2822, -3.4865, -3.5864, -3.6392, -3.8059, -3.9029, -4.238, -4.4477, -4.6261, -4.715, -4.7794, -4.8595, -4.8988, -4.9276, -4.9749, -4.984, -5.0821, -5.1259, -5.213, -5.6971, -8.1678, -7.8273, -7.1178, -7.8731, -6.2002, -7.7522, -6.1969, -8.5174, -5.285, -8.874, -8.0705, -6.1232, -6.5718, -7.8145, -7.5349, -7.4332, -8.1712, -7.2865, 3.9665, 3.9661, 3.9649, 3.9642, 3.9627, -0.4819, -0.5394, -2.3561, -2.6264, -2.6316, -2.9299, -3.1403, -3.2138, -3.2688, -3.4731, -3.573, -3.6258, -3.7925, -3.8895, -4.2246, -4.6127, -4.7016, -4.766, -4.8854, -4.9142, -4.9615, -4.9707, -5.0688, -5.1996, -5.2601, -8.1578, -6.5584, -8.1188, -5.6837, -8.8606, -5.4536, -6.5541, -6.5011, -6.8361, -8.5041, -6.0472, -6.1081, -7.8011, -7.441, -6.3262, -5.7778, -6.1732, -8.1285, 3.976, -0.4873, -0.5448, -2.3615, -2.6318, -2.637, -2.9353, -3.1457, -3.2192, -3.2742, -3.4785, -3.5785, -3.6312, -3.7979, -3.8949, -4.2301, -4.4397, -4.6181, -4.707, -4.7714, -4.8516, -4.8908, -4.9196, -4.9669, -4.9761, -5.0742, -5.1179, -5.205, -5.2655, -5.2771, -8.866, -8.1632, -8.1242, -8.5095, -7.8065, -6.8415, -7.4464, -7.136, -7.8194, -5.7832, -5.459, -8.1339, -6.5065, -8.1598, -5.6891, -7.3123, -7.8652, -7.0151, -6.8379, -6.0526, -6.1135, 4.1391, 4.1386, 4.1382, 4.1367, -0.0415, -0.0989, -1.9157, -2.1859, -2.1912, -2.4895, -2.6999, -2.7734, -2.8284, -3.0327, -3.1326, -3.1854, -3.3521, -3.4491, -3.7842, -3.9939, -4.1723, -4.2612, -4.4058, -4.445, -4.4738, -4.5211, -4.5303, -4.6284, -4.6721, -4.7592, -5.2433, -5.7464, -8.4202, -5.0132, -6.118, -4.8313, -7.7174, -4.9279, -8.0636, -6.0607, -7.714, -5.6676, -7.3736, -6.3921, -6.7677, -6.3957, -7.6881, -7.6784, -7.4193, -5.3374], \"logprob\": [30.0, 29.0, 28.0, 27.0, 26.0, 25.0, 24.0, 23.0, 22.0, 21.0, 20.0, 19.0, 18.0, 17.0, 16.0, 15.0, 14.0, 13.0, 12.0, 11.0, 10.0, 9.0, 8.0, 7.0, 6.0, 5.0, 4.0, 3.0, 2.0, 1.0, -3.0528, -5.1195, -0.2301, -1.8822, -13.4003, -13.4003, -13.4003, -13.4003, -13.4003, -13.4003, -13.4003, -13.4003, -13.4003, -13.4003, -13.4003, -13.4003, -13.4003, -13.4003, -13.4003, -13.4003, -13.4003, -13.4003, -13.4003, -13.4003, -13.4003, -13.4003, -13.4003, -13.4003, -13.4003, -13.4003, -13.4003, -13.4003, -13.4003, -13.4003, -13.4003, -13.4003, -13.4003, -13.4003, -13.4003, -13.4003, -13.4003, -13.4003, -13.4003, -13.4003, -13.4003, -13.4003, -13.4003, -13.4003, -0.7323, -4.3141, -5.2788, -0.692, -13.1549, -13.1549, -13.1549, -13.1549, -13.1549, -13.1549, -13.1549, -13.1549, -13.1549, -13.1549, -13.1549, -13.1549, -13.1549, -13.1549, -13.1549, -13.1549, -13.1549, -13.1549, -13.1549, -13.1549, -13.1549, -13.1549, -13.1549, -13.1549, -13.1549, -13.1549, -13.1549, -13.1549, -13.1549, -13.1549, -13.1549, -13.1549, -13.1549, -13.1549, -13.1549, -13.1549, -13.1549, -13.1549, -13.1549, -13.1549, -13.1549, -13.1549, -13.1549, -13.1549, -13.1549, -2.0198, -3.3228, -3.454, -0.5238, -1.5738, -13.1304, -13.1304, -13.1304, -13.1304, -13.1304, -13.1304, -13.1304, -13.1304, -13.1304, -13.1304, -13.1304, -13.1304, -13.1304, -13.1304, -13.1304, -13.1304, -13.1304, -13.1304, -13.1304, -13.1304, -13.1304, -13.1304, -13.1304, -13.1304, -13.1304, -13.1304, -13.1304, -13.1304, -13.1304, -13.1304, -13.1304, -13.1304, -13.1304, -13.1304, -13.1304, -13.1304, -13.1304, -13.1304, -13.1304, -13.1304, -13.1304, -13.1304, -0.0126, -4.6348, -5.9177, -13.1287, -13.1287, -13.1287, -13.1287, -13.1287, -13.1287, -13.1287, -13.1287, -13.1287, -13.1287, -13.1287, -13.1287, -13.1287, -13.1287, -13.1287, -13.1287, -13.1287, -13.1287, -13.1287, -13.1287, -13.1287, -13.1287, -13.1287, -13.1287, -13.1287, -13.1287, -13.1287, -13.1287, -13.1287, -13.1287, -13.1287, -13.1287, -13.1287, -13.1287, -13.1287, -13.1287, -13.1287, -13.1287, -13.1287, -13.1287, -13.1287, -13.1287, -13.1287, -13.1287, -13.1287, -13.1287, -1.6757, -2.0476, -0.3805, -12.7737, -12.7737, -12.7737, -12.7737, -12.7737, -12.7737, -12.7737, -12.7737, -12.7737, -12.7737, -12.7737, -12.7737, -12.7737, -12.7737, -12.7737, -12.7737, -12.7737, -12.7737, -12.7737, -12.7737, -12.7737, -12.7737, -12.7737, -12.7737, -12.7737, -12.7737, -12.7737, -12.7737, -12.7737, -12.7737, -12.7737, -12.7737, -12.7737, -12.7737, -12.7737, -12.7737, -12.7737, -12.7737, -12.7737, -12.7737, -12.7737, -12.7737, -1.3574, -2.6073, -2.823, -0.4955, -12.6841, -12.6841, -12.6841, -12.6841, -12.6841, -12.6841, -12.6841, -12.6841, -12.6841, -12.6841, -12.6841, -12.6841, -12.6841, -12.6841, -12.6841, -12.6841, -12.6841, -12.6841, -12.6841, -12.6841, -12.6841, -12.6841, -12.6841, -12.6841, -12.6841, -12.6841, -12.6841, -12.6841, -12.6841, -12.6841, -12.6841, -12.6841, -12.6841, -12.6841, -12.6841, -12.6841, -12.6841, -12.6841, -12.6841, -12.6841, -12.6841, -12.6841, -12.6841, -12.6841, -0.3915, -2.8604, -1.3227, -12.6201, -12.6201, -12.6201, -12.6201, -12.6201, -12.6201, -12.6201, -12.6201, -12.6201, -12.6201, -12.6201, -12.6201, -12.6201, -12.6201, -12.6201, -12.6201, -12.6201, -12.6201, -12.6201, -12.6201, -12.6201, -12.6201, -12.6201, -12.6201, -12.6201, -12.6201, -12.6201, -12.6201, -12.6201, -12.6201, -12.6201, -12.6201, -12.6201, -12.6201, -12.6201, -12.6201, -12.6201, -12.6201, -12.6201, -12.6201, -12.6201, -12.6201, -12.6201, -12.6201, -12.6201, -12.6201, -0.0414, -3.4002, -4.9744, -12.6366, -12.6366, -12.6366, -12.6366, -12.6366, -12.6366, -12.6366, -12.6366, -12.6366, -12.6366, -12.6366, -12.6366, -12.6366, -12.6366, -12.6366, -12.6366, -12.6366, -12.6366, -12.6366, -12.6366, -12.6366, -12.6366, -12.6366, -12.6366, -12.6366, -12.6366, -12.6366, -12.6366, -12.6366, -12.6366, -12.6366, -12.6366, -12.6366, -12.6366, -12.6366, -12.6366, -12.6366, -12.6366, -12.6366, -12.6366, -12.6366, -1.2188, -3.1719, -4.2704, -4.8558, -0.4456, -12.5462, -12.5462, -12.5462, -12.5462, -12.5462, -12.5462, -12.5462, -12.5462, -12.5462, -12.5462, -12.5462, -12.5462, -12.5462, -12.5462, -12.5462, -12.5462, -12.5462, -12.5462, -12.5462, -12.5462, -12.5462, -12.5462, -12.5462, -12.5462, -12.5462, -12.5462, -12.5462, -12.5462, -12.5462, -12.5462, -12.5462, -12.5462, -12.5462, -12.5462, -12.5462, -12.5462, -12.5462, -12.5462, -12.5462, -12.5462, -12.5462, -12.5462, -12.5462, -0.0003, -12.4964, -12.4964, -12.4964, -12.4964, -12.4964, -12.4964, -12.4964, -12.4964, -12.4964, -12.4964, -12.4964, -12.4964, -12.4964, -12.4964, -12.4964, -12.4964, -12.4964, -12.4964, -12.4964, -12.4964, -12.4964, -12.4964, -12.4964, -12.4964, -12.4964, -12.4964, -12.4964, -12.4964, -12.4964, -12.4964, -12.4964, -12.4964, -12.4964, -12.4964, -12.4964, -12.4964, -12.4964, -12.4964, -12.4964, -12.4964, -12.4964, -12.4964, -12.4964, -12.4964, -12.4964, -12.4964, -12.4964, -12.4964, -0.4659, -4.3825, -7.6504, -7.7243, -2.0542, -1.4675, -12.3368, -12.3368, -12.3368, -12.3368, -12.3368, -12.3368, -12.3368, -12.3368, -12.3368, -12.3368, -12.3368, -12.3368, -12.3368, -12.3368, -12.3368, -12.3368, -12.3368, -12.3368, -12.3368, -12.3368, -12.3368, -12.3368, -12.3368, -12.3368, -12.3368, -12.3368, -12.3368, -12.3368, -12.3368, -12.3368, -12.3368, -12.3368, -12.3368, -12.3368, -12.3368, -12.3368, -12.3368, -12.3368, -12.3368, -12.3368, -0.7301, -0.6582, -12.2576, -12.2576, -12.2576, -12.2576, -12.2576, -12.2576, -12.2576, -12.2576, -12.2576, -12.2576, -12.2576, -12.2576, -12.2576, -12.2576, -12.2576, -12.2576, -12.2576, -12.2576, -12.2576, -12.2576, -12.2576, -12.2576, -12.2576, -12.2576, -12.2576, -12.2576, -12.2576, -12.2576, -12.2576, -12.2576, -12.2576, -12.2576, -12.2576, -12.2576, -12.2576, -12.2576, -12.2576, -12.2576, -12.2576, -12.2576, -12.2576, -12.2576, -12.2576, -12.2576, -12.2576, -12.2576, -12.2576, -12.2576, -12.2576, -0.643, -0.7467, -12.2682, -12.2682, -12.2682, -12.2682, -12.2682, -12.2682, -12.2682, -12.2682, -12.2682, -12.2682, -12.2682, -12.2682, -12.2682, -12.2682, -12.2682, -12.2682, -12.2682, -12.2682, -12.2682, -12.2682, -12.2682, -12.2682, -12.2682, -12.2682, -12.2682, -12.2682, -12.2682, -12.2682, -12.2682, -12.2682, -12.2682, -12.2682, -12.2682, -12.2682, -12.2682, -12.2682, -12.2682, -12.2682, -12.2682, -12.2682, -12.2682, -12.2682, -12.2682, -12.2682, -12.2682, -12.2682, -0.5442, -1.2177, -2.5131, -3.1622, -12.1183, -12.1183, -12.1183, -12.1183, -12.1183, -12.1183, -12.1183, -12.1183, -12.1183, -12.1183, -12.1183, -12.1183, -12.1183, -12.1183, -12.1183, -12.1183, -12.1183, -12.1183, -12.1183, -12.1183, -12.1183, -12.1183, -12.1183, -12.1183, -12.1183, -12.1183, -12.1183, -12.1183, -12.1183, -12.1183, -12.1183, -12.1183, -12.1183, -12.1183, -12.1183, -12.1183, -12.1183, -12.1183, -12.1183, -12.1183, -12.1183, -12.1183, -12.1183, -12.1183, -0.2185, -1.6308, -12.0664, -12.0664, -12.0664, -12.0664, -12.0664, -12.0664, -12.0664, -12.0664, -12.0664, -12.0664, -12.0664, -12.0664, -12.0664, -12.0664, -12.0664, -12.0664, -12.0664, -12.0664, -12.0664, -12.0664, -12.0664, -12.0664, -12.0664, -12.0664, -12.0664, -12.0664, -12.0664, -12.0664, -12.0664, -12.0664, -12.0664, -12.0664, -12.0664, -12.0664, -12.0664, -12.0664, -12.0664, -12.0664, -12.0664, -12.0664, -12.0664, -12.0664, -12.0664, -12.0664, -12.0664, -12.0664, -12.0664, -12.0664, -0.3127, -2.7783, -5.1328, -1.6092, -12.0547, -12.0547, -12.0547, -12.0547, -12.0547, -12.0547, -12.0547, -12.0547, -12.0547, -12.0547, -12.0547, -12.0547, -12.0547, -12.0547, -12.0547, -12.0547, -12.0547, -12.0547, -12.0547, -12.0547, -12.0547, -12.0547, -12.0547, -12.0547, -12.0547, -12.0547, -12.0547, -12.0547, -12.0547, -12.0547, -12.0547, -12.0547, -12.0547, -12.0547, -12.0547, -12.0547, -12.0547, -12.0547, -12.0547, -12.0547, -12.0547, -0.3633, -2.218, -1.6332, -11.98, -11.98, -11.98, -11.98, -11.98, -11.98, -11.98, -11.98, -11.98, -11.98, -11.98, -11.98, -11.98, -11.98, -11.98, -11.98, -11.98, -11.98, -11.98, -11.98, -11.98, -11.98, -11.98, -11.98, -11.98, -11.98, -11.98, -11.98, -11.98, -11.98, -11.98, -11.98, -11.98, -11.98, -11.98, -11.98, -11.98, -11.98, -11.98, -11.98, -11.98, -11.98, -11.98, -0.7363, -1.2281, -1.4796, -11.9422, -11.9422, -11.9422, -11.9422, -11.9422, -11.9422, -11.9422, -11.9422, -11.9422, -11.9422, -11.9422, -11.9422, -11.9422, -11.9422, -11.9422, -11.9422, -11.9422, -11.9422, -11.9422, -11.9422, -11.9422, -11.9422, -11.9422, -11.9422, -11.9422, -11.9422, -11.9422, -11.9422, -11.9422, -11.9422, -11.9422, -11.9422, -11.9422, -11.9422, -11.9422, -11.9422, -11.9422, -11.9422, -11.9422, -11.9422, -11.9422, -11.9422, -11.9422, -11.9422, -11.9422, -0.6262, -1.5892, -2.6674, -5.3152, -1.6798, -11.9117, -11.9117, -11.9117, -11.9117, -11.9117, -11.9117, -11.9117, -11.9117, -11.9117, -11.9117, -11.9117, -11.9117, -11.9117, -11.9117, -11.9117, -11.9117, -11.9117, -11.9117, -11.9117, -11.9117, -11.9117, -11.9117, -11.9117, -11.9117, -11.9117, -11.9117, -11.9117, -11.9117, -11.9117, -11.9117, -11.9117, -11.9117, -11.9117, -11.9117, -11.9117, -11.9117, -11.9117, -11.9117, -11.9117, -11.9117, -11.9117, -11.9117, -0.2351, -1.566, -11.7264, -11.7264, -11.7264, -11.7264, -11.7264, -11.7264, -11.7264, -11.7264, -11.7264, -11.7264, -11.7264, -11.7264, -11.7264, -11.7264, -11.7264, -11.7264, -11.7264, -11.7264, -11.7264, -11.7264, -11.7264, -11.7264, -11.7264, -11.7264, -11.7264, -11.7264, -11.7264, -11.7264, -11.7264, -11.7264, -11.7264, -11.7264, -11.7264, -11.7264, -11.7264, -11.7264, -11.7264, -11.7264, -11.7264, -11.7264, -11.7264, -11.7264, -11.7264, -11.7264, -11.7264, -11.7264, -0.272, -1.4377, -11.7381, -11.7381, -11.7381, -11.7381, -11.7381, -11.7381, -11.7381, -11.7381, -11.7381, -11.7381, -11.7381, -11.7381, -11.7381, -11.7381, -11.7381, -11.7381, -11.7381, -11.7381, -11.7381, -11.7381, -11.7381, -11.7381, -11.7381, -11.7381, -11.7381, -11.7381, -11.7381, -11.7381, -11.7381, -11.7381, -11.7381, -11.7381, -11.7381, -11.7381, -11.7381, -11.7381, -11.7381, -11.7381, -11.7381, -11.7381, -11.7381, -11.7381, -11.7381, -11.7381, -11.7381, -11.7381, -11.7381, -0.0008, -11.5464, -11.5464, -11.5464, -11.5464, -11.5464, -11.5464, -11.5464, -11.5464, -11.5464, -11.5464, -11.5464, -11.5464, -11.5464, -11.5464, -11.5464, -11.5464, -11.5464, -11.5464, -11.5464, -11.5464, -11.5464, -11.5464, -11.5464, -11.5464, -11.5464, -11.5464, -11.5464, -11.5464, -11.5464, -11.5464, -11.5464, -11.5464, -11.5464, -11.5464, -11.5464, -11.5464, -11.5464, -11.5464, -11.5464, -11.5464, -11.5464, -11.5464, -11.5464, -11.5464, -11.5464, -11.5464, -0.8465, -1.0402, -1.6224, -3.9374, -11.5107, -11.5107, -11.5107, -11.5107, -11.5107, -11.5107, -11.5107, -11.5107, -11.5107, -11.5107, -11.5107, -11.5107, -11.5107, -11.5107, -11.5107, -11.5107, -11.5107, -11.5107, -11.5107, -11.5107, -11.5107, -11.5107, -11.5107, -11.5107, -11.5107, -11.5107, -11.5107, -11.5107, -11.5107, -11.5107, -11.5107, -11.5107, -11.5107, -11.5107, -11.5107, -11.5107, -11.5107, -11.5107, -11.5107, -11.5107, -11.5107, -11.5107, -1.0364, -1.1895, -1.3712, -2.4505, -11.4076, -11.4076, -11.4076, -11.4076, -11.4076, -11.4076, -11.4076, -11.4076, -11.4076, -11.4076, -11.4076, -11.4076, -11.4076, -11.4076, -11.4076, -11.4076, -11.4076, -11.4076, -11.4076, -11.4076, -11.4076, -11.4076, -11.4076, -11.4076, -11.4076, -11.4076, -11.4076, -11.4076, -11.4076, -11.4076, -11.4076, -11.4076, -11.4076, -11.4076, -11.4076, -11.4076, -11.4076, -11.4076, -11.4076, -11.4076, -11.4076, -11.4076, -11.4076, -0.9288, -1.0167, -4.3853, -1.4708, -11.2665, -11.2665, -11.2665, -11.2665, -11.2665, -11.2665, -11.2665, -11.2665, -11.2665, -11.2665, -11.2665, -11.2665, -11.2665, -11.2665, -11.2665, -11.2665, -11.2665, -11.2665, -11.2665, -11.2665, -11.2665, -11.2665, -11.2665, -11.2665, -11.2665, -11.2665, -11.2665, -11.2665, -11.2665, -11.2665, -11.2665, -11.2665, -11.2665, -11.2665, -11.2665, -11.2665, -11.2665, -11.2665, -11.2665, -11.2665, -11.2665, -11.2665, -11.2665, -11.2665, -11.2665, -0.742, -1.3284, -2.1757, -2.4427, -2.8561, -11.2531, -11.2531, -11.2531, -11.2531, -11.2531, -11.2531, -11.2531, -11.2531, -11.2531, -11.2531, -11.2531, -11.2531, -11.2531, -11.2531, -11.2531, -11.2531, -11.2531, -11.2531, -11.2531, -11.2531, -11.2531, -11.2531, -11.2531, -11.2531, -11.2531, -11.2531, -11.2531, -11.2531, -11.2531, -11.2531, -11.2531, -11.2531, -11.2531, -11.2531, -11.2531, -11.2531, -11.2531, -11.2531, -11.2531, -11.2531, -11.2531, -11.2531, -11.2531, -0.0011, -11.2585, -11.2585, -11.2585, -11.2585, -11.2585, -11.2585, -11.2585, -11.2585, -11.2585, -11.2585, -11.2585, -11.2585, -11.2585, -11.2585, -11.2585, -11.2585, -11.2585, -11.2585, -11.2585, -11.2585, -11.2585, -11.2585, -11.2585, -11.2585, -11.2585, -11.2585, -11.2585, -11.2585, -11.2585, -11.2585, -11.2585, -11.2585, -11.2585, -11.2585, -11.2585, -11.2585, -11.2585, -11.2585, -11.2585, -11.2585, -11.2585, -11.2585, -11.2585, -11.2585, -11.2585, -11.2585, -11.2585, -11.2585, -11.2585, -11.2585, -0.7935, -1.3488, -1.6541, -2.3504, -10.8127, -10.8127, -10.8127, -10.8127, -10.8127, -10.8127, -10.8127, -10.8127, -10.8127, -10.8127, -10.8127, -10.8127, -10.8127, -10.8127, -10.8127, -10.8127, -10.8127, -10.8127, -10.8127, -10.8127, -10.8127, -10.8127, -10.8127, -10.8127, -10.8127, -10.8127, -10.8127, -10.8127, -10.8127, -10.8127, -10.8127, -10.8127, -10.8127, -10.8127, -10.8127, -10.8127, -10.8127, -10.8127, -10.8127, -10.8127, -10.8127, -10.8127, -10.8127, -10.8127, -10.8127, -10.8127]}, \"token.table\": {\"Topic\": [19, 18, 5, 7, 20, 24, 3, 19, 19, 19, 11, 28, 25, 1, 3, 11, 17, 21, 8, 18, 1, 17, 28, 11, 9, 25, 4, 28, 12, 8, 3, 17, 24, 6, 4, 16, 28, 14, 14, 6, 9, 26, 22, 18, 14, 9, 7, 26, 11, 9, 16, 26, 16, 6, 15, 8, 3, 24, 5, 23, 23, 15, 6, 20, 7, 25, 1, 19, 13, 1, 2, 24, 2, 16, 26, 2, 5, 23, 27, 9, 4, 13, 21, 11, 12, 26, 23, 3, 10, 25, 2, 11, 14], \"Freq\": [0.9982138413128663, 0.9994924370513374, 0.7399052506544931, 0.2600367305503406, 0.9996592237688375, 0.997383590130385, 0.8848813703105626, 0.11494806878065067, 0.9996488679579995, 0.9992051505579408, 0.7785851103188322, 0.9975529327458282, 0.9991940283755704, 0.7008237919991007, 0.14746707806508544, 0.0922497970683322, 0.059384622958772365, 0.9996889634606569, 0.9999154813127468, 0.9994149940166789, 0.9989796808442656, 0.9997298956437507, 0.9987561429286795, 0.8246310388558385, 0.9997706378791512, 0.9994239298788979, 0.9900457704174347, 0.9987749952877191, 0.9995834426926152, 0.9821300327738148, 0.9984494911855272, 0.9988715404458263, 0.999200058662419, 0.999437976652914, 0.9659045034224204, 0.9848723983313322, 0.9992671466617067, 0.9988101961672693, 0.99984084614218, 0.9987759806162384, 0.9962470897295213, 0.9967678639810744, 0.9996832603830552, 0.9992091318708866, 0.9971735545516639, 0.9930857760101859, 0.9975919933129257, 0.998683523455276, 0.9998038946869948, 0.8146051019942981, 0.18530917386426585, 0.9939282705097495, 0.9997971905062562, 0.9975337844833093, 0.9993316273606555, 0.9972204250690228, 0.9995803979809909, 0.998694372117644, 0.9994361234488471, 0.9993965848086397, 0.9836769794318543, 0.9997326738649308, 0.8472356019944453, 0.15254363636882956, 0.9998671721299958, 0.9804101326771336, 0.986584704421204, 0.9492382789754011, 0.9997587561748643, 0.27120878739560184, 0.7287062623252771, 0.9995537538317036, 0.9962657872276628, 0.9980320097531378, 0.9993153647965479, 0.9997795393736203, 0.999268181010427, 0.9991919506412174, 0.9998516257330281, 0.9796790450276666, 0.9998956464793733, 0.9996625837108544, 0.998877162239325, 0.2122977915651702, 0.7874994648372227, 0.9968361442958218, 0.9991725583917141, 0.9973400308506197, 0.9000206751863552, 0.09984912085765472, 0.9907177187377848, 0.9932036027572552, 0.9993629362346156], \"Term\": [\"acacia\", \"anise\", \"apple\", \"apple\", \"apricot\", \"beeswax\", \"blackberry\", \"blackberry\", \"blueberry\", \"boysenberry\", \"brettanomyces\", \"bubblegum\", \"butter\", \"cherry\", \"cherry\", \"cherry\", \"cherry\", \"cinnamon\", \"citrus\", \"cocoa\", \"coconut\", \"coffee\", \"cooked\", \"corked\", \"cranberry\", \"cream\", \"date\", \"dill\", \"earth\", \"elderflower\", \"eucalyptus\", \"fennel\", \"fig\", \"flower\", \"fruitcake\", \"garlic\", \"ginger\", \"gooseberry\", \"grapefruit\", \"grass\", \"guava\", \"hibiscus\", \"honey\", \"honeysuckle\", \"iris\", \"jalape\\u00f1o\", \"jasmine\", \"lavender\", \"leather\", \"lemon\", \"lemon\", \"lilac\", \"lime\", \"lychee\", \"mango\", \"marmalade\", \"mint\", \"mushroom\", \"nectarine\", \"olive\", \"onion\", \"orange\", \"peach\", \"peach\", \"pear\", \"peony\", \"persimmon\", \"petroleum\", \"pineapple\", \"plum\", \"plum\", \"pomegranate\", \"potpourri\", \"quince\", \"raisin\", \"raspberry\", \"rose\", \"slate\", \"smoke\", \"sourdough\", \"spice\", \"strawberry\", \"thyme\", \"tobacco\", \"tobacco\", \"toffee\", \"tomato\", \"truffle\", \"vanilla\", \"vanilla\", \"vegetable\", \"vinegar\", \"violet\"]}, \"R\": 30, \"lambda.step\": 0.01, \"plot.opts\": {\"xlab\": \"PC1\", \"ylab\": \"PC2\"}, \"topic.order\": [18, 25, 13, 3, 1, 10, 20, 14, 4, 26, 17, 12, 16, 7, 15, 28, 2, 24, 23, 8, 5, 22, 27, 11, 21, 19, 6, 9]};\n",
       "\n",
       "function LDAvis_load_lib(url, callback){\n",
       "  var s = document.createElement('script');\n",
       "  s.src = url;\n",
       "  s.async = true;\n",
       "  s.onreadystatechange = s.onload = callback;\n",
       "  s.onerror = function(){console.warn(\"failed to load library \" + url);};\n",
       "  document.getElementsByTagName(\"head\")[0].appendChild(s);\n",
       "}\n",
       "\n",
       "if(typeof(LDAvis) !== \"undefined\"){\n",
       "   // already loaded: just create the visualization\n",
       "   !function(LDAvis){\n",
       "       new LDAvis(\"#\" + \"ldavis_el110147389926729841866013\", ldavis_el110147389926729841866013_data);\n",
       "   }(LDAvis);\n",
       "}else if(typeof define === \"function\" && define.amd){\n",
       "   // require.js is available: use it to load d3/LDAvis\n",
       "   require.config({paths: {d3: \"https://cdnjs.cloudflare.com/ajax/libs/d3/3.5.5/d3.min\"}});\n",
       "   require([\"d3\"], function(d3){\n",
       "      window.d3 = d3;\n",
       "      LDAvis_load_lib(\"https://cdn.rawgit.com/bmabey/pyLDAvis/files/ldavis.v1.0.0.js\", function(){\n",
       "        new LDAvis(\"#\" + \"ldavis_el110147389926729841866013\", ldavis_el110147389926729841866013_data);\n",
       "      });\n",
       "    });\n",
       "}else{\n",
       "    // require.js not available: dynamically load d3 & LDAvis\n",
       "    LDAvis_load_lib(\"https://cdnjs.cloudflare.com/ajax/libs/d3/3.5.5/d3.min.js\", function(){\n",
       "         LDAvis_load_lib(\"https://cdn.rawgit.com/bmabey/pyLDAvis/files/ldavis.v1.0.0.js\", function(){\n",
       "                 new LDAvis(\"#\" + \"ldavis_el110147389926729841866013\", ldavis_el110147389926729841866013_data);\n",
       "            })\n",
       "         });\n",
       "}\n",
       "</script>"
      ],
      "text/plain": [
       "PreparedData(topic_coordinates=           Freq  cluster  topics           x           y\n",
       "topic                                                   \n",
       "17     8.063109        1       1   -0.877660  -31.491488\n",
       "24     6.588447        1       2    9.599596   49.898350\n",
       "12     6.503964        1       3  -49.286434   61.249660\n",
       "2      6.479694        1       4  -62.234554 -126.931442\n",
       "0      4.882461        1       5   70.373665 -118.353027\n",
       "9      4.671930        1       6  -13.868026   99.534966\n",
       "19     4.402661        1       7   91.995644   -1.662310\n",
       "13     4.265204        1       8  -33.412617  -75.605957\n",
       "3      4.081828        1       9    4.627056  155.276581\n",
       "25     3.957303        1      10  -61.238113  -29.249212\n",
       "16     3.658827        1      11 -100.528267  -76.145950\n",
       "11     3.361715        1      12   69.866592   47.706161\n",
       "15     3.329759        1      13    3.699733 -136.767288\n",
       "6      3.074909        1      14  -25.740103   12.574601\n",
       "14     2.979779        1      15 -139.790161   41.033176\n",
       "27     2.972299        1      16   58.050980  -42.825573\n",
       "1      2.778709        1      17  -83.306007   20.117088\n",
       "23     2.757915        1      18   42.093483   94.099060\n",
       "22     2.684678        1      19   34.463875    5.821041\n",
       "7      2.453878        1      20  136.918610   41.579151\n",
       "4      2.452131        1      21   70.564674  145.677200\n",
       "21     2.165224        1      22  -61.861057  136.483475\n",
       "26     2.119377        1      23  108.988899   94.841705\n",
       "10     2.042224        1      24 -128.444672  -22.942677\n",
       "20     1.910888        1      25   22.637163  -81.105766\n",
       "18     1.892882        1      26 -100.729515   89.222527\n",
       "5      1.875521        1      27  109.255333  -70.993965\n",
       "8      1.592684        1      28  148.337692  -22.607941, topic_info=     Category          Freq        Term         Total  loglift  logprob\n",
       "term                                                                   \n",
       "72    Default  14783.000000       spice  14783.000000  30.0000  30.0000\n",
       "11    Default  21116.000000      cherry  21116.000000  29.0000  29.0000\n",
       "13    Default   9455.000000      citrus   9455.000000  28.0000  28.0000\n",
       "79    Default  10155.000000     vanilla  10155.000000  27.0000  27.0000\n",
       "2     Default  10421.000000       apple  10421.000000  26.0000  26.0000\n",
       "5     Default  10056.000000  blackberry  10056.000000  25.0000  25.0000\n",
       "62    Default  10456.000000        plum  10456.000000  24.0000  24.0000\n",
       "57    Default   6877.000000        pear   6877.000000  23.0000  23.0000\n",
       "56    Default   7761.000000       peach   7761.000000  22.0000  22.0000\n",
       "44    Default   7414.000000       lemon   7414.000000  21.0000  21.0000\n",
       "67    Default   7319.000000   raspberry   7319.000000  20.0000  20.0000\n",
       "55    Default   5534.000000      orange   5534.000000  19.0000  19.0000\n",
       "37    Default   4999.000000       honey   4999.000000  18.0000  18.0000\n",
       "46    Default   5024.000000        lime   5024.000000  17.0000  17.0000\n",
       "43    Default   5306.000000     leather   5306.000000  16.0000  16.0000\n",
       "70    Default   4329.000000       smoke   4329.000000  15.0000  15.0000\n",
       "3     Default   4482.000000     apricot   4482.000000  14.0000  14.0000\n",
       "12    Default   4317.000000    cinnamon   4317.000000  13.0000  13.0000\n",
       "16    Default   4465.000000      coffee   4465.000000  12.0000  12.0000\n",
       "75    Default   5106.000000     tobacco   5106.000000  11.0000  11.0000\n",
       "33    Default   4123.000000  grapefruit   4123.000000  10.0000  10.0000\n",
       "73    Default   4045.000000  strawberry   4045.000000   9.0000   9.0000\n",
       "23    Default   3743.000000       earth   3743.000000   8.0000   8.0000\n",
       "61    Default   3646.000000   pineapple   3646.000000   7.0000   7.0000\n",
       "6     Default   3317.000000   blueberry   3317.000000   6.0000   6.0000\n",
       "1     Default   3052.000000       anise   3052.000000   5.0000   5.0000\n",
       "19    Default   2788.000000   cranberry   2788.000000   4.0000   4.0000\n",
       "28    Default   2778.000000      flower   2778.000000   3.0000   3.0000\n",
       "66    Default   2083.000000      raisin   2083.000000   2.0000   2.0000\n",
       "53    Default   2101.000000       olive   2101.000000   1.0000   1.0000\n",
       "...       ...           ...         ...           ...      ...      ...\n",
       "39    Topic28      0.074116        iris    301.853172  -4.1723 -10.8127\n",
       "49    Topic28      0.074116   marmalade    329.917029  -4.2612 -10.8127\n",
       "36    Topic28      0.074116    hibiscus    381.232194  -4.4058 -10.8127\n",
       "35    Topic28      0.074116       guava    396.487984  -4.4450 -10.8127\n",
       "4     Topic28      0.074116     beeswax    408.067672  -4.4738 -10.8127\n",
       "65    Topic28      0.074116      quince    427.841989  -4.5211 -10.8127\n",
       "0     Topic28      0.074116      acacia    431.771212  -4.5303 -10.8127\n",
       "78    Topic28      0.074116     truffle    476.266855  -4.6284 -10.8127\n",
       "76    Topic28      0.074116      toffee    497.574253  -4.6721 -10.8127\n",
       "25    Topic28      0.074116  eucalyptus    542.841681  -4.7592 -10.8127\n",
       "15    Topic28      0.074116     coconut    880.898798  -5.2433 -10.8127\n",
       "52    Topic28      0.074116   nectarine   1456.821467  -5.7464 -10.8127\n",
       "11    Topic28      0.074116      cherry  21116.577618  -8.4202 -10.8127\n",
       "26    Topic28      0.074116      fennel    699.789684  -5.0132 -10.8127\n",
       "68    Topic28      0.074116        rose   2112.546001  -6.1180 -10.8127\n",
       "41    Topic28      0.074116     jasmine    583.404843  -4.8313 -10.8127\n",
       "62    Topic28      0.074116        plum  10456.888316  -7.7174 -10.8127\n",
       "47    Topic28      0.074116      lychee    642.584752  -4.9279 -10.8127\n",
       "72    Topic28      0.074116       spice  14783.542715  -8.0636 -10.8127\n",
       "50    Topic28      0.074116        mint   1994.837038  -6.0607 -10.8127\n",
       "2     Topic28      0.074116       apple  10421.604649  -7.7140 -10.8127\n",
       "74    Topic28      0.074116       thyme   1346.511914  -5.6676 -10.8127\n",
       "44    Topic28      0.074116       lemon   7414.635613  -7.3736 -10.8127\n",
       "28    Topic28      0.074116      flower   2778.561616  -6.3921 -10.8127\n",
       "73    Topic28      0.074116  strawberry   4045.364972  -6.7677 -10.8127\n",
       "19    Topic28      0.074116   cranberry   2788.639608  -6.3957 -10.8127\n",
       "79    Topic28      0.074116     vanilla  10155.322263  -7.6881 -10.8127\n",
       "5     Topic28      0.074116  blackberry  10056.715282  -7.6784 -10.8127\n",
       "56    Topic28      0.074116       peach   7761.713489  -7.4193 -10.8127\n",
       "69    Topic28      0.074116       slate    967.782016  -5.3374 -10.8127\n",
       "\n",
       "[1370 rows x 6 columns], token_table=      Topic      Freq           Term\n",
       "term                                \n",
       "0        19  0.998214         acacia\n",
       "1        18  0.999492          anise\n",
       "2         5  0.739905          apple\n",
       "2         7  0.260037          apple\n",
       "3        20  0.999659        apricot\n",
       "4        24  0.997384        beeswax\n",
       "5         3  0.884881     blackberry\n",
       "5        19  0.114948     blackberry\n",
       "6        19  0.999649      blueberry\n",
       "7        19  0.999205    boysenberry\n",
       "8        11  0.778585  brettanomyces\n",
       "9        28  0.997553      bubblegum\n",
       "10       25  0.999194         butter\n",
       "11        1  0.700824         cherry\n",
       "11        3  0.147467         cherry\n",
       "11       11  0.092250         cherry\n",
       "11       17  0.059385         cherry\n",
       "12       21  0.999689       cinnamon\n",
       "13        8  0.999915         citrus\n",
       "14       18  0.999415          cocoa\n",
       "15        1  0.998980        coconut\n",
       "16       17  0.999730         coffee\n",
       "17       28  0.998756         cooked\n",
       "18       11  0.824631         corked\n",
       "19        9  0.999771      cranberry\n",
       "20       25  0.999424          cream\n",
       "21        4  0.990046           date\n",
       "22       28  0.998775           dill\n",
       "23       12  0.999583          earth\n",
       "24        8  0.982130    elderflower\n",
       "...     ...       ...            ...\n",
       "56       20  0.152544          peach\n",
       "57        7  0.999867           pear\n",
       "58       25  0.980410          peony\n",
       "59        1  0.986585      persimmon\n",
       "60       19  0.949238      petroleum\n",
       "61       13  0.999759      pineapple\n",
       "62        1  0.271209           plum\n",
       "62        2  0.728706           plum\n",
       "63       24  0.999554    pomegranate\n",
       "64        2  0.996266      potpourri\n",
       "65       16  0.998032         quince\n",
       "66       26  0.999315         raisin\n",
       "67        2  0.999780      raspberry\n",
       "68        5  0.999268           rose\n",
       "69       23  0.999192          slate\n",
       "70       27  0.999852          smoke\n",
       "71        9  0.979679      sourdough\n",
       "72        4  0.999896          spice\n",
       "73       13  0.999663     strawberry\n",
       "74       21  0.998877          thyme\n",
       "75       11  0.212298        tobacco\n",
       "75       12  0.787499        tobacco\n",
       "76       26  0.996836         toffee\n",
       "77       23  0.999173         tomato\n",
       "78        3  0.997340        truffle\n",
       "79       10  0.900021        vanilla\n",
       "79       25  0.099849        vanilla\n",
       "80        2  0.990718      vegetable\n",
       "81       11  0.993204        vinegar\n",
       "82       14  0.999363         violet\n",
       "\n",
       "[93 rows x 3 columns], R=30, lambda_step=0.01, plot_opts={'xlab': 'PC1', 'ylab': 'PC2'}, topic_order=[18, 25, 13, 3, 1, 10, 20, 14, 4, 26, 17, 12, 16, 7, 15, 28, 2, 24, 23, 8, 5, 22, 27, 11, 21, 19, 6, 9])"
      ]
     },
     "execution_count": 19,
     "metadata": {},
     "output_type": "execute_result"
    }
   ],
   "source": [
    "panel"
   ]
  },
  {
   "cell_type": "markdown",
   "metadata": {
    "slideshow": {
     "slide_type": "slide"
    }
   },
   "source": [
    "### Linear Model Using the Continuous Variables from the Data"
   ]
  },
  {
   "cell_type": "code",
   "execution_count": 16,
   "metadata": {
    "slideshow": {
     "slide_type": "-"
    }
   },
   "outputs": [
    {
     "name": "stdout",
     "output_type": "stream",
     "text": [
      "R-Squared for test data: 0.13880089747170443\n",
      "R-Squared for predictions: 0.13880089747170443\n"
     ]
    }
   ],
   "source": [
    "from sklearn import linear_model\n",
    "from sklearn.metrics import r2_score\n",
    "reg = linear_model.Ridge()\n",
    "model = reg.fit(X_train, y_train)\n",
    "y_pred = model.predict(X_test)\n",
    "print(f'R-Squared for test data: {model.score(X_test, y_test)}')\n",
    "print(f'R-Squared for predictions: {r2_score(y_test, y_pred)}')"
   ]
  },
  {
   "cell_type": "markdown",
   "metadata": {
    "slideshow": {
     "slide_type": "-"
    }
   },
   "source": [
    "* Predicted scores are only weakly correlated to test data"
   ]
  },
  {
   "cell_type": "markdown",
   "metadata": {
    "slideshow": {
     "slide_type": "slide"
    }
   },
   "source": [
    "### Classifier Models"
   ]
  },
  {
   "cell_type": "markdown",
   "metadata": {
    "slideshow": {
     "slide_type": "subslide"
    }
   },
   "source": [
    "### First Attempt - A Ridge Classifier Model"
   ]
  },
  {
   "cell_type": "code",
   "execution_count": 15,
   "metadata": {
    "slideshow": {
     "slide_type": "-"
    }
   },
   "outputs": [
    {
     "name": "stdout",
     "output_type": "stream",
     "text": [
      "R-Squared for test data: 0.620746319753509\n",
      "R-Squared for predictions: 0.12766027469626617\n"
     ]
    }
   ],
   "source": [
    "from sklearn.linear_model import RidgeClassifier\n",
    "from sklearn.metrics import r2_score\n",
    "clf = RidgeClassifier().fit(X_train, y_train)\n",
    "print(f'R-Squared for test data: {clf.score(X_test, y_test)}')\n",
    "y_pred = clf.predict(X_test)\n",
    "print(f'R-Squared for predictions: {r2_score(y_test, y_pred)}')"
   ]
  },
  {
   "cell_type": "markdown",
   "metadata": {
    "slideshow": {
     "slide_type": "subslide"
    }
   },
   "source": [
    "### Second Attempt - A Decision Tree Model"
   ]
  },
  {
   "cell_type": "code",
   "execution_count": 16,
   "metadata": {
    "slideshow": {
     "slide_type": "-"
    }
   },
   "outputs": [
    {
     "name": "stdout",
     "output_type": "stream",
     "text": [
      "R-Squared for test data: 0.620746319753509\n",
      "R-Squared for predictions: 0.12766027469626617\n"
     ]
    }
   ],
   "source": [
    "from sklearn import tree\n",
    "dt = tree.DecisionTreeClassifier()\n",
    "dt = clf.fit(X_train, y_train)\n",
    "print(f'R-Squared for test data: {dt.score(X_test, y_test)}')\n",
    "y_pred = dt.predict(X_test)\n",
    "print(f'R-Squared for predictions: {r2_score(y_test, y_pred)}')"
   ]
  },
  {
   "cell_type": "markdown",
   "metadata": {
    "slideshow": {
     "slide_type": "subslide"
    }
   },
   "source": [
    "### Third Attempt - A Random Forest Model"
   ]
  },
  {
   "cell_type": "code",
   "execution_count": 17,
   "metadata": {
    "slideshow": {
     "slide_type": "-"
    }
   },
   "outputs": [
    {
     "name": "stdout",
     "output_type": "stream",
     "text": [
      "R-Squared for test data: 0.6457377610407394\n",
      "R-Squared for predictions: 0.13993908775622077\n"
     ]
    }
   ],
   "source": [
    "from sklearn.ensemble import RandomForestClassifier\n",
    "rf = RandomForestClassifier(n_estimators=200)\n",
    "rf = rf.fit(X_train, y_train)\n",
    "print(f'R-Squared for test data: {rf.score(X_test, y_test)}')\n",
    "y_pred = rf.predict(X_test)\n",
    "print(f'R-Squared for predictions: {r2_score(y_test, y_pred)}')"
   ]
  },
  {
   "cell_type": "code",
   "execution_count": 18,
   "metadata": {
    "slideshow": {
     "slide_type": "-"
    }
   },
   "outputs": [
    {
     "data": {
      "text/plain": [
       "[(0.5044792019960175, 'price'),\n",
       " (0.37958675850207435, 'word_count'),\n",
       " (0.11593403950190773, 'age')]"
      ]
     },
     "execution_count": 18,
     "metadata": {},
     "output_type": "execute_result"
    }
   ],
   "source": [
    "# List of IV features by importance\n",
    "sorted(zip(rf.feature_importances_, X_test), reverse=True)"
   ]
  },
  {
   "cell_type": "markdown",
   "metadata": {
    "slideshow": {
     "slide_type": "subslide"
    }
   },
   "source": [
    "### Final Attempt - Random Forest With Strongest Predictor (Price)"
   ]
  },
  {
   "cell_type": "code",
   "execution_count": 19,
   "metadata": {
    "slideshow": {
     "slide_type": "-"
    }
   },
   "outputs": [
    {
     "name": "stdout",
     "output_type": "stream",
     "text": [
      "R-Squared for test data: 0.6337897980143786\n",
      "R-Squared for predictions: 0.12276429227362606\n"
     ]
    }
   ],
   "source": [
    "X2 = df['price'].values.reshape(-1,1)\n",
    "X_train, X_test, y_train, y_test = train_test_split(X2, encoded_y, random_state=42)\n",
    "rf = RandomForestClassifier(n_estimators=200)\n",
    "rf = rf.fit(X_train, y_train)\n",
    "print(f'R-Squared for test data: {rf.score(X_test, y_test)}')\n",
    "y_pred = rf.predict(X_test)\n",
    "print(f'R-Squared for predictions: {r2_score(y_test, y_pred)}')"
   ]
  },
  {
   "cell_type": "markdown",
   "metadata": {
    "slideshow": {
     "slide_type": "slide"
    }
   },
   "source": [
    "### Limitations\n",
    "* Too many values in our categorical Variables\n",
    "* Subjectivity of wine scoring practices\n",
    "* Reviews written by amateur reviewers"
   ]
  },
  {
   "cell_type": "markdown",
   "metadata": {
    "slideshow": {
     "slide_type": "slide"
    }
   },
   "source": [
    "### Ultimately machine learning will not cost any sommeliers their job\n",
    "* Wine quality assessments appear to be very subjective\n",
    "* There is a lot of variability in the relationships between score and other descriptive variables\n",
    "* After trying numerous types of models and data manipulation practices, none of our models were able to assess wine quality"
   ]
  },
  {
   "cell_type": "code",
   "execution_count": 20,
   "metadata": {
    "slideshow": {
     "slide_type": "-"
    }
   },
   "outputs": [
    {
     "data": {
      "text/html": [
       "<html><head><script src=\"https://cdnjs.cloudflare.com/ajax/libs/require.js/2.3.4/require.min.js\" integrity=\"sha256-Ae2Vz/4ePdIu6ZyI/5ZGsYnb+m0JlOmKPjt6XZ9JJkA=\" crossorigin=\"anonymous\"></script><script src=\"https://unpkg.com/@jupyter-widgets/html-manager@*/dist/embed-amd.js\" crossorigin=\"anonymous\"></script><script type=\"application/vnd.jupyter.widget-state+json\">{\"version_major\": 2, \"version_minor\": 0, \"state\":{}}</script></head><body><iframe src=\"https://giphy.com/embed/E3L5goMMSoAAo\" width=\"480\" height=\"270\" frameBorder=\"0\" class=\"giphy-embed\" allowFullScreen></iframe><p><a href=\"https://giphy.com/gifs/amy-schumer-E3L5goMMSoAAo\">via GIPHY</a></p></body></html>"
      ],
      "text/plain": [
       "<IPython.core.display.HTML object>"
      ]
     },
     "metadata": {},
     "output_type": "display_data"
    }
   ],
   "source": [
    "%%HTML\n",
    "<html><head><script src=\"https://cdnjs.cloudflare.com/ajax/libs/require.js/2.3.4/require.min.js\" integrity=\"sha256-Ae2Vz/4ePdIu6ZyI/5ZGsYnb+m0JlOmKPjt6XZ9JJkA=\" crossorigin=\"anonymous\"></script><script src=\"https://unpkg.com/@jupyter-widgets/html-manager@*/dist/embed-amd.js\" crossorigin=\"anonymous\"></script><script type=\"application/vnd.jupyter.widget-state+json\">{\"version_major\": 2, \"version_minor\": 0, \"state\":{}}</script></head><body><iframe src=\"https://giphy.com/embed/E3L5goMMSoAAo\" width=\"480\" height=\"270\" frameBorder=\"0\" class=\"giphy-embed\" allowFullScreen></iframe><p><a href=\"https://giphy.com/gifs/amy-schumer-E3L5goMMSoAAo\">via GIPHY</a></p></body></html>"
   ]
  }
 ],
 "metadata": {
  "celltoolbar": "Slideshow",
  "kernelspec": {
   "display_name": "Python 3",
   "language": "python",
   "name": "python3"
  },
  "language_info": {
   "codemirror_mode": {
    "name": "ipython",
    "version": 3
   },
   "file_extension": ".py",
   "mimetype": "text/x-python",
   "name": "python",
   "nbconvert_exporter": "python",
   "pygments_lexer": "ipython3",
   "version": "3.6.4"
  }
 },
 "nbformat": 4,
 "nbformat_minor": 2
}
