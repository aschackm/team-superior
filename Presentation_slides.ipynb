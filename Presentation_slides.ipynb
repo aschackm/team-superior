{
 "cells": [
  {
   "cell_type": "markdown",
   "metadata": {
    "slideshow": {
     "slide_type": "slide"
    }
   },
   "source": [
    "# Technical Breakdown of Predictive Models"
   ]
  },
  {
   "cell_type": "markdown",
   "metadata": {
    "slideshow": {
     "slide_type": "slide"
    }
   },
   "source": [
    "### Cluster Analysis of Flavors"
   ]
  },
  {
   "cell_type": "code",
   "execution_count": null,
   "metadata": {
    "slideshow": {
     "slide_type": "-"
    }
   },
   "outputs": [],
   "source": [
    "# insert Cate's Cluster visual"
   ]
  },
  {
   "cell_type": "markdown",
   "metadata": {
    "slideshow": {
     "slide_type": "slide"
    }
   },
   "source": [
    "### Linear Model Using the Continuous Variables from the Data"
   ]
  },
  {
   "cell_type": "code",
   "execution_count": 16,
   "metadata": {
    "slideshow": {
     "slide_type": "-"
    }
   },
   "outputs": [
    {
     "name": "stdout",
     "output_type": "stream",
     "text": [
      "R-Squared for test data: 0.13880089747170443\n",
      "R-Squared for predictions: 0.13880089747170443\n"
     ]
    }
   ],
   "source": [
    "from sklearn import linear_model\n",
    "from sklearn.metrics import r2_score\n",
    "reg = linear_model.Ridge()\n",
    "model = reg.fit(X_train, y_train)\n",
    "y_pred = model.predict(X_test)\n",
    "print(f'R-Squared for test data: {model.score(X_test, y_test)}')\n",
    "print(f'R-Squared for predictions: {r2_score(y_test, y_pred)}')"
   ]
  },
  {
   "cell_type": "markdown",
   "metadata": {
    "slideshow": {
     "slide_type": "-"
    }
   },
   "source": [
    "* Predicted scores are only weakly correlated to test data"
   ]
  },
  {
   "cell_type": "markdown",
   "metadata": {
    "slideshow": {
     "slide_type": "slide"
    }
   },
   "source": [
    "### Classifier Models"
   ]
  },
  {
   "cell_type": "markdown",
   "metadata": {
    "slideshow": {
     "slide_type": "subslide"
    }
   },
   "source": [
    "### First Attempt - A Ridge Classifier Model"
   ]
  },
  {
   "cell_type": "code",
   "execution_count": 15,
   "metadata": {
    "slideshow": {
     "slide_type": "-"
    }
   },
   "outputs": [
    {
     "name": "stdout",
     "output_type": "stream",
     "text": [
      "R-Squared for test data: 0.620746319753509\n",
      "R-Squared for predictions: 0.12766027469626617\n"
     ]
    }
   ],
   "source": [
    "from sklearn.linear_model import RidgeClassifier\n",
    "from sklearn.metrics import r2_score\n",
    "clf = RidgeClassifier().fit(X_train, y_train)\n",
    "print(f'R-Squared for test data: {clf.score(X_test, y_test)}')\n",
    "y_pred = clf.predict(X_test)\n",
    "print(f'R-Squared for predictions: {r2_score(y_test, y_pred)}')"
   ]
  },
  {
   "cell_type": "markdown",
   "metadata": {
    "slideshow": {
     "slide_type": "subslide"
    }
   },
   "source": [
    "### Second Attempt - A Decision Tree Model"
   ]
  },
  {
   "cell_type": "code",
   "execution_count": 16,
   "metadata": {
    "slideshow": {
     "slide_type": "-"
    }
   },
   "outputs": [
    {
     "name": "stdout",
     "output_type": "stream",
     "text": [
      "R-Squared for test data: 0.620746319753509\n",
      "R-Squared for predictions: 0.12766027469626617\n"
     ]
    }
   ],
   "source": [
    "from sklearn import tree\n",
    "dt = tree.DecisionTreeClassifier()\n",
    "dt = clf.fit(X_train, y_train)\n",
    "print(f'R-Squared for test data: {dt.score(X_test, y_test)}')\n",
    "y_pred = dt.predict(X_test)\n",
    "print(f'R-Squared for predictions: {r2_score(y_test, y_pred)}')"
   ]
  },
  {
   "cell_type": "markdown",
   "metadata": {
    "slideshow": {
     "slide_type": "subslide"
    }
   },
   "source": [
    "### Third Attempt - A Random Forest Model"
   ]
  },
  {
   "cell_type": "code",
   "execution_count": 17,
   "metadata": {
    "slideshow": {
     "slide_type": "-"
    }
   },
   "outputs": [
    {
     "name": "stdout",
     "output_type": "stream",
     "text": [
      "R-Squared for test data: 0.6457377610407394\n",
      "R-Squared for predictions: 0.13993908775622077\n"
     ]
    }
   ],
   "source": [
    "from sklearn.ensemble import RandomForestClassifier\n",
    "rf = RandomForestClassifier(n_estimators=200)\n",
    "rf = rf.fit(X_train, y_train)\n",
    "print(f'R-Squared for test data: {rf.score(X_test, y_test)}')\n",
    "y_pred = rf.predict(X_test)\n",
    "print(f'R-Squared for predictions: {r2_score(y_test, y_pred)}')"
   ]
  },
  {
   "cell_type": "code",
   "execution_count": 18,
   "metadata": {
    "slideshow": {
     "slide_type": "-"
    }
   },
   "outputs": [
    {
     "data": {
      "text/plain": [
       "[(0.5044792019960175, 'price'),\n",
       " (0.37958675850207435, 'word_count'),\n",
       " (0.11593403950190773, 'age')]"
      ]
     },
     "execution_count": 18,
     "metadata": {},
     "output_type": "execute_result"
    }
   ],
   "source": [
    "# List of IV features by importance\n",
    "sorted(zip(rf.feature_importances_, X_test), reverse=True)"
   ]
  },
  {
   "cell_type": "markdown",
   "metadata": {
    "slideshow": {
     "slide_type": "subslide"
    }
   },
   "source": [
    "### Final Attempt - Random Forest With Strongest Predictor (Price)"
   ]
  },
  {
   "cell_type": "code",
   "execution_count": 19,
   "metadata": {
    "slideshow": {
     "slide_type": "-"
    }
   },
   "outputs": [
    {
     "name": "stdout",
     "output_type": "stream",
     "text": [
      "R-Squared for test data: 0.6337897980143786\n",
      "R-Squared for predictions: 0.12276429227362606\n"
     ]
    }
   ],
   "source": [
    "X2 = df['price'].values.reshape(-1,1)\n",
    "X_train, X_test, y_train, y_test = train_test_split(X2, encoded_y, random_state=42)\n",
    "rf = RandomForestClassifier(n_estimators=200)\n",
    "rf = rf.fit(X_train, y_train)\n",
    "print(f'R-Squared for test data: {rf.score(X_test, y_test)}')\n",
    "y_pred = rf.predict(X_test)\n",
    "print(f'R-Squared for predictions: {r2_score(y_test, y_pred)}')"
   ]
  },
  {
   "cell_type": "markdown",
   "metadata": {
    "slideshow": {
     "slide_type": "slide"
    }
   },
   "source": [
    "### Limitations\n",
    "* Too many values in our categorical Variables\n",
    "* Subjectivity of wine scoring practices\n",
    "* Reviews written by amateur reviewers"
   ]
  },
  {
   "cell_type": "markdown",
   "metadata": {
    "slideshow": {
     "slide_type": "slide"
    }
   },
   "source": [
    "### Ultimately machine learning will not cost any sommeliers their job\n",
    "* Wine quality assessments appear to be very subjective\n",
    "* There is a lot of variability in the relationships between score and other descriptive variables\n",
    "* After trying numerous types of models and data manipulation practices, none of our models were able to assess wine quality"
   ]
  },
  {
   "cell_type": "code",
   "execution_count": 20,
   "metadata": {
    "slideshow": {
     "slide_type": "-"
    }
   },
   "outputs": [
    {
     "data": {
      "text/html": [
       "<html><head><script src=\"https://cdnjs.cloudflare.com/ajax/libs/require.js/2.3.4/require.min.js\" integrity=\"sha256-Ae2Vz/4ePdIu6ZyI/5ZGsYnb+m0JlOmKPjt6XZ9JJkA=\" crossorigin=\"anonymous\"></script><script src=\"https://unpkg.com/@jupyter-widgets/html-manager@*/dist/embed-amd.js\" crossorigin=\"anonymous\"></script><script type=\"application/vnd.jupyter.widget-state+json\">{\"version_major\": 2, \"version_minor\": 0, \"state\":{}}</script></head><body><iframe src=\"https://giphy.com/embed/E3L5goMMSoAAo\" width=\"480\" height=\"270\" frameBorder=\"0\" class=\"giphy-embed\" allowFullScreen></iframe><p><a href=\"https://giphy.com/gifs/amy-schumer-E3L5goMMSoAAo\">via GIPHY</a></p></body></html>"
      ],
      "text/plain": [
       "<IPython.core.display.HTML object>"
      ]
     },
     "metadata": {},
     "output_type": "display_data"
    }
   ],
   "source": [
    "%%HTML\n",
    "<html><head><script src=\"https://cdnjs.cloudflare.com/ajax/libs/require.js/2.3.4/require.min.js\" integrity=\"sha256-Ae2Vz/4ePdIu6ZyI/5ZGsYnb+m0JlOmKPjt6XZ9JJkA=\" crossorigin=\"anonymous\"></script><script src=\"https://unpkg.com/@jupyter-widgets/html-manager@*/dist/embed-amd.js\" crossorigin=\"anonymous\"></script><script type=\"application/vnd.jupyter.widget-state+json\">{\"version_major\": 2, \"version_minor\": 0, \"state\":{}}</script></head><body><iframe src=\"https://giphy.com/embed/E3L5goMMSoAAo\" width=\"480\" height=\"270\" frameBorder=\"0\" class=\"giphy-embed\" allowFullScreen></iframe><p><a href=\"https://giphy.com/gifs/amy-schumer-E3L5goMMSoAAo\">via GIPHY</a></p></body></html>"
   ]
  }
 ],
 "metadata": {
  "celltoolbar": "Slideshow",
  "kernelspec": {
   "display_name": "Python 3",
   "language": "python",
   "name": "python3"
  },
  "language_info": {
   "codemirror_mode": {
    "name": "ipython",
    "version": 3
   },
   "file_extension": ".py",
   "mimetype": "text/x-python",
   "name": "python",
   "nbconvert_exporter": "python",
   "pygments_lexer": "ipython3",
   "version": "3.6.4"
  }
 },
 "nbformat": 4,
 "nbformat_minor": 2
}
