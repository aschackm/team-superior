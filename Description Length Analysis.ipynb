{
 "cells": [
  {
   "cell_type": "code",
   "execution_count": 1,
   "metadata": {},
   "outputs": [],
   "source": [
    "import  re\n",
    "import  pandas  as  pd\n",
    "import  numpy  as  np \n",
    "import  matplotlib.pyplot  as plt \n",
    "import seaborn as sns\n",
    "import string\n",
    "import nltk\n",
    "import warnings \n",
    "warnings.filterwarnings(\"ignore\", category=DeprecationWarning)\n",
    "\n",
    "%matplotlib inline"
   ]
  },
  {
   "cell_type": "code",
   "execution_count": 2,
   "metadata": {},
   "outputs": [
    {
     "data": {
      "text/html": [
       "<div>\n",
       "<style scoped>\n",
       "    .dataframe tbody tr th:only-of-type {\n",
       "        vertical-align: middle;\n",
       "    }\n",
       "\n",
       "    .dataframe tbody tr th {\n",
       "        vertical-align: top;\n",
       "    }\n",
       "\n",
       "    .dataframe thead th {\n",
       "        text-align: right;\n",
       "    }\n",
       "</style>\n",
       "<table border=\"1\" class=\"dataframe\">\n",
       "  <thead>\n",
       "    <tr style=\"text-align: right;\">\n",
       "      <th></th>\n",
       "      <th>obs_id</th>\n",
       "      <th>title</th>\n",
       "      <th>winery</th>\n",
       "      <th>country</th>\n",
       "      <th>province</th>\n",
       "      <th>variety</th>\n",
       "      <th>description</th>\n",
       "      <th>points</th>\n",
       "      <th>price</th>\n",
       "    </tr>\n",
       "  </thead>\n",
       "  <tbody>\n",
       "    <tr>\n",
       "      <th>0</th>\n",
       "      <td>0</td>\n",
       "      <td>Nicosia 2013 Vulkà Bianco  (Etna)</td>\n",
       "      <td>Nicosia</td>\n",
       "      <td>Italy</td>\n",
       "      <td>Sicily &amp; Sardinia</td>\n",
       "      <td>White Blend</td>\n",
       "      <td>Aromas include tropical fruit, broom, brimston...</td>\n",
       "      <td>87</td>\n",
       "      <td>NaN</td>\n",
       "    </tr>\n",
       "    <tr>\n",
       "      <th>1</th>\n",
       "      <td>1</td>\n",
       "      <td>Quinta dos Avidagos 2011 Avidagos Red (Douro)</td>\n",
       "      <td>Quinta dos Avidagos</td>\n",
       "      <td>Portugal</td>\n",
       "      <td>Douro</td>\n",
       "      <td>Portuguese Red</td>\n",
       "      <td>This is ripe and fruity, a wine that is smooth...</td>\n",
       "      <td>87</td>\n",
       "      <td>15.0</td>\n",
       "    </tr>\n",
       "    <tr>\n",
       "      <th>2</th>\n",
       "      <td>2</td>\n",
       "      <td>Rainstorm 2013 Pinot Gris (Willamette Valley)</td>\n",
       "      <td>Rainstorm</td>\n",
       "      <td>US</td>\n",
       "      <td>Oregon</td>\n",
       "      <td>Pinot Gris</td>\n",
       "      <td>Tart and snappy, the flavors of lime flesh and...</td>\n",
       "      <td>87</td>\n",
       "      <td>14.0</td>\n",
       "    </tr>\n",
       "    <tr>\n",
       "      <th>3</th>\n",
       "      <td>3</td>\n",
       "      <td>St. Julian 2013 Reserve Late Harvest Riesling ...</td>\n",
       "      <td>St. Julian</td>\n",
       "      <td>US</td>\n",
       "      <td>Michigan</td>\n",
       "      <td>Riesling</td>\n",
       "      <td>Pineapple rind, lemon pith and orange blossom ...</td>\n",
       "      <td>87</td>\n",
       "      <td>13.0</td>\n",
       "    </tr>\n",
       "    <tr>\n",
       "      <th>4</th>\n",
       "      <td>4</td>\n",
       "      <td>Sweet Cheeks 2012 Vintner's Reserve Wild Child...</td>\n",
       "      <td>Sweet Cheeks</td>\n",
       "      <td>US</td>\n",
       "      <td>Oregon</td>\n",
       "      <td>Pinot Noir</td>\n",
       "      <td>Much like the regular bottling from 2012, this...</td>\n",
       "      <td>87</td>\n",
       "      <td>65.0</td>\n",
       "    </tr>\n",
       "  </tbody>\n",
       "</table>\n",
       "</div>"
      ],
      "text/plain": [
       "   obs_id                                              title  \\\n",
       "0       0                  Nicosia 2013 Vulkà Bianco  (Etna)   \n",
       "1       1      Quinta dos Avidagos 2011 Avidagos Red (Douro)   \n",
       "2       2      Rainstorm 2013 Pinot Gris (Willamette Valley)   \n",
       "3       3  St. Julian 2013 Reserve Late Harvest Riesling ...   \n",
       "4       4  Sweet Cheeks 2012 Vintner's Reserve Wild Child...   \n",
       "\n",
       "                winery   country           province         variety  \\\n",
       "0              Nicosia     Italy  Sicily & Sardinia     White Blend   \n",
       "1  Quinta dos Avidagos  Portugal              Douro  Portuguese Red   \n",
       "2            Rainstorm        US             Oregon      Pinot Gris   \n",
       "3           St. Julian        US           Michigan        Riesling   \n",
       "4         Sweet Cheeks        US             Oregon      Pinot Noir   \n",
       "\n",
       "                                         description  points  price  \n",
       "0  Aromas include tropical fruit, broom, brimston...      87    NaN  \n",
       "1  This is ripe and fruity, a wine that is smooth...      87   15.0  \n",
       "2  Tart and snappy, the flavors of lime flesh and...      87   14.0  \n",
       "3  Pineapple rind, lemon pith and orange blossom ...      87   13.0  \n",
       "4  Much like the regular bottling from 2012, this...      87   65.0  "
      ]
     },
     "execution_count": 2,
     "metadata": {},
     "output_type": "execute_result"
    }
   ],
   "source": [
    "data = pd.read_csv('wineData.csv')\n",
    "data.head()"
   ]
  },
  {
   "cell_type": "code",
   "execution_count": 3,
   "metadata": {},
   "outputs": [
    {
     "data": {
      "text/plain": [
       "129971"
      ]
     },
     "execution_count": 3,
     "metadata": {},
     "output_type": "execute_result"
    }
   ],
   "source": [
    "num_observations = num_obs  = data[\"obs_id\"].nunique()\n",
    "num_observations"
   ]
  },
  {
   "cell_type": "code",
   "execution_count": 4,
   "metadata": {},
   "outputs": [
    {
     "data": {
      "text/html": [
       "<div>\n",
       "<style scoped>\n",
       "    .dataframe tbody tr th:only-of-type {\n",
       "        vertical-align: middle;\n",
       "    }\n",
       "\n",
       "    .dataframe tbody tr th {\n",
       "        vertical-align: top;\n",
       "    }\n",
       "\n",
       "    .dataframe thead th {\n",
       "        text-align: right;\n",
       "    }\n",
       "</style>\n",
       "<table border=\"1\" class=\"dataframe\">\n",
       "  <thead>\n",
       "    <tr style=\"text-align: right;\">\n",
       "      <th></th>\n",
       "      <th>Total Count</th>\n",
       "      <th>Percentage of Reviews</th>\n",
       "    </tr>\n",
       "  </thead>\n",
       "  <tbody>\n",
       "    <tr>\n",
       "      <th>80-84</th>\n",
       "      <td>21960</td>\n",
       "      <td>16.90</td>\n",
       "    </tr>\n",
       "    <tr>\n",
       "      <th>85-89</th>\n",
       "      <td>74376</td>\n",
       "      <td>57.23</td>\n",
       "    </tr>\n",
       "    <tr>\n",
       "      <th>90-94</th>\n",
       "      <td>32754</td>\n",
       "      <td>25.20</td>\n",
       "    </tr>\n",
       "    <tr>\n",
       "      <th>95-100</th>\n",
       "      <td>881</td>\n",
       "      <td>0.68</td>\n",
       "    </tr>\n",
       "  </tbody>\n",
       "</table>\n",
       "</div>"
      ],
      "text/plain": [
       "        Total Count  Percentage of Reviews\n",
       "80-84         21960                  16.90\n",
       "85-89         74376                  57.23\n",
       "90-94         32754                  25.20\n",
       "95-100          881                   0.68"
      ]
     },
     "execution_count": 4,
     "metadata": {},
     "output_type": "execute_result"
    }
   ],
   "source": [
    "# Establish the bins # Estab \n",
    "points_bins = [79, 85, 90, 95, 101]\n",
    "group_names = [\"80-84\", \"85-89\", \"90-94\", \"95-100\"]\n",
    "\n",
    "# Categorize the existing players using the age bins\n",
    "data[\"Point Ranges\"] = pd.cut(data[\"points\"], points_bins, labels=group_names)\n",
    "\n",
    "# Calculate the Numbers and Percentages by Age Group\n",
    "point_totals = data[\"Point Ranges\"].value_counts()\n",
    "point_percents = point_totals / num_observations * 100\n",
    "point_df = pd.DataFrame({\"Total Count\": point_totals, \"Percentage of Reviews\": point_percents})\n",
    "\n",
    "# Minor Data Munging\n",
    "point_df = point_df.round(2)\n",
    "\n",
    "# Display Age Demographics Table\n",
    "point_df.sort_index()"
   ]
  },
  {
   "cell_type": "code",
   "execution_count": 5,
   "metadata": {},
   "outputs": [],
   "source": [
    "def remove_pattern(input_txt, pattern):\n",
    "    r = re.findall(pattern, input_txt)\n",
    "    for i in r:\n",
    "        input_txt = re.sub(i, '', input_txt)\n",
    "        \n",
    "    return input_txt"
   ]
  },
  {
   "cell_type": "code",
   "execution_count": 6,
   "metadata": {},
   "outputs": [],
   "source": [
    "# remove (@user)\n",
    "data['tidy_review'] = np.vectorize(remove_pattern)(data['description'], \"@[\\w]*\")"
   ]
  },
  {
   "cell_type": "code",
   "execution_count": 7,
   "metadata": {},
   "outputs": [],
   "source": [
    "# remove special characters, numbers, punctuations# remove \n",
    "data['tidy_review'] = data['tidy_review'].str.replace(\"[^a-zA-Z#]\", \" \")"
   ]
  },
  {
   "cell_type": "code",
   "execution_count": 8,
   "metadata": {},
   "outputs": [
    {
     "data": {
      "text/html": [
       "<div>\n",
       "<style scoped>\n",
       "    .dataframe tbody tr th:only-of-type {\n",
       "        vertical-align: middle;\n",
       "    }\n",
       "\n",
       "    .dataframe tbody tr th {\n",
       "        vertical-align: top;\n",
       "    }\n",
       "\n",
       "    .dataframe thead th {\n",
       "        text-align: right;\n",
       "    }\n",
       "</style>\n",
       "<table border=\"1\" class=\"dataframe\">\n",
       "  <thead>\n",
       "    <tr style=\"text-align: right;\">\n",
       "      <th></th>\n",
       "      <th>obs_id</th>\n",
       "      <th>title</th>\n",
       "      <th>winery</th>\n",
       "      <th>country</th>\n",
       "      <th>province</th>\n",
       "      <th>variety</th>\n",
       "      <th>description</th>\n",
       "      <th>points</th>\n",
       "      <th>price</th>\n",
       "      <th>Point Ranges</th>\n",
       "      <th>tidy_review</th>\n",
       "    </tr>\n",
       "  </thead>\n",
       "  <tbody>\n",
       "    <tr>\n",
       "      <th>0</th>\n",
       "      <td>0</td>\n",
       "      <td>Nicosia 2013 Vulkà Bianco  (Etna)</td>\n",
       "      <td>Nicosia</td>\n",
       "      <td>Italy</td>\n",
       "      <td>Sicily &amp; Sardinia</td>\n",
       "      <td>White Blend</td>\n",
       "      <td>Aromas include tropical fruit, broom, brimston...</td>\n",
       "      <td>87</td>\n",
       "      <td>NaN</td>\n",
       "      <td>85-89</td>\n",
       "      <td>Aromas include tropical fruit  broom  brimston...</td>\n",
       "    </tr>\n",
       "    <tr>\n",
       "      <th>1</th>\n",
       "      <td>1</td>\n",
       "      <td>Quinta dos Avidagos 2011 Avidagos Red (Douro)</td>\n",
       "      <td>Quinta dos Avidagos</td>\n",
       "      <td>Portugal</td>\n",
       "      <td>Douro</td>\n",
       "      <td>Portuguese Red</td>\n",
       "      <td>This is ripe and fruity, a wine that is smooth...</td>\n",
       "      <td>87</td>\n",
       "      <td>15.0</td>\n",
       "      <td>85-89</td>\n",
       "      <td>This is ripe and fruity  a wine that is smooth...</td>\n",
       "    </tr>\n",
       "    <tr>\n",
       "      <th>2</th>\n",
       "      <td>2</td>\n",
       "      <td>Rainstorm 2013 Pinot Gris (Willamette Valley)</td>\n",
       "      <td>Rainstorm</td>\n",
       "      <td>US</td>\n",
       "      <td>Oregon</td>\n",
       "      <td>Pinot Gris</td>\n",
       "      <td>Tart and snappy, the flavors of lime flesh and...</td>\n",
       "      <td>87</td>\n",
       "      <td>14.0</td>\n",
       "      <td>85-89</td>\n",
       "      <td>Tart and snappy  the flavors of lime flesh and...</td>\n",
       "    </tr>\n",
       "    <tr>\n",
       "      <th>3</th>\n",
       "      <td>3</td>\n",
       "      <td>St. Julian 2013 Reserve Late Harvest Riesling ...</td>\n",
       "      <td>St. Julian</td>\n",
       "      <td>US</td>\n",
       "      <td>Michigan</td>\n",
       "      <td>Riesling</td>\n",
       "      <td>Pineapple rind, lemon pith and orange blossom ...</td>\n",
       "      <td>87</td>\n",
       "      <td>13.0</td>\n",
       "      <td>85-89</td>\n",
       "      <td>Pineapple rind  lemon pith and orange blossom ...</td>\n",
       "    </tr>\n",
       "    <tr>\n",
       "      <th>4</th>\n",
       "      <td>4</td>\n",
       "      <td>Sweet Cheeks 2012 Vintner's Reserve Wild Child...</td>\n",
       "      <td>Sweet Cheeks</td>\n",
       "      <td>US</td>\n",
       "      <td>Oregon</td>\n",
       "      <td>Pinot Noir</td>\n",
       "      <td>Much like the regular bottling from 2012, this...</td>\n",
       "      <td>87</td>\n",
       "      <td>65.0</td>\n",
       "      <td>85-89</td>\n",
       "      <td>Much like the regular bottling from       this...</td>\n",
       "    </tr>\n",
       "  </tbody>\n",
       "</table>\n",
       "</div>"
      ],
      "text/plain": [
       "   obs_id                                              title  \\\n",
       "0       0                  Nicosia 2013 Vulkà Bianco  (Etna)   \n",
       "1       1      Quinta dos Avidagos 2011 Avidagos Red (Douro)   \n",
       "2       2      Rainstorm 2013 Pinot Gris (Willamette Valley)   \n",
       "3       3  St. Julian 2013 Reserve Late Harvest Riesling ...   \n",
       "4       4  Sweet Cheeks 2012 Vintner's Reserve Wild Child...   \n",
       "\n",
       "                winery   country           province         variety  \\\n",
       "0              Nicosia     Italy  Sicily & Sardinia     White Blend   \n",
       "1  Quinta dos Avidagos  Portugal              Douro  Portuguese Red   \n",
       "2            Rainstorm        US             Oregon      Pinot Gris   \n",
       "3           St. Julian        US           Michigan        Riesling   \n",
       "4         Sweet Cheeks        US             Oregon      Pinot Noir   \n",
       "\n",
       "                                         description  points  price  \\\n",
       "0  Aromas include tropical fruit, broom, brimston...      87    NaN   \n",
       "1  This is ripe and fruity, a wine that is smooth...      87   15.0   \n",
       "2  Tart and snappy, the flavors of lime flesh and...      87   14.0   \n",
       "3  Pineapple rind, lemon pith and orange blossom ...      87   13.0   \n",
       "4  Much like the regular bottling from 2012, this...      87   65.0   \n",
       "\n",
       "  Point Ranges                                        tidy_review  \n",
       "0        85-89  Aromas include tropical fruit  broom  brimston...  \n",
       "1        85-89  This is ripe and fruity  a wine that is smooth...  \n",
       "2        85-89  Tart and snappy  the flavors of lime flesh and...  \n",
       "3        85-89  Pineapple rind  lemon pith and orange blossom ...  \n",
       "4        85-89  Much like the regular bottling from       this...  "
      ]
     },
     "execution_count": 8,
     "metadata": {},
     "output_type": "execute_result"
    }
   ],
   "source": [
    "data.head()"
   ]
  },
  {
   "cell_type": "code",
   "execution_count": 9,
   "metadata": {},
   "outputs": [
    {
     "data": {
      "text/html": [
       "<div>\n",
       "<style scoped>\n",
       "    .dataframe tbody tr th:only-of-type {\n",
       "        vertical-align: middle;\n",
       "    }\n",
       "\n",
       "    .dataframe tbody tr th {\n",
       "        vertical-align: top;\n",
       "    }\n",
       "\n",
       "    .dataframe thead th {\n",
       "        text-align: right;\n",
       "    }\n",
       "</style>\n",
       "<table border=\"1\" class=\"dataframe\">\n",
       "  <thead>\n",
       "    <tr style=\"text-align: right;\">\n",
       "      <th></th>\n",
       "      <th>index</th>\n",
       "      <th>Score</th>\n",
       "    </tr>\n",
       "  </thead>\n",
       "  <tbody>\n",
       "    <tr>\n",
       "      <th>0</th>\n",
       "      <td>0</td>\n",
       "      <td>87</td>\n",
       "    </tr>\n",
       "    <tr>\n",
       "      <th>1</th>\n",
       "      <td>1</td>\n",
       "      <td>87</td>\n",
       "    </tr>\n",
       "    <tr>\n",
       "      <th>2</th>\n",
       "      <td>2</td>\n",
       "      <td>87</td>\n",
       "    </tr>\n",
       "    <tr>\n",
       "      <th>3</th>\n",
       "      <td>3</td>\n",
       "      <td>87</td>\n",
       "    </tr>\n",
       "    <tr>\n",
       "      <th>4</th>\n",
       "      <td>4</td>\n",
       "      <td>87</td>\n",
       "    </tr>\n",
       "  </tbody>\n",
       "</table>\n",
       "</div>"
      ],
      "text/plain": [
       "   index  Score\n",
       "0      0     87\n",
       "1      1     87\n",
       "2      2     87\n",
       "3      3     87\n",
       "4      4     87"
      ]
     },
     "execution_count": 9,
     "metadata": {},
     "output_type": "execute_result"
    }
   ],
   "source": [
    "# Convert to DataFrame\n",
    "df2 = pd.DataFrame({\"Score\": data[\"points\"]})\n",
    "df3 = df2.reset_index()\n",
    "# del df3[\"index\"]\n",
    "df3.head()"
   ]
  },
  {
   "cell_type": "code",
   "execution_count": 10,
   "metadata": {},
   "outputs": [
    {
     "name": "stdout",
     "output_type": "stream",
     "text": [
      "Aromas include tropical fruit  broom  brimstone and dried herb  The palate isn t overly expressive  offering unripened apple  citrus and dried sage alongside brisk acidity \n"
     ]
    }
   ],
   "source": [
    "print(data[\"tidy_review\"][0])"
   ]
  },
  {
   "cell_type": "code",
   "execution_count": 11,
   "metadata": {},
   "outputs": [
    {
     "data": {
      "text/plain": [
       "0    Aromas include tropical fruit  broom  brimston...\n",
       "1    This is ripe and fruity  a wine that is smooth...\n",
       "2    Tart and snappy  the flavors of lime flesh and...\n",
       "3    Pineapple rind  lemon pith and orange blossom ...\n",
       "4    Much like the regular bottling from       this...\n",
       "Name: tidy_review, dtype: object"
      ]
     },
     "execution_count": 11,
     "metadata": {},
     "output_type": "execute_result"
    }
   ],
   "source": [
    "data[\"tidy_review\"].head()"
   ]
  },
  {
   "cell_type": "code",
   "execution_count": 12,
   "metadata": {},
   "outputs": [],
   "source": [
    "review = []\n",
    "count = []\n",
    "for word in data[\"tidy_review\"]:\n",
    "    \" \".join(word.split())\n",
    "    word_split = word.split(\" \")\n",
    "    word_count = len(word_split)\n",
    "    word_split = list(filter(None, word_split))\n",
    "    review.append(word_split)\n",
    "    count.append(word_count)\n",
    "\n",
    "# review\n",
    "# count"
   ]
  },
  {
   "cell_type": "code",
   "execution_count": 13,
   "metadata": {},
   "outputs": [
    {
     "data": {
      "text/html": [
       "<div>\n",
       "<style scoped>\n",
       "    .dataframe tbody tr th:only-of-type {\n",
       "        vertical-align: middle;\n",
       "    }\n",
       "\n",
       "    .dataframe tbody tr th {\n",
       "        vertical-align: top;\n",
       "    }\n",
       "\n",
       "    .dataframe thead th {\n",
       "        text-align: right;\n",
       "    }\n",
       "</style>\n",
       "<table border=\"1\" class=\"dataframe\">\n",
       "  <thead>\n",
       "    <tr style=\"text-align: right;\">\n",
       "      <th></th>\n",
       "      <th>Review</th>\n",
       "      <th>Word Count</th>\n",
       "    </tr>\n",
       "  </thead>\n",
       "  <tbody>\n",
       "    <tr>\n",
       "      <th>0</th>\n",
       "      <td>[Aromas, include, tropical, fruit, broom, brim...</td>\n",
       "      <td>31</td>\n",
       "    </tr>\n",
       "    <tr>\n",
       "      <th>1</th>\n",
       "      <td>[This, is, ripe, and, fruity, a, wine, that, i...</td>\n",
       "      <td>49</td>\n",
       "    </tr>\n",
       "    <tr>\n",
       "      <th>2</th>\n",
       "      <td>[Tart, and, snappy, the, flavors, of, lime, fl...</td>\n",
       "      <td>34</td>\n",
       "    </tr>\n",
       "    <tr>\n",
       "      <th>3</th>\n",
       "      <td>[Pineapple, rind, lemon, pith, and, orange, bl...</td>\n",
       "      <td>39</td>\n",
       "    </tr>\n",
       "    <tr>\n",
       "      <th>4</th>\n",
       "      <td>[Much, like, the, regular, bottling, from, thi...</td>\n",
       "      <td>54</td>\n",
       "    </tr>\n",
       "  </tbody>\n",
       "</table>\n",
       "</div>"
      ],
      "text/plain": [
       "                                              Review  Word Count\n",
       "0  [Aromas, include, tropical, fruit, broom, brim...          31\n",
       "1  [This, is, ripe, and, fruity, a, wine, that, i...          49\n",
       "2  [Tart, and, snappy, the, flavors, of, lime, fl...          34\n",
       "3  [Pineapple, rind, lemon, pith, and, orange, bl...          39\n",
       "4  [Much, like, the, regular, bottling, from, thi...          54"
      ]
     },
     "execution_count": 13,
     "metadata": {},
     "output_type": "execute_result"
    }
   ],
   "source": [
    "# Convert to DataFrame\n",
    "description_data = pd.DataFrame({\"Review\": review, \n",
    "                            \"Word Count\": count})\n",
    "description_data.head()"
   ]
  },
  {
   "cell_type": "code",
   "execution_count": 14,
   "metadata": {},
   "outputs": [
    {
     "data": {
      "text/html": [
       "<div>\n",
       "<style scoped>\n",
       "    .dataframe tbody tr th:only-of-type {\n",
       "        vertical-align: middle;\n",
       "    }\n",
       "\n",
       "    .dataframe tbody tr th {\n",
       "        vertical-align: top;\n",
       "    }\n",
       "\n",
       "    .dataframe thead th {\n",
       "        text-align: right;\n",
       "    }\n",
       "</style>\n",
       "<table border=\"1\" class=\"dataframe\">\n",
       "  <thead>\n",
       "    <tr style=\"text-align: right;\">\n",
       "      <th></th>\n",
       "      <th>index</th>\n",
       "      <th>Score</th>\n",
       "      <th>Review</th>\n",
       "      <th>Word Count</th>\n",
       "    </tr>\n",
       "  </thead>\n",
       "  <tbody>\n",
       "    <tr>\n",
       "      <th>0</th>\n",
       "      <td>0</td>\n",
       "      <td>87</td>\n",
       "      <td>[Aromas, include, tropical, fruit, broom, brim...</td>\n",
       "      <td>31</td>\n",
       "    </tr>\n",
       "    <tr>\n",
       "      <th>1</th>\n",
       "      <td>1</td>\n",
       "      <td>87</td>\n",
       "      <td>[This, is, ripe, and, fruity, a, wine, that, i...</td>\n",
       "      <td>49</td>\n",
       "    </tr>\n",
       "    <tr>\n",
       "      <th>2</th>\n",
       "      <td>2</td>\n",
       "      <td>87</td>\n",
       "      <td>[Tart, and, snappy, the, flavors, of, lime, fl...</td>\n",
       "      <td>34</td>\n",
       "    </tr>\n",
       "    <tr>\n",
       "      <th>3</th>\n",
       "      <td>3</td>\n",
       "      <td>87</td>\n",
       "      <td>[Pineapple, rind, lemon, pith, and, orange, bl...</td>\n",
       "      <td>39</td>\n",
       "    </tr>\n",
       "    <tr>\n",
       "      <th>4</th>\n",
       "      <td>4</td>\n",
       "      <td>87</td>\n",
       "      <td>[Much, like, the, regular, bottling, from, thi...</td>\n",
       "      <td>54</td>\n",
       "    </tr>\n",
       "  </tbody>\n",
       "</table>\n",
       "</div>"
      ],
      "text/plain": [
       "   index  Score                                             Review  Word Count\n",
       "0      0     87  [Aromas, include, tropical, fruit, broom, brim...          31\n",
       "1      1     87  [This, is, ripe, and, fruity, a, wine, that, i...          49\n",
       "2      2     87  [Tart, and, snappy, the, flavors, of, lime, fl...          34\n",
       "3      3     87  [Pineapple, rind, lemon, pith, and, orange, bl...          39\n",
       "4      4     87  [Much, like, the, regular, bottling, from, thi...          54"
      ]
     },
     "execution_count": 14,
     "metadata": {},
     "output_type": "execute_result"
    }
   ],
   "source": [
    "merged = pd.merge(df3, description_data, left_index=True, right_index=True)\n",
    "merged.head()"
   ]
  },
  {
   "cell_type": "code",
   "execution_count": 18,
   "metadata": {},
   "outputs": [
    {
     "data": {
      "text/html": [
       "<div>\n",
       "<style scoped>\n",
       "    .dataframe tbody tr th:only-of-type {\n",
       "        vertical-align: middle;\n",
       "    }\n",
       "\n",
       "    .dataframe tbody tr th {\n",
       "        vertical-align: top;\n",
       "    }\n",
       "\n",
       "    .dataframe thead th {\n",
       "        text-align: right;\n",
       "    }\n",
       "</style>\n",
       "<table border=\"1\" class=\"dataframe\">\n",
       "  <thead>\n",
       "    <tr style=\"text-align: right;\">\n",
       "      <th></th>\n",
       "      <th>Score</th>\n",
       "      <th>Average Word Count</th>\n",
       "    </tr>\n",
       "  </thead>\n",
       "  <tbody>\n",
       "    <tr>\n",
       "      <th>0</th>\n",
       "      <td>80</td>\n",
       "      <td>31.596977</td>\n",
       "    </tr>\n",
       "    <tr>\n",
       "      <th>1</th>\n",
       "      <td>81</td>\n",
       "      <td>32.330925</td>\n",
       "    </tr>\n",
       "    <tr>\n",
       "      <th>2</th>\n",
       "      <td>82</td>\n",
       "      <td>33.698257</td>\n",
       "    </tr>\n",
       "    <tr>\n",
       "      <th>3</th>\n",
       "      <td>83</td>\n",
       "      <td>37.549091</td>\n",
       "    </tr>\n",
       "    <tr>\n",
       "      <th>4</th>\n",
       "      <td>84</td>\n",
       "      <td>39.000926</td>\n",
       "    </tr>\n",
       "  </tbody>\n",
       "</table>\n",
       "</div>"
      ],
      "text/plain": [
       "   Score  Average Word Count\n",
       "0     80           31.596977\n",
       "1     81           32.330925\n",
       "2     82           33.698257\n",
       "3     83           37.549091\n",
       "4     84           39.000926"
      ]
     },
     "execution_count": 18,
     "metadata": {},
     "output_type": "execute_result"
    }
   ],
   "source": [
    "wordCount = merged.groupby([\"Score\"]).mean()[\"Word Count\"].rename(\"Average Word Count\")\n",
    "\n",
    "# Convert to DataFrame\n",
    "word_data = pd.DataFrame({\"Average Word Count\": wordCount})\n",
    "\n",
    "# Reset index\n",
    "wordData = word_data.reset_index()\n",
    "\n",
    "# Display dataframe\n",
    "wordData.head()"
   ]
  },
  {
   "cell_type": "code",
   "execution_count": 16,
   "metadata": {},
   "outputs": [
    {
     "data": {
      "text/plain": [
       "Text(0.5,1,'Word Count VS. Score')"
      ]
     },
     "execution_count": 16,
     "metadata": {},
     "output_type": "execute_result"
    },
    {
     "data": {
      "image/png": "[encoded data removed]",
      "text/plain": [
       "<matplotlib.figure.Figure at 0x1a2c1d2c50>"
      ]
     },
     "metadata": {},
     "output_type": "display_data"
    }
   ],
   "source": [
    "# Create graph \n",
    "graph = sns.lmplot(x=\"Score\", y=\"Average Word Count\", data=wordData, aspect=1)\n",
    "graph.set(xlabel=\"Score\", ylabel=\"Word Count\")\n",
    "plt.title(\"Word Count VS. Score\")\n",
    "\n",
    "# # save graph \n",
    "# plt.savefig(\"team_roster_ex.png\")"
   ]
  },
  {
   "cell_type": "code",
   "execution_count": 17,
   "metadata": {},
   "outputs": [
    {
     "name": "stdout",
     "output_type": "stream",
     "text": [
      "r_squared =  0.9861399043154432\n",
      "p_value =  4.0399050964539434e-19\n"
     ]
    }
   ],
   "source": [
    "#calulate the linear regression r-squared and p_value\n",
    "# SIGNIFICANT\n",
    "import scipy.stats as stats\n",
    "slope, intercept, r_value, p_value, std_err = stats.linregress(x=wordData[\"Score\"], y=wordData[\"Average Word Count\"])\n",
    "r_squared=r_value**2\n",
    "print(\"r_squared = \" , r_squared )\n",
    "print(\"p_value = \", p_value)"
   ]
  },
  {
   "cell_type": "code",
   "execution_count": null,
   "metadata": {},
   "outputs": [],
   "source": []
  }
 ],
 "metadata": {
  "kernelspec": {
   "display_name": "Python 3",
   "language": "python",
   "name": "python3"
  },
  "language_info": {
   "codemirror_mode": {
    "name": "ipython",
    "version": 3
   },
   "file_extension": ".py",
   "mimetype": "text/x-python",
   "name": "python",
   "nbconvert_exporter": "python",
   "pygments_lexer": "ipython3",
   "version": "3.6.4"
  }
 },
 "nbformat": 4,
 "nbformat_minor": 2
}
